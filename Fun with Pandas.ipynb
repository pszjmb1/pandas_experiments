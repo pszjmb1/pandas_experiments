{
 "metadata": {
  "name": "",
  "signature": "sha256:f21f06a29cd2f36890baabb0cb6a4433b3fab479fb7a91c10838884221788e6d"
 },
 "nbformat": 3,
 "nbformat_minor": 0,
 "worksheets": [
  {
   "cells": [
    {
     "cell_type": "markdown",
     "metadata": {},
     "source": [
      "# 10 Minutes to pandas\n",
      "From http://pandas.pydata.org/pandas-docs/stable/10min.html\n",
      "and http://pandas.pydata.org/pandas-docs/stable/basics.htm"
     ]
    },
    {
     "cell_type": "code",
     "collapsed": false,
     "input": [
      "import pandas as pd\n",
      "import numpy as np\n",
      "import matplotlib.pyplot as plt"
     ],
     "language": "python",
     "metadata": {},
     "outputs": [],
     "prompt_number": 1
    },
    {
     "cell_type": "markdown",
     "metadata": {},
     "source": [
      "#Object Creation"
     ]
    },
    {
     "cell_type": "markdown",
     "metadata": {},
     "source": [
      "##Creating a Series"
     ]
    },
    {
     "cell_type": "code",
     "collapsed": false,
     "input": [
      "s = pd.Series([1,3,5,np.nan,6,8])\n",
      "s"
     ],
     "language": "python",
     "metadata": {},
     "outputs": [
      {
       "metadata": {},
       "output_type": "pyout",
       "prompt_number": 2,
       "text": [
        "0     1\n",
        "1     3\n",
        "2     5\n",
        "3   NaN\n",
        "4     6\n",
        "5     8\n",
        "dtype: float64"
       ]
      }
     ],
     "prompt_number": 2
    },
    {
     "cell_type": "markdown",
     "metadata": {},
     "source": [
      "##Creating a DataFrame by passing a numpy array"
     ]
    },
    {
     "cell_type": "code",
     "collapsed": false,
     "input": [
      "df = pd.DataFrame(np.random.randn(6,4), index=pd.date_range('20130101', periods=6)\n",
      ", columns=list('ABCD'))\n",
      "df"
     ],
     "language": "python",
     "metadata": {},
     "outputs": [
      {
       "html": [
        "<div style=\"max-height:1000px;max-width:1500px;overflow:auto;\">\n",
        "<table border=\"1\" class=\"dataframe\">\n",
        "  <thead>\n",
        "    <tr style=\"text-align: right;\">\n",
        "      <th></th>\n",
        "      <th>A</th>\n",
        "      <th>B</th>\n",
        "      <th>C</th>\n",
        "      <th>D</th>\n",
        "    </tr>\n",
        "  </thead>\n",
        "  <tbody>\n",
        "    <tr>\n",
        "      <th>2013-01-01</th>\n",
        "      <td>-0.614202</td>\n",
        "      <td> 0.042476</td>\n",
        "      <td>-1.060533</td>\n",
        "      <td> 0.281544</td>\n",
        "    </tr>\n",
        "    <tr>\n",
        "      <th>2013-01-02</th>\n",
        "      <td> 1.602192</td>\n",
        "      <td> 2.241403</td>\n",
        "      <td>-0.330993</td>\n",
        "      <td>-0.584948</td>\n",
        "    </tr>\n",
        "    <tr>\n",
        "      <th>2013-01-03</th>\n",
        "      <td>-2.402252</td>\n",
        "      <td> 0.058440</td>\n",
        "      <td> 0.595512</td>\n",
        "      <td>-1.895342</td>\n",
        "    </tr>\n",
        "    <tr>\n",
        "      <th>2013-01-04</th>\n",
        "      <td> 1.489735</td>\n",
        "      <td>-2.288780</td>\n",
        "      <td>-0.274203</td>\n",
        "      <td> 1.848972</td>\n",
        "    </tr>\n",
        "    <tr>\n",
        "      <th>2013-01-05</th>\n",
        "      <td> 0.308056</td>\n",
        "      <td> 0.135790</td>\n",
        "      <td>-1.773053</td>\n",
        "      <td> 0.417936</td>\n",
        "    </tr>\n",
        "    <tr>\n",
        "      <th>2013-01-06</th>\n",
        "      <td> 1.494492</td>\n",
        "      <td> 0.233300</td>\n",
        "      <td> 0.784898</td>\n",
        "      <td> 0.475344</td>\n",
        "    </tr>\n",
        "  </tbody>\n",
        "</table>\n",
        "</div>"
       ],
       "metadata": {},
       "output_type": "pyout",
       "prompt_number": 5,
       "text": [
        "                   A         B         C         D\n",
        "2013-01-01 -0.614202  0.042476 -1.060533  0.281544\n",
        "2013-01-02  1.602192  2.241403 -0.330993 -0.584948\n",
        "2013-01-03 -2.402252  0.058440  0.595512 -1.895342\n",
        "2013-01-04  1.489735 -2.288780 -0.274203  1.848972\n",
        "2013-01-05  0.308056  0.135790 -1.773053  0.417936\n",
        "2013-01-06  1.494492  0.233300  0.784898  0.475344"
       ]
      }
     ],
     "prompt_number": 5
    },
    {
     "cell_type": "markdown",
     "metadata": {},
     "source": [
      "##Creating a DataFrame by passing a dict of objects"
     ]
    },
    {
     "cell_type": "code",
     "collapsed": false,
     "input": [
      "df2 = pd.DataFrame({ 'A' : 1.,\n",
      "                    'B' : pd.Timestamp('20130102'),\n",
      "                    'C' : pd.Series(1,index=list(range(4)),dtype='float32'),\n",
      "                    'D' : np.array([3] * 4,dtype='int32'),\n",
      "                    'E' : pd.Categorical([\"test\",\"train\",\"test\",\"train\"]),\n",
      "                    'F' : 'foo' })\n",
      "df2"
     ],
     "language": "python",
     "metadata": {},
     "outputs": [
      {
       "html": [
        "<div style=\"max-height:1000px;max-width:1500px;overflow:auto;\">\n",
        "<table border=\"1\" class=\"dataframe\">\n",
        "  <thead>\n",
        "    <tr style=\"text-align: right;\">\n",
        "      <th></th>\n",
        "      <th>A</th>\n",
        "      <th>B</th>\n",
        "      <th>C</th>\n",
        "      <th>D</th>\n",
        "      <th>E</th>\n",
        "      <th>F</th>\n",
        "    </tr>\n",
        "  </thead>\n",
        "  <tbody>\n",
        "    <tr>\n",
        "      <th>0</th>\n",
        "      <td> 1</td>\n",
        "      <td>2013-01-02</td>\n",
        "      <td> 1</td>\n",
        "      <td> 3</td>\n",
        "      <td>  test</td>\n",
        "      <td> foo</td>\n",
        "    </tr>\n",
        "    <tr>\n",
        "      <th>1</th>\n",
        "      <td> 1</td>\n",
        "      <td>2013-01-02</td>\n",
        "      <td> 1</td>\n",
        "      <td> 3</td>\n",
        "      <td> train</td>\n",
        "      <td> foo</td>\n",
        "    </tr>\n",
        "    <tr>\n",
        "      <th>2</th>\n",
        "      <td> 1</td>\n",
        "      <td>2013-01-02</td>\n",
        "      <td> 1</td>\n",
        "      <td> 3</td>\n",
        "      <td>  test</td>\n",
        "      <td> foo</td>\n",
        "    </tr>\n",
        "    <tr>\n",
        "      <th>3</th>\n",
        "      <td> 1</td>\n",
        "      <td>2013-01-02</td>\n",
        "      <td> 1</td>\n",
        "      <td> 3</td>\n",
        "      <td> train</td>\n",
        "      <td> foo</td>\n",
        "    </tr>\n",
        "  </tbody>\n",
        "</table>\n",
        "</div>"
       ],
       "metadata": {},
       "output_type": "pyout",
       "prompt_number": 8,
       "text": [
        "   A          B  C  D      E    F\n",
        "0  1 2013-01-02  1  3   test  foo\n",
        "1  1 2013-01-02  1  3  train  foo\n",
        "2  1 2013-01-02  1  3   test  foo\n",
        "3  1 2013-01-02  1  3  train  foo"
       ]
      }
     ],
     "prompt_number": 8
    },
    {
     "cell_type": "markdown",
     "metadata": {},
     "source": [
      "## Create a panel"
     ]
    },
    {
     "cell_type": "code",
     "collapsed": false,
     "input": [
      "wp = pd.Panel(np.random.randn(2, 5, 4), items=['Item1', 'Item2'],\n",
      "              major_axis=pd.date_range('1/1/2000', periods=5),\n",
      "              minor_axis=['A', 'B', 'C', 'D'])\n",
      "wp"
     ],
     "language": "python",
     "metadata": {},
     "outputs": [
      {
       "metadata": {},
       "output_type": "pyout",
       "prompt_number": 25,
       "text": [
        "<class 'pandas.core.panel.Panel'>\n",
        "Dimensions: 2 (items) x 5 (major_axis) x 4 (minor_axis)\n",
        "Items axis: Item1 to Item2\n",
        "Major_axis axis: 2000-01-01 00:00:00 to 2000-01-05 00:00:00\n",
        "Minor_axis axis: A to D"
       ]
      }
     ],
     "prompt_number": 25
    },
    {
     "cell_type": "markdown",
     "metadata": {},
     "source": [
      "## Examining the dataframes"
     ]
    },
    {
     "cell_type": "code",
     "collapsed": false,
     "input": [
      "print df.dtypes\n",
      "df2.dtypes"
     ],
     "language": "python",
     "metadata": {},
     "outputs": [
      {
       "output_type": "stream",
       "stream": "stdout",
       "text": [
        "A    float64\n",
        "B    float64\n",
        "C    float64\n",
        "D    float64\n",
        "dtype: object\n"
       ]
      },
      {
       "metadata": {},
       "output_type": "pyout",
       "prompt_number": 9,
       "text": [
        "A           float64\n",
        "B    datetime64[ns]\n",
        "C           float32\n",
        "D             int32\n",
        "E            object\n",
        "F            object\n",
        "dtype: object"
       ]
      }
     ],
     "prompt_number": 9
    },
    {
     "cell_type": "code",
     "collapsed": false,
     "input": [
      "df2.var"
     ],
     "language": "python",
     "metadata": {},
     "outputs": [
      {
       "metadata": {},
       "output_type": "pyout",
       "prompt_number": 10,
       "text": [
        "<bound method DataFrame.var of    A          B  C  D      E    F\n",
        "0  1 2013-01-02  1  3   test  foo\n",
        "1  1 2013-01-02  1  3  train  foo\n",
        "2  1 2013-01-02  1  3   test  foo\n",
        "3  1 2013-01-02  1  3  train  foo>"
       ]
      }
     ],
     "prompt_number": 10
    },
    {
     "cell_type": "code",
     "collapsed": false,
     "input": [
      "df.T"
     ],
     "language": "python",
     "metadata": {},
     "outputs": [
      {
       "html": [
        "<div style=\"max-height:1000px;max-width:1500px;overflow:auto;\">\n",
        "<table border=\"1\" class=\"dataframe\">\n",
        "  <thead>\n",
        "    <tr style=\"text-align: right;\">\n",
        "      <th></th>\n",
        "      <th>2013-01-01 00:00:00</th>\n",
        "      <th>2013-01-02 00:00:00</th>\n",
        "      <th>2013-01-03 00:00:00</th>\n",
        "      <th>2013-01-04 00:00:00</th>\n",
        "      <th>2013-01-05 00:00:00</th>\n",
        "      <th>2013-01-06 00:00:00</th>\n",
        "    </tr>\n",
        "  </thead>\n",
        "  <tbody>\n",
        "    <tr>\n",
        "      <th>A</th>\n",
        "      <td>-0.614202</td>\n",
        "      <td> 1.602192</td>\n",
        "      <td>-2.402252</td>\n",
        "      <td> 1.489735</td>\n",
        "      <td> 0.308056</td>\n",
        "      <td> 1.494492</td>\n",
        "    </tr>\n",
        "    <tr>\n",
        "      <th>B</th>\n",
        "      <td> 0.042476</td>\n",
        "      <td> 2.241403</td>\n",
        "      <td> 0.058440</td>\n",
        "      <td>-2.288780</td>\n",
        "      <td> 0.135790</td>\n",
        "      <td> 0.233300</td>\n",
        "    </tr>\n",
        "    <tr>\n",
        "      <th>C</th>\n",
        "      <td>-1.060533</td>\n",
        "      <td>-0.330993</td>\n",
        "      <td> 0.595512</td>\n",
        "      <td>-0.274203</td>\n",
        "      <td>-1.773053</td>\n",
        "      <td> 0.784898</td>\n",
        "    </tr>\n",
        "    <tr>\n",
        "      <th>D</th>\n",
        "      <td> 0.281544</td>\n",
        "      <td>-0.584948</td>\n",
        "      <td>-1.895342</td>\n",
        "      <td> 1.848972</td>\n",
        "      <td> 0.417936</td>\n",
        "      <td> 0.475344</td>\n",
        "    </tr>\n",
        "  </tbody>\n",
        "</table>\n",
        "</div>"
       ],
       "metadata": {},
       "output_type": "pyout",
       "prompt_number": 11,
       "text": [
        "   2013-01-01  2013-01-02  2013-01-03  2013-01-04  2013-01-05  2013-01-06\n",
        "A   -0.614202    1.602192   -2.402252    1.489735    0.308056    1.494492\n",
        "B    0.042476    2.241403    0.058440   -2.288780    0.135790    0.233300\n",
        "C   -1.060533   -0.330993    0.595512   -0.274203   -1.773053    0.784898\n",
        "D    0.281544   -0.584948   -1.895342    1.848972    0.417936    0.475344"
       ]
      }
     ],
     "prompt_number": 11
    },
    {
     "cell_type": "code",
     "collapsed": false,
     "input": [
      "df.all"
     ],
     "language": "python",
     "metadata": {},
     "outputs": [
      {
       "metadata": {},
       "output_type": "pyout",
       "prompt_number": 12,
       "text": [
        "<bound method DataFrame.all of                    A         B         C         D\n",
        "2013-01-01 -0.614202  0.042476 -1.060533  0.281544\n",
        "2013-01-02  1.602192  2.241403 -0.330993 -0.584948\n",
        "2013-01-03 -2.402252  0.058440  0.595512 -1.895342\n",
        "2013-01-04  1.489735 -2.288780 -0.274203  1.848972\n",
        "2013-01-05  0.308056  0.135790 -1.773053  0.417936\n",
        "2013-01-06  1.494492  0.233300  0.784898  0.475344>"
       ]
      }
     ],
     "prompt_number": 12
    },
    {
     "cell_type": "code",
     "collapsed": false,
     "input": [
      "df.columns"
     ],
     "language": "python",
     "metadata": {},
     "outputs": [
      {
       "metadata": {},
       "output_type": "pyout",
       "prompt_number": 13,
       "text": [
        "Index([u'A', u'B', u'C', u'D'], dtype='object')"
       ]
      }
     ],
     "prompt_number": 13
    },
    {
     "cell_type": "code",
     "collapsed": false,
     "input": [
      "df.index"
     ],
     "language": "python",
     "metadata": {},
     "outputs": [
      {
       "metadata": {},
       "output_type": "pyout",
       "prompt_number": 27,
       "text": [
        "<class 'pandas.tseries.index.DatetimeIndex'>\n",
        "[2013-01-01, ..., 2013-01-06]\n",
        "Length: 6, Freq: D, Timezone: None"
       ]
      }
     ],
     "prompt_number": 27
    },
    {
     "cell_type": "code",
     "collapsed": false,
     "input": [
      "df[:2]"
     ],
     "language": "python",
     "metadata": {},
     "outputs": [
      {
       "html": [
        "<div style=\"max-height:1000px;max-width:1500px;overflow:auto;\">\n",
        "<table border=\"1\" class=\"dataframe\">\n",
        "  <thead>\n",
        "    <tr style=\"text-align: right;\">\n",
        "      <th></th>\n",
        "      <th>A</th>\n",
        "      <th>B</th>\n",
        "      <th>C</th>\n",
        "      <th>D</th>\n",
        "    </tr>\n",
        "  </thead>\n",
        "  <tbody>\n",
        "    <tr>\n",
        "      <th>2013-01-01</th>\n",
        "      <td>-0.614202</td>\n",
        "      <td> 0.042476</td>\n",
        "      <td>-1.060533</td>\n",
        "      <td> 0.281544</td>\n",
        "    </tr>\n",
        "    <tr>\n",
        "      <th>2013-01-02</th>\n",
        "      <td> 1.602192</td>\n",
        "      <td> 2.241403</td>\n",
        "      <td>-0.330993</td>\n",
        "      <td>-0.584948</td>\n",
        "    </tr>\n",
        "  </tbody>\n",
        "</table>\n",
        "</div>"
       ],
       "metadata": {},
       "output_type": "pyout",
       "prompt_number": 15,
       "text": [
        "                   A         B         C         D\n",
        "2013-01-01 -0.614202  0.042476 -1.060533  0.281544\n",
        "2013-01-02  1.602192  2.241403 -0.330993 -0.584948"
       ]
      }
     ],
     "prompt_number": 15
    },
    {
     "cell_type": "code",
     "collapsed": false,
     "input": [
      "df[2:]"
     ],
     "language": "python",
     "metadata": {},
     "outputs": [
      {
       "html": [
        "<div style=\"max-height:1000px;max-width:1500px;overflow:auto;\">\n",
        "<table border=\"1\" class=\"dataframe\">\n",
        "  <thead>\n",
        "    <tr style=\"text-align: right;\">\n",
        "      <th></th>\n",
        "      <th>A</th>\n",
        "      <th>B</th>\n",
        "      <th>C</th>\n",
        "      <th>D</th>\n",
        "    </tr>\n",
        "  </thead>\n",
        "  <tbody>\n",
        "    <tr>\n",
        "      <th>2013-01-03</th>\n",
        "      <td>-2.402252</td>\n",
        "      <td> 0.05844</td>\n",
        "      <td> 0.595512</td>\n",
        "      <td>-1.895342</td>\n",
        "    </tr>\n",
        "    <tr>\n",
        "      <th>2013-01-04</th>\n",
        "      <td> 1.489735</td>\n",
        "      <td>-2.28878</td>\n",
        "      <td>-0.274203</td>\n",
        "      <td> 1.848972</td>\n",
        "    </tr>\n",
        "    <tr>\n",
        "      <th>2013-01-05</th>\n",
        "      <td> 0.308056</td>\n",
        "      <td> 0.13579</td>\n",
        "      <td>-1.773053</td>\n",
        "      <td> 0.417936</td>\n",
        "    </tr>\n",
        "    <tr>\n",
        "      <th>2013-01-06</th>\n",
        "      <td> 1.494492</td>\n",
        "      <td> 0.23330</td>\n",
        "      <td> 0.784898</td>\n",
        "      <td> 0.475344</td>\n",
        "    </tr>\n",
        "  </tbody>\n",
        "</table>\n",
        "</div>"
       ],
       "metadata": {},
       "output_type": "pyout",
       "prompt_number": 16,
       "text": [
        "                   A        B         C         D\n",
        "2013-01-03 -2.402252  0.05844  0.595512 -1.895342\n",
        "2013-01-04  1.489735 -2.28878 -0.274203  1.848972\n",
        "2013-01-05  0.308056  0.13579 -1.773053  0.417936\n",
        "2013-01-06  1.494492  0.23330  0.784898  0.475344"
       ]
      }
     ],
     "prompt_number": 16
    },
    {
     "cell_type": "code",
     "collapsed": false,
     "input": [
      "print s.values\n",
      "print df.values\n",
      "wp.values"
     ],
     "language": "python",
     "metadata": {},
     "outputs": [
      {
       "output_type": "stream",
       "stream": "stdout",
       "text": [
        "[  1.   3.   5.  nan   6.   8.]\n",
        "[[-0.61420229  0.0424759  -1.06053291  0.28154368]\n",
        " [ 1.60219247  2.24140315 -0.33099339 -0.58494842]\n",
        " [-2.40225195  0.05843957  0.59551244 -1.89534179]\n",
        " [ 1.48973468 -2.28877975 -0.27420302  1.84897183]\n",
        " [ 0.30805595  0.13578978 -1.77305265  0.4179356 ]\n",
        " [ 1.49449215  0.23329978  0.78489767  0.47534374]]\n"
       ]
      },
      {
       "metadata": {},
       "output_type": "pyout",
       "prompt_number": 26,
       "text": [
        "array([[[-0.55170998, -1.49479508, -1.59716869,  0.17833934],\n",
        "        [-0.98767192, -0.26073382, -0.4474023 , -0.65722338],\n",
        "        [ 0.03686406, -0.32351129, -0.32887511, -0.06545153],\n",
        "        [ 1.16813252, -2.60819957, -1.27858635, -0.44541161],\n",
        "        [-0.94140124, -0.77789381, -0.4541703 , -0.74971538]],\n",
        "\n",
        "       [[-1.27040084, -1.17470843, -0.03466504,  1.15361768],\n",
        "        [-1.51888802,  1.08107708,  0.93455097, -1.24181088],\n",
        "        [ 1.47834859,  1.00578686, -0.25632817,  1.66887394],\n",
        "        [ 0.49095915,  3.24024887, -0.50037795, -0.37857297],\n",
        "        [ 1.45170457, -1.62691606,  0.43392764,  0.22069279]]])"
       ]
      }
     ],
     "prompt_number": 26
    },
    {
     "cell_type": "code",
     "collapsed": false,
     "input": [
      "df.describe()"
     ],
     "language": "python",
     "metadata": {},
     "outputs": [
      {
       "html": [
        "<div style=\"max-height:1000px;max-width:1500px;overflow:auto;\">\n",
        "<table border=\"1\" class=\"dataframe\">\n",
        "  <thead>\n",
        "    <tr style=\"text-align: right;\">\n",
        "      <th></th>\n",
        "      <th>a</th>\n",
        "      <th>b</th>\n",
        "      <th>c</th>\n",
        "      <th>d</th>\n",
        "    </tr>\n",
        "  </thead>\n",
        "  <tbody>\n",
        "    <tr>\n",
        "      <th>count</th>\n",
        "      <td> 6.000000</td>\n",
        "      <td> 6.000000</td>\n",
        "      <td> 6.000000</td>\n",
        "      <td> 6.000000</td>\n",
        "    </tr>\n",
        "    <tr>\n",
        "      <th>mean</th>\n",
        "      <td> 0.313004</td>\n",
        "      <td> 0.070438</td>\n",
        "      <td>-0.343062</td>\n",
        "      <td> 0.090584</td>\n",
        "    </tr>\n",
        "    <tr>\n",
        "      <th>std</th>\n",
        "      <td> 1.592166</td>\n",
        "      <td> 1.436017</td>\n",
        "      <td> 0.971364</td>\n",
        "      <td> 1.247705</td>\n",
        "    </tr>\n",
        "    <tr>\n",
        "      <th>min</th>\n",
        "      <td>-2.402252</td>\n",
        "      <td>-2.288780</td>\n",
        "      <td>-1.773053</td>\n",
        "      <td>-1.895342</td>\n",
        "    </tr>\n",
        "    <tr>\n",
        "      <th>25%</th>\n",
        "      <td>-0.383638</td>\n",
        "      <td> 0.046467</td>\n",
        "      <td>-0.878148</td>\n",
        "      <td>-0.368325</td>\n",
        "    </tr>\n",
        "    <tr>\n",
        "      <th>50%</th>\n",
        "      <td> 0.898895</td>\n",
        "      <td> 0.097115</td>\n",
        "      <td>-0.302598</td>\n",
        "      <td> 0.349740</td>\n",
        "    </tr>\n",
        "    <tr>\n",
        "      <th>75%</th>\n",
        "      <td> 1.493303</td>\n",
        "      <td> 0.208922</td>\n",
        "      <td> 0.378084</td>\n",
        "      <td> 0.460992</td>\n",
        "    </tr>\n",
        "    <tr>\n",
        "      <th>max</th>\n",
        "      <td> 1.602192</td>\n",
        "      <td> 2.241403</td>\n",
        "      <td> 0.784898</td>\n",
        "      <td> 1.848972</td>\n",
        "    </tr>\n",
        "  </tbody>\n",
        "</table>\n",
        "</div>"
       ],
       "metadata": {},
       "output_type": "pyout",
       "prompt_number": 28,
       "text": [
        "              a         b         c         d\n",
        "count  6.000000  6.000000  6.000000  6.000000\n",
        "mean   0.313004  0.070438 -0.343062  0.090584\n",
        "std    1.592166  1.436017  0.971364  1.247705\n",
        "min   -2.402252 -2.288780 -1.773053 -1.895342\n",
        "25%   -0.383638  0.046467 -0.878148 -0.368325\n",
        "50%    0.898895  0.097115 -0.302598  0.349740\n",
        "75%    1.493303  0.208922  0.378084  0.460992\n",
        "max    1.602192  2.241403  0.784898  1.848972"
       ]
      }
     ],
     "prompt_number": 28
    },
    {
     "cell_type": "code",
     "collapsed": false,
     "input": [
      "s.describe()"
     ],
     "language": "python",
     "metadata": {},
     "outputs": [
      {
       "metadata": {},
       "output_type": "pyout",
       "prompt_number": 29,
       "text": [
        "count    5.000000\n",
        "mean     4.600000\n",
        "std      2.701851\n",
        "min      1.000000\n",
        "25%      3.000000\n",
        "50%      5.000000\n",
        "75%      6.000000\n",
        "max      8.000000\n",
        "dtype: float64"
       ]
      }
     ],
     "prompt_number": 29
    },
    {
     "cell_type": "markdown",
     "metadata": {},
     "source": [
      "# Selection\n",
      "## Getting columns"
     ]
    },
    {
     "cell_type": "code",
     "collapsed": false,
     "input": [
      "print df2.E\n",
      "print df2['D']\n",
      "df[['a','c']]"
     ],
     "language": "python",
     "metadata": {},
     "outputs": [
      {
       "output_type": "stream",
       "stream": "stdout",
       "text": [
        "0     test\n",
        "1    train\n",
        "2     test\n",
        "3    train\n",
        "Name: E, dtype: object\n",
        "0    3\n",
        "1    3\n",
        "2    3\n",
        "3    3\n",
        "Name: D, dtype: int32\n"
       ]
      },
      {
       "html": [
        "<div style=\"max-height:1000px;max-width:1500px;overflow:auto;\">\n",
        "<table border=\"1\" class=\"dataframe\">\n",
        "  <thead>\n",
        "    <tr style=\"text-align: right;\">\n",
        "      <th></th>\n",
        "      <th>a</th>\n",
        "      <th>c</th>\n",
        "    </tr>\n",
        "  </thead>\n",
        "  <tbody>\n",
        "    <tr>\n",
        "      <th>2013-01-01</th>\n",
        "      <td>-0.614202</td>\n",
        "      <td>-1.060533</td>\n",
        "    </tr>\n",
        "    <tr>\n",
        "      <th>2013-01-02</th>\n",
        "      <td> 1.602192</td>\n",
        "      <td>-0.330993</td>\n",
        "    </tr>\n",
        "    <tr>\n",
        "      <th>2013-01-03</th>\n",
        "      <td>-2.402252</td>\n",
        "      <td> 0.595512</td>\n",
        "    </tr>\n",
        "    <tr>\n",
        "      <th>2013-01-04</th>\n",
        "      <td> 1.489735</td>\n",
        "      <td>-0.274203</td>\n",
        "    </tr>\n",
        "    <tr>\n",
        "      <th>2013-01-05</th>\n",
        "      <td> 0.308056</td>\n",
        "      <td>-1.773053</td>\n",
        "    </tr>\n",
        "    <tr>\n",
        "      <th>2013-01-06</th>\n",
        "      <td> 1.494492</td>\n",
        "      <td> 0.784898</td>\n",
        "    </tr>\n",
        "  </tbody>\n",
        "</table>\n",
        "</div>"
       ],
       "metadata": {},
       "output_type": "pyout",
       "prompt_number": 42,
       "text": [
        "                   a         c\n",
        "2013-01-01 -0.614202 -1.060533\n",
        "2013-01-02  1.602192 -0.330993\n",
        "2013-01-03 -2.402252  0.595512\n",
        "2013-01-04  1.489735 -0.274203\n",
        "2013-01-05  0.308056 -1.773053\n",
        "2013-01-06  1.494492  0.784898"
       ]
      }
     ],
     "prompt_number": 42
    },
    {
     "cell_type": "markdown",
     "metadata": {},
     "source": [
      "## Getting/Filtering rows"
     ]
    },
    {
     "cell_type": "code",
     "collapsed": false,
     "input": [
      "df[0:3]"
     ],
     "language": "python",
     "metadata": {},
     "outputs": [
      {
       "html": [
        "<div style=\"max-height:1000px;max-width:1500px;overflow:auto;\">\n",
        "<table border=\"1\" class=\"dataframe\">\n",
        "  <thead>\n",
        "    <tr style=\"text-align: right;\">\n",
        "      <th></th>\n",
        "      <th>a</th>\n",
        "      <th>b</th>\n",
        "      <th>c</th>\n",
        "      <th>d</th>\n",
        "    </tr>\n",
        "  </thead>\n",
        "  <tbody>\n",
        "    <tr>\n",
        "      <th>2013-01-01</th>\n",
        "      <td>-0.614202</td>\n",
        "      <td> 0.042476</td>\n",
        "      <td>-1.060533</td>\n",
        "      <td> 0.281544</td>\n",
        "    </tr>\n",
        "    <tr>\n",
        "      <th>2013-01-02</th>\n",
        "      <td> 1.602192</td>\n",
        "      <td> 2.241403</td>\n",
        "      <td>-0.330993</td>\n",
        "      <td>-0.584948</td>\n",
        "    </tr>\n",
        "    <tr>\n",
        "      <th>2013-01-03</th>\n",
        "      <td>-2.402252</td>\n",
        "      <td> 0.058440</td>\n",
        "      <td> 0.595512</td>\n",
        "      <td>-1.895342</td>\n",
        "    </tr>\n",
        "  </tbody>\n",
        "</table>\n",
        "</div>"
       ],
       "metadata": {},
       "output_type": "pyout",
       "prompt_number": 44,
       "text": [
        "                   a         b         c         d\n",
        "2013-01-01 -0.614202  0.042476 -1.060533  0.281544\n",
        "2013-01-02  1.602192  2.241403 -0.330993 -0.584948\n",
        "2013-01-03 -2.402252  0.058440  0.595512 -1.895342"
       ]
      }
     ],
     "prompt_number": 44
    },
    {
     "cell_type": "code",
     "collapsed": false,
     "input": [
      "df['20130102':'20130104']"
     ],
     "language": "python",
     "metadata": {},
     "outputs": [
      {
       "html": [
        "<div style=\"max-height:1000px;max-width:1500px;overflow:auto;\">\n",
        "<table border=\"1\" class=\"dataframe\">\n",
        "  <thead>\n",
        "    <tr style=\"text-align: right;\">\n",
        "      <th></th>\n",
        "      <th>a</th>\n",
        "      <th>b</th>\n",
        "      <th>c</th>\n",
        "      <th>d</th>\n",
        "    </tr>\n",
        "  </thead>\n",
        "  <tbody>\n",
        "    <tr>\n",
        "      <th>2013-01-02</th>\n",
        "      <td> 1.602192</td>\n",
        "      <td> 2.241403</td>\n",
        "      <td>-0.330993</td>\n",
        "      <td>-0.584948</td>\n",
        "    </tr>\n",
        "    <tr>\n",
        "      <th>2013-01-03</th>\n",
        "      <td>-2.402252</td>\n",
        "      <td> 0.058440</td>\n",
        "      <td> 0.595512</td>\n",
        "      <td>-1.895342</td>\n",
        "    </tr>\n",
        "    <tr>\n",
        "      <th>2013-01-04</th>\n",
        "      <td> 1.489735</td>\n",
        "      <td>-2.288780</td>\n",
        "      <td>-0.274203</td>\n",
        "      <td> 1.848972</td>\n",
        "    </tr>\n",
        "  </tbody>\n",
        "</table>\n",
        "</div>"
       ],
       "metadata": {},
       "output_type": "pyout",
       "prompt_number": 45,
       "text": [
        "                   a         b         c         d\n",
        "2013-01-02  1.602192  2.241403 -0.330993 -0.584948\n",
        "2013-01-03 -2.402252  0.058440  0.595512 -1.895342\n",
        "2013-01-04  1.489735 -2.288780 -0.274203  1.848972"
       ]
      }
     ],
     "prompt_number": 45
    },
    {
     "cell_type": "code",
     "collapsed": false,
     "input": [
      "dates = pd.date_range('20130101', periods=6)\n",
      "df = pd.DataFrame(np.random.randn(6,4), index=dates, columns=list('ABCD'))\n",
      "df"
     ],
     "language": "python",
     "metadata": {},
     "outputs": [
      {
       "html": [
        "<div style=\"max-height:1000px;max-width:1500px;overflow:auto;\">\n",
        "<table border=\"1\" class=\"dataframe\">\n",
        "  <thead>\n",
        "    <tr style=\"text-align: right;\">\n",
        "      <th></th>\n",
        "      <th>A</th>\n",
        "      <th>B</th>\n",
        "      <th>C</th>\n",
        "      <th>D</th>\n",
        "    </tr>\n",
        "  </thead>\n",
        "  <tbody>\n",
        "    <tr>\n",
        "      <th>2013-01-01</th>\n",
        "      <td> 1.435477</td>\n",
        "      <td> 0.420006</td>\n",
        "      <td> 0.912153</td>\n",
        "      <td> 0.293857</td>\n",
        "    </tr>\n",
        "    <tr>\n",
        "      <th>2013-01-02</th>\n",
        "      <td> 0.533736</td>\n",
        "      <td> 0.195464</td>\n",
        "      <td> 1.232967</td>\n",
        "      <td> 1.012638</td>\n",
        "    </tr>\n",
        "    <tr>\n",
        "      <th>2013-01-03</th>\n",
        "      <td> 0.029526</td>\n",
        "      <td>-0.953831</td>\n",
        "      <td>-1.020860</td>\n",
        "      <td>-1.524504</td>\n",
        "    </tr>\n",
        "    <tr>\n",
        "      <th>2013-01-04</th>\n",
        "      <td>-0.375673</td>\n",
        "      <td>-0.305868</td>\n",
        "      <td> 0.283911</td>\n",
        "      <td> 0.403089</td>\n",
        "    </tr>\n",
        "    <tr>\n",
        "      <th>2013-01-05</th>\n",
        "      <td> 0.347365</td>\n",
        "      <td> 1.098320</td>\n",
        "      <td>-0.401894</td>\n",
        "      <td>-0.892187</td>\n",
        "    </tr>\n",
        "    <tr>\n",
        "      <th>2013-01-06</th>\n",
        "      <td>-0.764138</td>\n",
        "      <td> 0.759652</td>\n",
        "      <td>-0.407648</td>\n",
        "      <td> 0.892738</td>\n",
        "    </tr>\n",
        "  </tbody>\n",
        "</table>\n",
        "</div>"
       ],
       "metadata": {},
       "output_type": "pyout",
       "prompt_number": 48,
       "text": [
        "                   A         B         C         D\n",
        "2013-01-01  1.435477  0.420006  0.912153  0.293857\n",
        "2013-01-02  0.533736  0.195464  1.232967  1.012638\n",
        "2013-01-03  0.029526 -0.953831 -1.020860 -1.524504\n",
        "2013-01-04 -0.375673 -0.305868  0.283911  0.403089\n",
        "2013-01-05  0.347365  1.098320 -0.401894 -0.892187\n",
        "2013-01-06 -0.764138  0.759652 -0.407648  0.892738"
       ]
      }
     ],
     "prompt_number": 48
    },
    {
     "cell_type": "code",
     "collapsed": false,
     "input": [
      "print df.loc[dates[0]]\n",
      "print df.loc[dates[0:2]]\n",
      "print df.loc[dates[-1]]"
     ],
     "language": "python",
     "metadata": {},
     "outputs": [
      {
       "output_type": "stream",
       "stream": "stdout",
       "text": [
        "A    1.435477\n",
        "B    0.420006\n",
        "C    0.912153\n",
        "D    0.293857\n",
        "Name: 2013-01-01 00:00:00, dtype: float64\n",
        "                   A         B         C         D\n",
        "2013-01-01  1.435477  0.420006  0.912153  0.293857\n",
        "2013-01-02  0.533736  0.195464  1.232967  1.012638\n",
        "A   -0.764138\n",
        "B    0.759652\n",
        "C   -0.407648\n",
        "D    0.892738\n",
        "Name: 2013-01-06 00:00:00, dtype: float64\n"
       ]
      }
     ],
     "prompt_number": 70
    },
    {
     "cell_type": "code",
     "collapsed": false,
     "input": [
      "df.iloc[-1]"
     ],
     "language": "python",
     "metadata": {},
     "outputs": [
      {
       "metadata": {},
       "output_type": "pyout",
       "prompt_number": 68,
       "text": [
        "A   -0.764138\n",
        "B    0.759652\n",
        "C   -0.407648\n",
        "D    0.892738\n",
        "Name: 2013-01-06 00:00:00, dtype: float64"
       ]
      }
     ],
     "prompt_number": 68
    },
    {
     "cell_type": "code",
     "collapsed": false,
     "input": [
      "df"
     ],
     "language": "python",
     "metadata": {},
     "outputs": [
      {
       "html": [
        "<div style=\"max-height:1000px;max-width:1500px;overflow:auto;\">\n",
        "<table border=\"1\" class=\"dataframe\">\n",
        "  <thead>\n",
        "    <tr style=\"text-align: right;\">\n",
        "      <th></th>\n",
        "      <th>A</th>\n",
        "      <th>B</th>\n",
        "      <th>C</th>\n",
        "      <th>D</th>\n",
        "    </tr>\n",
        "  </thead>\n",
        "  <tbody>\n",
        "    <tr>\n",
        "      <th>2013-01-01</th>\n",
        "      <td> 1.435477</td>\n",
        "      <td> 0.420006</td>\n",
        "      <td> 0.912153</td>\n",
        "      <td> 0.293857</td>\n",
        "    </tr>\n",
        "    <tr>\n",
        "      <th>2013-01-02</th>\n",
        "      <td> 0.533736</td>\n",
        "      <td> 0.195464</td>\n",
        "      <td> 1.232967</td>\n",
        "      <td> 1.012638</td>\n",
        "    </tr>\n",
        "    <tr>\n",
        "      <th>2013-01-03</th>\n",
        "      <td> 0.029526</td>\n",
        "      <td>-0.953831</td>\n",
        "      <td>-1.020860</td>\n",
        "      <td>-1.524504</td>\n",
        "    </tr>\n",
        "    <tr>\n",
        "      <th>2013-01-04</th>\n",
        "      <td>-0.375673</td>\n",
        "      <td>-0.305868</td>\n",
        "      <td> 0.283911</td>\n",
        "      <td> 0.403089</td>\n",
        "    </tr>\n",
        "    <tr>\n",
        "      <th>2013-01-05</th>\n",
        "      <td> 0.347365</td>\n",
        "      <td> 1.098320</td>\n",
        "      <td>-0.401894</td>\n",
        "      <td>-0.892187</td>\n",
        "    </tr>\n",
        "    <tr>\n",
        "      <th>2013-01-06</th>\n",
        "      <td>-0.764138</td>\n",
        "      <td> 0.759652</td>\n",
        "      <td>-0.407648</td>\n",
        "      <td> 0.892738</td>\n",
        "    </tr>\n",
        "  </tbody>\n",
        "</table>\n",
        "</div>"
       ],
       "metadata": {},
       "output_type": "pyout",
       "prompt_number": 84,
       "text": [
        "                   A         B         C         D\n",
        "2013-01-01  1.435477  0.420006  0.912153  0.293857\n",
        "2013-01-02  0.533736  0.195464  1.232967  1.012638\n",
        "2013-01-03  0.029526 -0.953831 -1.020860 -1.524504\n",
        "2013-01-04 -0.375673 -0.305868  0.283911  0.403089\n",
        "2013-01-05  0.347365  1.098320 -0.401894 -0.892187\n",
        "2013-01-06 -0.764138  0.759652 -0.407648  0.892738"
       ]
      }
     ],
     "prompt_number": 84
    },
    {
     "cell_type": "code",
     "collapsed": false,
     "input": [
      "df[df.A > 0]"
     ],
     "language": "python",
     "metadata": {},
     "outputs": [
      {
       "html": [
        "<div style=\"max-height:1000px;max-width:1500px;overflow:auto;\">\n",
        "<table border=\"1\" class=\"dataframe\">\n",
        "  <thead>\n",
        "    <tr style=\"text-align: right;\">\n",
        "      <th></th>\n",
        "      <th>A</th>\n",
        "      <th>B</th>\n",
        "      <th>C</th>\n",
        "      <th>D</th>\n",
        "    </tr>\n",
        "  </thead>\n",
        "  <tbody>\n",
        "    <tr>\n",
        "      <th>2013-01-01</th>\n",
        "      <td> 1.435477</td>\n",
        "      <td> 0.420006</td>\n",
        "      <td> 0.912153</td>\n",
        "      <td> 0.293857</td>\n",
        "    </tr>\n",
        "    <tr>\n",
        "      <th>2013-01-02</th>\n",
        "      <td> 0.533736</td>\n",
        "      <td> 0.195464</td>\n",
        "      <td> 1.232967</td>\n",
        "      <td> 1.012638</td>\n",
        "    </tr>\n",
        "    <tr>\n",
        "      <th>2013-01-03</th>\n",
        "      <td> 0.029526</td>\n",
        "      <td>-0.953831</td>\n",
        "      <td>-1.020860</td>\n",
        "      <td>-1.524504</td>\n",
        "    </tr>\n",
        "    <tr>\n",
        "      <th>2013-01-05</th>\n",
        "      <td> 0.347365</td>\n",
        "      <td> 1.098320</td>\n",
        "      <td>-0.401894</td>\n",
        "      <td>-0.892187</td>\n",
        "    </tr>\n",
        "  </tbody>\n",
        "</table>\n",
        "</div>"
       ],
       "metadata": {},
       "output_type": "pyout",
       "prompt_number": 82,
       "text": [
        "                   A         B         C         D\n",
        "2013-01-01  1.435477  0.420006  0.912153  0.293857\n",
        "2013-01-02  0.533736  0.195464  1.232967  1.012638\n",
        "2013-01-03  0.029526 -0.953831 -1.020860 -1.524504\n",
        "2013-01-05  0.347365  1.098320 -0.401894 -0.892187"
       ]
      }
     ],
     "prompt_number": 82
    },
    {
     "cell_type": "code",
     "collapsed": false,
     "input": [
      "df[df > 0]"
     ],
     "language": "python",
     "metadata": {},
     "outputs": [
      {
       "html": [
        "<div style=\"max-height:1000px;max-width:1500px;overflow:auto;\">\n",
        "<table border=\"1\" class=\"dataframe\">\n",
        "  <thead>\n",
        "    <tr style=\"text-align: right;\">\n",
        "      <th></th>\n",
        "      <th>A</th>\n",
        "      <th>B</th>\n",
        "      <th>C</th>\n",
        "      <th>D</th>\n",
        "    </tr>\n",
        "  </thead>\n",
        "  <tbody>\n",
        "    <tr>\n",
        "      <th>2013-01-01</th>\n",
        "      <td> 1.435477</td>\n",
        "      <td> 0.420006</td>\n",
        "      <td> 0.912153</td>\n",
        "      <td> 0.293857</td>\n",
        "    </tr>\n",
        "    <tr>\n",
        "      <th>2013-01-02</th>\n",
        "      <td> 0.533736</td>\n",
        "      <td> 0.195464</td>\n",
        "      <td> 1.232967</td>\n",
        "      <td> 1.012638</td>\n",
        "    </tr>\n",
        "    <tr>\n",
        "      <th>2013-01-03</th>\n",
        "      <td> 0.029526</td>\n",
        "      <td>      NaN</td>\n",
        "      <td>      NaN</td>\n",
        "      <td>      NaN</td>\n",
        "    </tr>\n",
        "    <tr>\n",
        "      <th>2013-01-04</th>\n",
        "      <td>      NaN</td>\n",
        "      <td>      NaN</td>\n",
        "      <td> 0.283911</td>\n",
        "      <td> 0.403089</td>\n",
        "    </tr>\n",
        "    <tr>\n",
        "      <th>2013-01-05</th>\n",
        "      <td> 0.347365</td>\n",
        "      <td> 1.098320</td>\n",
        "      <td>      NaN</td>\n",
        "      <td>      NaN</td>\n",
        "    </tr>\n",
        "    <tr>\n",
        "      <th>2013-01-06</th>\n",
        "      <td>      NaN</td>\n",
        "      <td> 0.759652</td>\n",
        "      <td>      NaN</td>\n",
        "      <td> 0.892738</td>\n",
        "    </tr>\n",
        "  </tbody>\n",
        "</table>\n",
        "</div>"
       ],
       "metadata": {},
       "output_type": "pyout",
       "prompt_number": 83,
       "text": [
        "                   A         B         C         D\n",
        "2013-01-01  1.435477  0.420006  0.912153  0.293857\n",
        "2013-01-02  0.533736  0.195464  1.232967  1.012638\n",
        "2013-01-03  0.029526       NaN       NaN       NaN\n",
        "2013-01-04       NaN       NaN  0.283911  0.403089\n",
        "2013-01-05  0.347365  1.098320       NaN       NaN\n",
        "2013-01-06       NaN  0.759652       NaN  0.892738"
       ]
      }
     ],
     "prompt_number": 83
    },
    {
     "cell_type": "markdown",
     "metadata": {},
     "source": [
      "### Using isin()"
     ]
    },
    {
     "cell_type": "code",
     "collapsed": false,
     "input": [
      "df2 = df.copy()\n",
      "df2['E'] = ['one', 'one','two','three','four','three']\n",
      "df2"
     ],
     "language": "python",
     "metadata": {},
     "outputs": [
      {
       "html": [
        "<div style=\"max-height:1000px;max-width:1500px;overflow:auto;\">\n",
        "<table border=\"1\" class=\"dataframe\">\n",
        "  <thead>\n",
        "    <tr style=\"text-align: right;\">\n",
        "      <th></th>\n",
        "      <th>A</th>\n",
        "      <th>B</th>\n",
        "      <th>C</th>\n",
        "      <th>D</th>\n",
        "      <th>E</th>\n",
        "    </tr>\n",
        "  </thead>\n",
        "  <tbody>\n",
        "    <tr>\n",
        "      <th>2013-01-01</th>\n",
        "      <td> 1.435477</td>\n",
        "      <td> 0.420006</td>\n",
        "      <td> 0.912153</td>\n",
        "      <td> 0.293857</td>\n",
        "      <td>   one</td>\n",
        "    </tr>\n",
        "    <tr>\n",
        "      <th>2013-01-02</th>\n",
        "      <td> 0.533736</td>\n",
        "      <td> 0.195464</td>\n",
        "      <td> 1.232967</td>\n",
        "      <td> 1.012638</td>\n",
        "      <td>   one</td>\n",
        "    </tr>\n",
        "    <tr>\n",
        "      <th>2013-01-03</th>\n",
        "      <td> 0.029526</td>\n",
        "      <td>-0.953831</td>\n",
        "      <td>-1.020860</td>\n",
        "      <td>-1.524504</td>\n",
        "      <td>   two</td>\n",
        "    </tr>\n",
        "    <tr>\n",
        "      <th>2013-01-04</th>\n",
        "      <td>-0.375673</td>\n",
        "      <td>-0.305868</td>\n",
        "      <td> 0.283911</td>\n",
        "      <td> 0.403089</td>\n",
        "      <td> three</td>\n",
        "    </tr>\n",
        "    <tr>\n",
        "      <th>2013-01-05</th>\n",
        "      <td> 0.347365</td>\n",
        "      <td> 1.098320</td>\n",
        "      <td>-0.401894</td>\n",
        "      <td>-0.892187</td>\n",
        "      <td>  four</td>\n",
        "    </tr>\n",
        "    <tr>\n",
        "      <th>2013-01-06</th>\n",
        "      <td>-0.764138</td>\n",
        "      <td> 0.759652</td>\n",
        "      <td>-0.407648</td>\n",
        "      <td> 0.892738</td>\n",
        "      <td> three</td>\n",
        "    </tr>\n",
        "  </tbody>\n",
        "</table>\n",
        "</div>"
       ],
       "metadata": {},
       "output_type": "pyout",
       "prompt_number": 89,
       "text": [
        "                   A         B         C         D      E\n",
        "2013-01-01  1.435477  0.420006  0.912153  0.293857    one\n",
        "2013-01-02  0.533736  0.195464  1.232967  1.012638    one\n",
        "2013-01-03  0.029526 -0.953831 -1.020860 -1.524504    two\n",
        "2013-01-04 -0.375673 -0.305868  0.283911  0.403089  three\n",
        "2013-01-05  0.347365  1.098320 -0.401894 -0.892187   four\n",
        "2013-01-06 -0.764138  0.759652 -0.407648  0.892738  three"
       ]
      }
     ],
     "prompt_number": 89
    },
    {
     "cell_type": "code",
     "collapsed": false,
     "input": [
      "df2[df2['E'].isin(['two','four'])]"
     ],
     "language": "python",
     "metadata": {},
     "outputs": [
      {
       "html": [
        "<div style=\"max-height:1000px;max-width:1500px;overflow:auto;\">\n",
        "<table border=\"1\" class=\"dataframe\">\n",
        "  <thead>\n",
        "    <tr style=\"text-align: right;\">\n",
        "      <th></th>\n",
        "      <th>A</th>\n",
        "      <th>B</th>\n",
        "      <th>C</th>\n",
        "      <th>D</th>\n",
        "      <th>E</th>\n",
        "    </tr>\n",
        "  </thead>\n",
        "  <tbody>\n",
        "    <tr>\n",
        "      <th>2013-01-03</th>\n",
        "      <td> 0.029526</td>\n",
        "      <td>-0.953831</td>\n",
        "      <td>-1.020860</td>\n",
        "      <td>-1.524504</td>\n",
        "      <td>  two</td>\n",
        "    </tr>\n",
        "    <tr>\n",
        "      <th>2013-01-05</th>\n",
        "      <td> 0.347365</td>\n",
        "      <td> 1.098320</td>\n",
        "      <td>-0.401894</td>\n",
        "      <td>-0.892187</td>\n",
        "      <td> four</td>\n",
        "    </tr>\n",
        "  </tbody>\n",
        "</table>\n",
        "</div>"
       ],
       "metadata": {},
       "output_type": "pyout",
       "prompt_number": 90,
       "text": [
        "                   A         B         C         D     E\n",
        "2013-01-03  0.029526 -0.953831 -1.020860 -1.524504   two\n",
        "2013-01-05  0.347365  1.098320 -0.401894 -0.892187  four"
       ]
      }
     ],
     "prompt_number": 90
    },
    {
     "cell_type": "markdown",
     "metadata": {},
     "source": [
      "## Getting Rows and Cols"
     ]
    },
    {
     "cell_type": "code",
     "collapsed": false,
     "input": [
      "df.loc[:,['A','B']]"
     ],
     "language": "python",
     "metadata": {},
     "outputs": [
      {
       "html": [
        "<div style=\"max-height:1000px;max-width:1500px;overflow:auto;\">\n",
        "<table border=\"1\" class=\"dataframe\">\n",
        "  <thead>\n",
        "    <tr style=\"text-align: right;\">\n",
        "      <th></th>\n",
        "      <th>A</th>\n",
        "      <th>B</th>\n",
        "    </tr>\n",
        "  </thead>\n",
        "  <tbody>\n",
        "    <tr>\n",
        "      <th>2013-01-01</th>\n",
        "      <td> 1.435477</td>\n",
        "      <td> 0.420006</td>\n",
        "    </tr>\n",
        "    <tr>\n",
        "      <th>2013-01-02</th>\n",
        "      <td> 0.533736</td>\n",
        "      <td> 0.195464</td>\n",
        "    </tr>\n",
        "    <tr>\n",
        "      <th>2013-01-03</th>\n",
        "      <td> 0.029526</td>\n",
        "      <td>-0.953831</td>\n",
        "    </tr>\n",
        "    <tr>\n",
        "      <th>2013-01-04</th>\n",
        "      <td>-0.375673</td>\n",
        "      <td>-0.305868</td>\n",
        "    </tr>\n",
        "    <tr>\n",
        "      <th>2013-01-05</th>\n",
        "      <td> 0.347365</td>\n",
        "      <td> 1.098320</td>\n",
        "    </tr>\n",
        "    <tr>\n",
        "      <th>2013-01-06</th>\n",
        "      <td>-0.764138</td>\n",
        "      <td> 0.759652</td>\n",
        "    </tr>\n",
        "  </tbody>\n",
        "</table>\n",
        "</div>"
       ],
       "metadata": {},
       "output_type": "pyout",
       "prompt_number": 62,
       "text": [
        "                   A         B\n",
        "2013-01-01  1.435477  0.420006\n",
        "2013-01-02  0.533736  0.195464\n",
        "2013-01-03  0.029526 -0.953831\n",
        "2013-01-04 -0.375673 -0.305868\n",
        "2013-01-05  0.347365  1.098320\n",
        "2013-01-06 -0.764138  0.759652"
       ]
      }
     ],
     "prompt_number": 62
    },
    {
     "cell_type": "code",
     "collapsed": false,
     "input": [
      "df.loc['20130102':'20130104',['A','B']]"
     ],
     "language": "python",
     "metadata": {},
     "outputs": [
      {
       "html": [
        "<div style=\"max-height:1000px;max-width:1500px;overflow:auto;\">\n",
        "<table border=\"1\" class=\"dataframe\">\n",
        "  <thead>\n",
        "    <tr style=\"text-align: right;\">\n",
        "      <th></th>\n",
        "      <th>A</th>\n",
        "      <th>B</th>\n",
        "    </tr>\n",
        "  </thead>\n",
        "  <tbody>\n",
        "    <tr>\n",
        "      <th>2013-01-02</th>\n",
        "      <td> 0.533736</td>\n",
        "      <td> 0.195464</td>\n",
        "    </tr>\n",
        "    <tr>\n",
        "      <th>2013-01-03</th>\n",
        "      <td> 0.029526</td>\n",
        "      <td>-0.953831</td>\n",
        "    </tr>\n",
        "    <tr>\n",
        "      <th>2013-01-04</th>\n",
        "      <td>-0.375673</td>\n",
        "      <td>-0.305868</td>\n",
        "    </tr>\n",
        "  </tbody>\n",
        "</table>\n",
        "</div>"
       ],
       "metadata": {},
       "output_type": "pyout",
       "prompt_number": 63,
       "text": [
        "                   A         B\n",
        "2013-01-02  0.533736  0.195464\n",
        "2013-01-03  0.029526 -0.953831\n",
        "2013-01-04 -0.375673 -0.305868"
       ]
      }
     ],
     "prompt_number": 63
    },
    {
     "cell_type": "code",
     "collapsed": false,
     "input": [
      "df.loc['20130102',['A','B']]"
     ],
     "language": "python",
     "metadata": {},
     "outputs": [
      {
       "metadata": {},
       "output_type": "pyout",
       "prompt_number": 64,
       "text": [
        "A    0.533736\n",
        "B    0.195464\n",
        "Name: 2013-01-02 00:00:00, dtype: float64"
       ]
      }
     ],
     "prompt_number": 64
    },
    {
     "cell_type": "code",
     "collapsed": false,
     "input": [
      "df.iloc[3:5,0:2]"
     ],
     "language": "python",
     "metadata": {},
     "outputs": [
      {
       "html": [
        "<div style=\"max-height:1000px;max-width:1500px;overflow:auto;\">\n",
        "<table border=\"1\" class=\"dataframe\">\n",
        "  <thead>\n",
        "    <tr style=\"text-align: right;\">\n",
        "      <th></th>\n",
        "      <th>A</th>\n",
        "      <th>B</th>\n",
        "    </tr>\n",
        "  </thead>\n",
        "  <tbody>\n",
        "    <tr>\n",
        "      <th>2013-01-04</th>\n",
        "      <td>-0.375673</td>\n",
        "      <td>-0.305868</td>\n",
        "    </tr>\n",
        "    <tr>\n",
        "      <th>2013-01-05</th>\n",
        "      <td> 0.347365</td>\n",
        "      <td> 1.098320</td>\n",
        "    </tr>\n",
        "  </tbody>\n",
        "</table>\n",
        "</div>"
       ],
       "metadata": {},
       "output_type": "pyout",
       "prompt_number": 71,
       "text": [
        "                   A         B\n",
        "2013-01-04 -0.375673 -0.305868\n",
        "2013-01-05  0.347365  1.098320"
       ]
      }
     ],
     "prompt_number": 71
    },
    {
     "cell_type": "code",
     "collapsed": false,
     "input": [
      "df.iloc[[3,5],[0,2]]"
     ],
     "language": "python",
     "metadata": {},
     "outputs": [
      {
       "html": [
        "<div style=\"max-height:1000px;max-width:1500px;overflow:auto;\">\n",
        "<table border=\"1\" class=\"dataframe\">\n",
        "  <thead>\n",
        "    <tr style=\"text-align: right;\">\n",
        "      <th></th>\n",
        "      <th>A</th>\n",
        "      <th>C</th>\n",
        "    </tr>\n",
        "  </thead>\n",
        "  <tbody>\n",
        "    <tr>\n",
        "      <th>2013-01-04</th>\n",
        "      <td>-0.375673</td>\n",
        "      <td> 0.283911</td>\n",
        "    </tr>\n",
        "    <tr>\n",
        "      <th>2013-01-06</th>\n",
        "      <td>-0.764138</td>\n",
        "      <td>-0.407648</td>\n",
        "    </tr>\n",
        "  </tbody>\n",
        "</table>\n",
        "</div>"
       ],
       "metadata": {},
       "output_type": "pyout",
       "prompt_number": 73,
       "text": [
        "                   A         C\n",
        "2013-01-04 -0.375673  0.283911\n",
        "2013-01-06 -0.764138 -0.407648"
       ]
      }
     ],
     "prompt_number": 73
    },
    {
     "cell_type": "code",
     "collapsed": false,
     "input": [
      "df"
     ],
     "language": "python",
     "metadata": {},
     "outputs": [
      {
       "html": [
        "<div style=\"max-height:1000px;max-width:1500px;overflow:auto;\">\n",
        "<table border=\"1\" class=\"dataframe\">\n",
        "  <thead>\n",
        "    <tr style=\"text-align: right;\">\n",
        "      <th></th>\n",
        "      <th>A</th>\n",
        "      <th>B</th>\n",
        "      <th>C</th>\n",
        "      <th>D</th>\n",
        "    </tr>\n",
        "  </thead>\n",
        "  <tbody>\n",
        "    <tr>\n",
        "      <th>2013-01-01</th>\n",
        "      <td> 1.435477</td>\n",
        "      <td> 0.420006</td>\n",
        "      <td> 0.912153</td>\n",
        "      <td> 0.293857</td>\n",
        "    </tr>\n",
        "    <tr>\n",
        "      <th>2013-01-02</th>\n",
        "      <td> 0.533736</td>\n",
        "      <td> 0.195464</td>\n",
        "      <td> 1.232967</td>\n",
        "      <td> 1.012638</td>\n",
        "    </tr>\n",
        "    <tr>\n",
        "      <th>2013-01-03</th>\n",
        "      <td> 0.029526</td>\n",
        "      <td>-0.953831</td>\n",
        "      <td>-1.020860</td>\n",
        "      <td>-1.524504</td>\n",
        "    </tr>\n",
        "    <tr>\n",
        "      <th>2013-01-04</th>\n",
        "      <td>-0.375673</td>\n",
        "      <td>-0.305868</td>\n",
        "      <td> 0.283911</td>\n",
        "      <td> 0.403089</td>\n",
        "    </tr>\n",
        "    <tr>\n",
        "      <th>2013-01-05</th>\n",
        "      <td> 0.347365</td>\n",
        "      <td> 1.098320</td>\n",
        "      <td>-0.401894</td>\n",
        "      <td>-0.892187</td>\n",
        "    </tr>\n",
        "    <tr>\n",
        "      <th>2013-01-06</th>\n",
        "      <td>-0.764138</td>\n",
        "      <td> 0.759652</td>\n",
        "      <td>-0.407648</td>\n",
        "      <td> 0.892738</td>\n",
        "    </tr>\n",
        "  </tbody>\n",
        "</table>\n",
        "</div>"
       ],
       "metadata": {},
       "output_type": "pyout",
       "prompt_number": 75,
       "text": [
        "                   A         B         C         D\n",
        "2013-01-01  1.435477  0.420006  0.912153  0.293857\n",
        "2013-01-02  0.533736  0.195464  1.232967  1.012638\n",
        "2013-01-03  0.029526 -0.953831 -1.020860 -1.524504\n",
        "2013-01-04 -0.375673 -0.305868  0.283911  0.403089\n",
        "2013-01-05  0.347365  1.098320 -0.401894 -0.892187\n",
        "2013-01-06 -0.764138  0.759652 -0.407648  0.892738"
       ]
      }
     ],
     "prompt_number": 75
    },
    {
     "cell_type": "code",
     "collapsed": false,
     "input": [
      "df.iloc[1:3,:]"
     ],
     "language": "python",
     "metadata": {},
     "outputs": [
      {
       "html": [
        "<div style=\"max-height:1000px;max-width:1500px;overflow:auto;\">\n",
        "<table border=\"1\" class=\"dataframe\">\n",
        "  <thead>\n",
        "    <tr style=\"text-align: right;\">\n",
        "      <th></th>\n",
        "      <th>A</th>\n",
        "      <th>B</th>\n",
        "      <th>C</th>\n",
        "      <th>D</th>\n",
        "    </tr>\n",
        "  </thead>\n",
        "  <tbody>\n",
        "    <tr>\n",
        "      <th>2013-01-02</th>\n",
        "      <td> 0.533736</td>\n",
        "      <td> 0.195464</td>\n",
        "      <td> 1.232967</td>\n",
        "      <td> 1.012638</td>\n",
        "    </tr>\n",
        "    <tr>\n",
        "      <th>2013-01-03</th>\n",
        "      <td> 0.029526</td>\n",
        "      <td>-0.953831</td>\n",
        "      <td>-1.020860</td>\n",
        "      <td>-1.524504</td>\n",
        "    </tr>\n",
        "  </tbody>\n",
        "</table>\n",
        "</div>"
       ],
       "metadata": {},
       "output_type": "pyout",
       "prompt_number": 76,
       "text": [
        "                   A         B         C         D\n",
        "2013-01-02  0.533736  0.195464  1.232967  1.012638\n",
        "2013-01-03  0.029526 -0.953831 -1.020860 -1.524504"
       ]
      }
     ],
     "prompt_number": 76
    },
    {
     "cell_type": "code",
     "collapsed": false,
     "input": [
      "df.iloc[:,1:3]"
     ],
     "language": "python",
     "metadata": {},
     "outputs": [
      {
       "html": [
        "<div style=\"max-height:1000px;max-width:1500px;overflow:auto;\">\n",
        "<table border=\"1\" class=\"dataframe\">\n",
        "  <thead>\n",
        "    <tr style=\"text-align: right;\">\n",
        "      <th></th>\n",
        "      <th>B</th>\n",
        "      <th>C</th>\n",
        "    </tr>\n",
        "  </thead>\n",
        "  <tbody>\n",
        "    <tr>\n",
        "      <th>2013-01-01</th>\n",
        "      <td> 0.420006</td>\n",
        "      <td> 0.912153</td>\n",
        "    </tr>\n",
        "    <tr>\n",
        "      <th>2013-01-02</th>\n",
        "      <td> 0.195464</td>\n",
        "      <td> 1.232967</td>\n",
        "    </tr>\n",
        "    <tr>\n",
        "      <th>2013-01-03</th>\n",
        "      <td>-0.953831</td>\n",
        "      <td>-1.020860</td>\n",
        "    </tr>\n",
        "    <tr>\n",
        "      <th>2013-01-04</th>\n",
        "      <td>-0.305868</td>\n",
        "      <td> 0.283911</td>\n",
        "    </tr>\n",
        "    <tr>\n",
        "      <th>2013-01-05</th>\n",
        "      <td> 1.098320</td>\n",
        "      <td>-0.401894</td>\n",
        "    </tr>\n",
        "    <tr>\n",
        "      <th>2013-01-06</th>\n",
        "      <td> 0.759652</td>\n",
        "      <td>-0.407648</td>\n",
        "    </tr>\n",
        "  </tbody>\n",
        "</table>\n",
        "</div>"
       ],
       "metadata": {},
       "output_type": "pyout",
       "prompt_number": 77,
       "text": [
        "                   B         C\n",
        "2013-01-01  0.420006  0.912153\n",
        "2013-01-02  0.195464  1.232967\n",
        "2013-01-03 -0.953831 -1.020860\n",
        "2013-01-04 -0.305868  0.283911\n",
        "2013-01-05  1.098320 -0.401894\n",
        "2013-01-06  0.759652 -0.407648"
       ]
      }
     ],
     "prompt_number": 77
    },
    {
     "cell_type": "markdown",
     "metadata": {},
     "source": [
      "## Getting Scalars"
     ]
    },
    {
     "cell_type": "code",
     "collapsed": false,
     "input": [
      "print df.loc[dates[0],'A']\n",
      "# Fast access:\n",
      "print df.at[dates[0],'A']\n",
      "print df.iloc[0,0]\n",
      "# Fast access:\n",
      "df.iat[0,0]"
     ],
     "language": "python",
     "metadata": {},
     "outputs": [
      {
       "output_type": "stream",
       "stream": "stdout",
       "text": [
        "1.43547661814\n",
        "1.43547661814\n",
        "1.43547661814\n"
       ]
      },
      {
       "metadata": {},
       "output_type": "pyout",
       "prompt_number": 80,
       "text": [
        "1.4354766181386678"
       ]
      }
     ],
     "prompt_number": 80
    },
    {
     "cell_type": "markdown",
     "metadata": {},
     "source": [
      "# Modification\n",
      "## Assigning to attributes"
     ]
    },
    {
     "cell_type": "code",
     "collapsed": false,
     "input": [
      "df.columns = [x.lower() for x in df.columns]\n",
      "df"
     ],
     "language": "python",
     "metadata": {},
     "outputs": [
      {
       "html": [
        "<div style=\"max-height:1000px;max-width:1500px;overflow:auto;\">\n",
        "<table border=\"1\" class=\"dataframe\">\n",
        "  <thead>\n",
        "    <tr style=\"text-align: right;\">\n",
        "      <th></th>\n",
        "      <th>a</th>\n",
        "      <th>b</th>\n",
        "      <th>c</th>\n",
        "      <th>d</th>\n",
        "    </tr>\n",
        "  </thead>\n",
        "  <tbody>\n",
        "    <tr>\n",
        "      <th>2013-01-01</th>\n",
        "      <td>-0.614202</td>\n",
        "      <td> 0.042476</td>\n",
        "      <td>-1.060533</td>\n",
        "      <td> 0.281544</td>\n",
        "    </tr>\n",
        "    <tr>\n",
        "      <th>2013-01-02</th>\n",
        "      <td> 1.602192</td>\n",
        "      <td> 2.241403</td>\n",
        "      <td>-0.330993</td>\n",
        "      <td>-0.584948</td>\n",
        "    </tr>\n",
        "    <tr>\n",
        "      <th>2013-01-03</th>\n",
        "      <td>-2.402252</td>\n",
        "      <td> 0.058440</td>\n",
        "      <td> 0.595512</td>\n",
        "      <td>-1.895342</td>\n",
        "    </tr>\n",
        "    <tr>\n",
        "      <th>2013-01-04</th>\n",
        "      <td> 1.489735</td>\n",
        "      <td>-2.288780</td>\n",
        "      <td>-0.274203</td>\n",
        "      <td> 1.848972</td>\n",
        "    </tr>\n",
        "    <tr>\n",
        "      <th>2013-01-05</th>\n",
        "      <td> 0.308056</td>\n",
        "      <td> 0.135790</td>\n",
        "      <td>-1.773053</td>\n",
        "      <td> 0.417936</td>\n",
        "    </tr>\n",
        "    <tr>\n",
        "      <th>2013-01-06</th>\n",
        "      <td> 1.494492</td>\n",
        "      <td> 0.233300</td>\n",
        "      <td> 0.784898</td>\n",
        "      <td> 0.475344</td>\n",
        "    </tr>\n",
        "  </tbody>\n",
        "</table>\n",
        "</div>"
       ],
       "metadata": {},
       "output_type": "pyout",
       "prompt_number": 21,
       "text": [
        "                   a         b         c         d\n",
        "2013-01-01 -0.614202  0.042476 -1.060533  0.281544\n",
        "2013-01-02  1.602192  2.241403 -0.330993 -0.584948\n",
        "2013-01-03 -2.402252  0.058440  0.595512 -1.895342\n",
        "2013-01-04  1.489735 -2.288780 -0.274203  1.848972\n",
        "2013-01-05  0.308056  0.135790 -1.773053  0.417936\n",
        "2013-01-06  1.494492  0.233300  0.784898  0.475344"
       ]
      }
     ],
     "prompt_number": 21
    },
    {
     "cell_type": "markdown",
     "metadata": {},
     "source": [
      "## Sorting\n",
      "### By Axis"
     ]
    },
    {
     "cell_type": "code",
     "collapsed": false,
     "input": [
      "df.sort_index(axis=1, ascending=False)"
     ],
     "language": "python",
     "metadata": {},
     "outputs": [
      {
       "html": [
        "<div style=\"max-height:1000px;max-width:1500px;overflow:auto;\">\n",
        "<table border=\"1\" class=\"dataframe\">\n",
        "  <thead>\n",
        "    <tr style=\"text-align: right;\">\n",
        "      <th></th>\n",
        "      <th>d</th>\n",
        "      <th>c</th>\n",
        "      <th>b</th>\n",
        "      <th>a</th>\n",
        "    </tr>\n",
        "  </thead>\n",
        "  <tbody>\n",
        "    <tr>\n",
        "      <th>2013-01-01</th>\n",
        "      <td> 0.281544</td>\n",
        "      <td>-1.060533</td>\n",
        "      <td> 0.042476</td>\n",
        "      <td>-0.614202</td>\n",
        "    </tr>\n",
        "    <tr>\n",
        "      <th>2013-01-02</th>\n",
        "      <td>-0.584948</td>\n",
        "      <td>-0.330993</td>\n",
        "      <td> 2.241403</td>\n",
        "      <td> 1.602192</td>\n",
        "    </tr>\n",
        "    <tr>\n",
        "      <th>2013-01-03</th>\n",
        "      <td>-1.895342</td>\n",
        "      <td> 0.595512</td>\n",
        "      <td> 0.058440</td>\n",
        "      <td>-2.402252</td>\n",
        "    </tr>\n",
        "    <tr>\n",
        "      <th>2013-01-04</th>\n",
        "      <td> 1.848972</td>\n",
        "      <td>-0.274203</td>\n",
        "      <td>-2.288780</td>\n",
        "      <td> 1.489735</td>\n",
        "    </tr>\n",
        "    <tr>\n",
        "      <th>2013-01-05</th>\n",
        "      <td> 0.417936</td>\n",
        "      <td>-1.773053</td>\n",
        "      <td> 0.135790</td>\n",
        "      <td> 0.308056</td>\n",
        "    </tr>\n",
        "    <tr>\n",
        "      <th>2013-01-06</th>\n",
        "      <td> 0.475344</td>\n",
        "      <td> 0.784898</td>\n",
        "      <td> 0.233300</td>\n",
        "      <td> 1.494492</td>\n",
        "    </tr>\n",
        "  </tbody>\n",
        "</table>\n",
        "</div>"
       ],
       "metadata": {},
       "output_type": "pyout",
       "prompt_number": 32,
       "text": [
        "                   d         c         b         a\n",
        "2013-01-01  0.281544 -1.060533  0.042476 -0.614202\n",
        "2013-01-02 -0.584948 -0.330993  2.241403  1.602192\n",
        "2013-01-03 -1.895342  0.595512  0.058440 -2.402252\n",
        "2013-01-04  1.848972 -0.274203 -2.288780  1.489735\n",
        "2013-01-05  0.417936 -1.773053  0.135790  0.308056\n",
        "2013-01-06  0.475344  0.784898  0.233300  1.494492"
       ]
      }
     ],
     "prompt_number": 32
    },
    {
     "cell_type": "markdown",
     "metadata": {},
     "source": [
      "### By value"
     ]
    },
    {
     "cell_type": "code",
     "collapsed": false,
     "input": [
      "df.sort(columns='b')"
     ],
     "language": "python",
     "metadata": {},
     "outputs": [
      {
       "html": [
        "<div style=\"max-height:1000px;max-width:1500px;overflow:auto;\">\n",
        "<table border=\"1\" class=\"dataframe\">\n",
        "  <thead>\n",
        "    <tr style=\"text-align: right;\">\n",
        "      <th></th>\n",
        "      <th>a</th>\n",
        "      <th>b</th>\n",
        "      <th>c</th>\n",
        "      <th>d</th>\n",
        "    </tr>\n",
        "  </thead>\n",
        "  <tbody>\n",
        "    <tr>\n",
        "      <th>2013-01-04</th>\n",
        "      <td> 1.489735</td>\n",
        "      <td>-2.288780</td>\n",
        "      <td>-0.274203</td>\n",
        "      <td> 1.848972</td>\n",
        "    </tr>\n",
        "    <tr>\n",
        "      <th>2013-01-01</th>\n",
        "      <td>-0.614202</td>\n",
        "      <td> 0.042476</td>\n",
        "      <td>-1.060533</td>\n",
        "      <td> 0.281544</td>\n",
        "    </tr>\n",
        "    <tr>\n",
        "      <th>2013-01-03</th>\n",
        "      <td>-2.402252</td>\n",
        "      <td> 0.058440</td>\n",
        "      <td> 0.595512</td>\n",
        "      <td>-1.895342</td>\n",
        "    </tr>\n",
        "    <tr>\n",
        "      <th>2013-01-05</th>\n",
        "      <td> 0.308056</td>\n",
        "      <td> 0.135790</td>\n",
        "      <td>-1.773053</td>\n",
        "      <td> 0.417936</td>\n",
        "    </tr>\n",
        "    <tr>\n",
        "      <th>2013-01-06</th>\n",
        "      <td> 1.494492</td>\n",
        "      <td> 0.233300</td>\n",
        "      <td> 0.784898</td>\n",
        "      <td> 0.475344</td>\n",
        "    </tr>\n",
        "    <tr>\n",
        "      <th>2013-01-02</th>\n",
        "      <td> 1.602192</td>\n",
        "      <td> 2.241403</td>\n",
        "      <td>-0.330993</td>\n",
        "      <td>-0.584948</td>\n",
        "    </tr>\n",
        "  </tbody>\n",
        "</table>\n",
        "</div>"
       ],
       "metadata": {},
       "output_type": "pyout",
       "prompt_number": 36,
       "text": [
        "                   a         b         c         d\n",
        "2013-01-04  1.489735 -2.288780 -0.274203  1.848972\n",
        "2013-01-01 -0.614202  0.042476 -1.060533  0.281544\n",
        "2013-01-03 -2.402252  0.058440  0.595512 -1.895342\n",
        "2013-01-05  0.308056  0.135790 -1.773053  0.417936\n",
        "2013-01-06  1.494492  0.233300  0.784898  0.475344\n",
        "2013-01-02  1.602192  2.241403 -0.330993 -0.584948"
       ]
      }
     ],
     "prompt_number": 36
    },
    {
     "cell_type": "markdown",
     "metadata": {},
     "source": [
      "##Setting"
     ]
    },
    {
     "cell_type": "code",
     "collapsed": false,
     "input": [
      "s1 = pd.Series([1,2,3,4,5,6], index=pd.date_range('20130102', periods=6))\n",
      "s1"
     ],
     "language": "python",
     "metadata": {},
     "outputs": [
      {
       "metadata": {},
       "output_type": "pyout",
       "prompt_number": 91,
       "text": [
        "2013-01-02    1\n",
        "2013-01-03    2\n",
        "2013-01-04    3\n",
        "2013-01-05    4\n",
        "2013-01-06    5\n",
        "2013-01-07    6\n",
        "Freq: D, dtype: int64"
       ]
      }
     ],
     "prompt_number": 91
    },
    {
     "cell_type": "code",
     "collapsed": false,
     "input": [
      "df['F'] = s1\n",
      "df"
     ],
     "language": "python",
     "metadata": {},
     "outputs": [
      {
       "html": [
        "<div style=\"max-height:1000px;max-width:1500px;overflow:auto;\">\n",
        "<table border=\"1\" class=\"dataframe\">\n",
        "  <thead>\n",
        "    <tr style=\"text-align: right;\">\n",
        "      <th></th>\n",
        "      <th>A</th>\n",
        "      <th>B</th>\n",
        "      <th>C</th>\n",
        "      <th>D</th>\n",
        "      <th>F</th>\n",
        "    </tr>\n",
        "  </thead>\n",
        "  <tbody>\n",
        "    <tr>\n",
        "      <th>2013-01-01</th>\n",
        "      <td> 1.435477</td>\n",
        "      <td> 0.420006</td>\n",
        "      <td> 0.912153</td>\n",
        "      <td> 0.293857</td>\n",
        "      <td>NaN</td>\n",
        "    </tr>\n",
        "    <tr>\n",
        "      <th>2013-01-02</th>\n",
        "      <td> 0.533736</td>\n",
        "      <td> 0.195464</td>\n",
        "      <td> 1.232967</td>\n",
        "      <td> 1.012638</td>\n",
        "      <td>  1</td>\n",
        "    </tr>\n",
        "    <tr>\n",
        "      <th>2013-01-03</th>\n",
        "      <td> 0.029526</td>\n",
        "      <td>-0.953831</td>\n",
        "      <td>-1.020860</td>\n",
        "      <td>-1.524504</td>\n",
        "      <td>  2</td>\n",
        "    </tr>\n",
        "    <tr>\n",
        "      <th>2013-01-04</th>\n",
        "      <td>-0.375673</td>\n",
        "      <td>-0.305868</td>\n",
        "      <td> 0.283911</td>\n",
        "      <td> 0.403089</td>\n",
        "      <td>  3</td>\n",
        "    </tr>\n",
        "    <tr>\n",
        "      <th>2013-01-05</th>\n",
        "      <td> 0.347365</td>\n",
        "      <td> 1.098320</td>\n",
        "      <td>-0.401894</td>\n",
        "      <td>-0.892187</td>\n",
        "      <td>  4</td>\n",
        "    </tr>\n",
        "    <tr>\n",
        "      <th>2013-01-06</th>\n",
        "      <td>-0.764138</td>\n",
        "      <td> 0.759652</td>\n",
        "      <td>-0.407648</td>\n",
        "      <td> 0.892738</td>\n",
        "      <td>  5</td>\n",
        "    </tr>\n",
        "  </tbody>\n",
        "</table>\n",
        "</div>"
       ],
       "metadata": {},
       "output_type": "pyout",
       "prompt_number": 92,
       "text": [
        "                   A         B         C         D   F\n",
        "2013-01-01  1.435477  0.420006  0.912153  0.293857 NaN\n",
        "2013-01-02  0.533736  0.195464  1.232967  1.012638   1\n",
        "2013-01-03  0.029526 -0.953831 -1.020860 -1.524504   2\n",
        "2013-01-04 -0.375673 -0.305868  0.283911  0.403089   3\n",
        "2013-01-05  0.347365  1.098320 -0.401894 -0.892187   4\n",
        "2013-01-06 -0.764138  0.759652 -0.407648  0.892738   5"
       ]
      }
     ],
     "prompt_number": 92
    },
    {
     "cell_type": "code",
     "collapsed": false,
     "input": [
      "df.at[dates[0],'A'] = 0\n",
      "df"
     ],
     "language": "python",
     "metadata": {},
     "outputs": [
      {
       "html": [
        "<div style=\"max-height:1000px;max-width:1500px;overflow:auto;\">\n",
        "<table border=\"1\" class=\"dataframe\">\n",
        "  <thead>\n",
        "    <tr style=\"text-align: right;\">\n",
        "      <th></th>\n",
        "      <th>A</th>\n",
        "      <th>B</th>\n",
        "      <th>C</th>\n",
        "      <th>D</th>\n",
        "      <th>F</th>\n",
        "    </tr>\n",
        "  </thead>\n",
        "  <tbody>\n",
        "    <tr>\n",
        "      <th>2013-01-01</th>\n",
        "      <td> 0.000000</td>\n",
        "      <td> 0.420006</td>\n",
        "      <td> 0.912153</td>\n",
        "      <td> 0.293857</td>\n",
        "      <td>NaN</td>\n",
        "    </tr>\n",
        "    <tr>\n",
        "      <th>2013-01-02</th>\n",
        "      <td> 0.533736</td>\n",
        "      <td> 0.195464</td>\n",
        "      <td> 1.232967</td>\n",
        "      <td> 1.012638</td>\n",
        "      <td>  1</td>\n",
        "    </tr>\n",
        "    <tr>\n",
        "      <th>2013-01-03</th>\n",
        "      <td> 0.029526</td>\n",
        "      <td>-0.953831</td>\n",
        "      <td>-1.020860</td>\n",
        "      <td>-1.524504</td>\n",
        "      <td>  2</td>\n",
        "    </tr>\n",
        "    <tr>\n",
        "      <th>2013-01-04</th>\n",
        "      <td>-0.375673</td>\n",
        "      <td>-0.305868</td>\n",
        "      <td> 0.283911</td>\n",
        "      <td> 0.403089</td>\n",
        "      <td>  3</td>\n",
        "    </tr>\n",
        "    <tr>\n",
        "      <th>2013-01-05</th>\n",
        "      <td> 0.347365</td>\n",
        "      <td> 1.098320</td>\n",
        "      <td>-0.401894</td>\n",
        "      <td>-0.892187</td>\n",
        "      <td>  4</td>\n",
        "    </tr>\n",
        "    <tr>\n",
        "      <th>2013-01-06</th>\n",
        "      <td>-0.764138</td>\n",
        "      <td> 0.759652</td>\n",
        "      <td>-0.407648</td>\n",
        "      <td> 0.892738</td>\n",
        "      <td>  5</td>\n",
        "    </tr>\n",
        "  </tbody>\n",
        "</table>\n",
        "</div>"
       ],
       "metadata": {},
       "output_type": "pyout",
       "prompt_number": 94,
       "text": [
        "                   A         B         C         D   F\n",
        "2013-01-01  0.000000  0.420006  0.912153  0.293857 NaN\n",
        "2013-01-02  0.533736  0.195464  1.232967  1.012638   1\n",
        "2013-01-03  0.029526 -0.953831 -1.020860 -1.524504   2\n",
        "2013-01-04 -0.375673 -0.305868  0.283911  0.403089   3\n",
        "2013-01-05  0.347365  1.098320 -0.401894 -0.892187   4\n",
        "2013-01-06 -0.764138  0.759652 -0.407648  0.892738   5"
       ]
      }
     ],
     "prompt_number": 94
    },
    {
     "cell_type": "code",
     "collapsed": false,
     "input": [
      "df.iat[0,1] = 0\n",
      "df"
     ],
     "language": "python",
     "metadata": {},
     "outputs": [
      {
       "html": [
        "<div style=\"max-height:1000px;max-width:1500px;overflow:auto;\">\n",
        "<table border=\"1\" class=\"dataframe\">\n",
        "  <thead>\n",
        "    <tr style=\"text-align: right;\">\n",
        "      <th></th>\n",
        "      <th>A</th>\n",
        "      <th>B</th>\n",
        "      <th>C</th>\n",
        "      <th>D</th>\n",
        "      <th>F</th>\n",
        "    </tr>\n",
        "  </thead>\n",
        "  <tbody>\n",
        "    <tr>\n",
        "      <th>2013-01-01</th>\n",
        "      <td> 0.000000</td>\n",
        "      <td> 0.000000</td>\n",
        "      <td> 0.912153</td>\n",
        "      <td> 0.293857</td>\n",
        "      <td>NaN</td>\n",
        "    </tr>\n",
        "    <tr>\n",
        "      <th>2013-01-02</th>\n",
        "      <td> 0.533736</td>\n",
        "      <td> 0.195464</td>\n",
        "      <td> 1.232967</td>\n",
        "      <td> 1.012638</td>\n",
        "      <td>  1</td>\n",
        "    </tr>\n",
        "    <tr>\n",
        "      <th>2013-01-03</th>\n",
        "      <td> 0.029526</td>\n",
        "      <td>-0.953831</td>\n",
        "      <td>-1.020860</td>\n",
        "      <td>-1.524504</td>\n",
        "      <td>  2</td>\n",
        "    </tr>\n",
        "    <tr>\n",
        "      <th>2013-01-04</th>\n",
        "      <td>-0.375673</td>\n",
        "      <td>-0.305868</td>\n",
        "      <td> 0.283911</td>\n",
        "      <td> 0.403089</td>\n",
        "      <td>  3</td>\n",
        "    </tr>\n",
        "    <tr>\n",
        "      <th>2013-01-05</th>\n",
        "      <td> 0.347365</td>\n",
        "      <td> 1.098320</td>\n",
        "      <td>-0.401894</td>\n",
        "      <td>-0.892187</td>\n",
        "      <td>  4</td>\n",
        "    </tr>\n",
        "    <tr>\n",
        "      <th>2013-01-06</th>\n",
        "      <td>-0.764138</td>\n",
        "      <td> 0.759652</td>\n",
        "      <td>-0.407648</td>\n",
        "      <td> 0.892738</td>\n",
        "      <td>  5</td>\n",
        "    </tr>\n",
        "  </tbody>\n",
        "</table>\n",
        "</div>"
       ],
       "metadata": {},
       "output_type": "pyout",
       "prompt_number": 95,
       "text": [
        "                   A         B         C         D   F\n",
        "2013-01-01  0.000000  0.000000  0.912153  0.293857 NaN\n",
        "2013-01-02  0.533736  0.195464  1.232967  1.012638   1\n",
        "2013-01-03  0.029526 -0.953831 -1.020860 -1.524504   2\n",
        "2013-01-04 -0.375673 -0.305868  0.283911  0.403089   3\n",
        "2013-01-05  0.347365  1.098320 -0.401894 -0.892187   4\n",
        "2013-01-06 -0.764138  0.759652 -0.407648  0.892738   5"
       ]
      }
     ],
     "prompt_number": 95
    },
    {
     "cell_type": "code",
     "collapsed": false,
     "input": [
      "df.loc[:,'D'] = np.array([5] * len(df))\n",
      "df"
     ],
     "language": "python",
     "metadata": {},
     "outputs": [
      {
       "html": [
        "<div style=\"max-height:1000px;max-width:1500px;overflow:auto;\">\n",
        "<table border=\"1\" class=\"dataframe\">\n",
        "  <thead>\n",
        "    <tr style=\"text-align: right;\">\n",
        "      <th></th>\n",
        "      <th>A</th>\n",
        "      <th>B</th>\n",
        "      <th>C</th>\n",
        "      <th>D</th>\n",
        "      <th>F</th>\n",
        "    </tr>\n",
        "  </thead>\n",
        "  <tbody>\n",
        "    <tr>\n",
        "      <th>2013-01-01</th>\n",
        "      <td> 0.000000</td>\n",
        "      <td> 0.000000</td>\n",
        "      <td> 0.912153</td>\n",
        "      <td> 5</td>\n",
        "      <td>NaN</td>\n",
        "    </tr>\n",
        "    <tr>\n",
        "      <th>2013-01-02</th>\n",
        "      <td> 0.533736</td>\n",
        "      <td> 0.195464</td>\n",
        "      <td> 1.232967</td>\n",
        "      <td> 5</td>\n",
        "      <td>  1</td>\n",
        "    </tr>\n",
        "    <tr>\n",
        "      <th>2013-01-03</th>\n",
        "      <td> 0.029526</td>\n",
        "      <td>-0.953831</td>\n",
        "      <td>-1.020860</td>\n",
        "      <td> 5</td>\n",
        "      <td>  2</td>\n",
        "    </tr>\n",
        "    <tr>\n",
        "      <th>2013-01-04</th>\n",
        "      <td>-0.375673</td>\n",
        "      <td>-0.305868</td>\n",
        "      <td> 0.283911</td>\n",
        "      <td> 5</td>\n",
        "      <td>  3</td>\n",
        "    </tr>\n",
        "    <tr>\n",
        "      <th>2013-01-05</th>\n",
        "      <td> 0.347365</td>\n",
        "      <td> 1.098320</td>\n",
        "      <td>-0.401894</td>\n",
        "      <td> 5</td>\n",
        "      <td>  4</td>\n",
        "    </tr>\n",
        "    <tr>\n",
        "      <th>2013-01-06</th>\n",
        "      <td>-0.764138</td>\n",
        "      <td> 0.759652</td>\n",
        "      <td>-0.407648</td>\n",
        "      <td> 5</td>\n",
        "      <td>  5</td>\n",
        "    </tr>\n",
        "  </tbody>\n",
        "</table>\n",
        "</div>"
       ],
       "metadata": {},
       "output_type": "pyout",
       "prompt_number": 97,
       "text": [
        "                   A         B         C  D   F\n",
        "2013-01-01  0.000000  0.000000  0.912153  5 NaN\n",
        "2013-01-02  0.533736  0.195464  1.232967  5   1\n",
        "2013-01-03  0.029526 -0.953831 -1.020860  5   2\n",
        "2013-01-04 -0.375673 -0.305868  0.283911  5   3\n",
        "2013-01-05  0.347365  1.098320 -0.401894  5   4\n",
        "2013-01-06 -0.764138  0.759652 -0.407648  5   5"
       ]
      }
     ],
     "prompt_number": 97
    },
    {
     "cell_type": "code",
     "collapsed": false,
     "input": [
      "df2 = df.copy()\n",
      "df2[df2 > 0] = -df2\n",
      "df2"
     ],
     "language": "python",
     "metadata": {},
     "outputs": [
      {
       "html": [
        "<div style=\"max-height:1000px;max-width:1500px;overflow:auto;\">\n",
        "<table border=\"1\" class=\"dataframe\">\n",
        "  <thead>\n",
        "    <tr style=\"text-align: right;\">\n",
        "      <th></th>\n",
        "      <th>A</th>\n",
        "      <th>B</th>\n",
        "      <th>C</th>\n",
        "      <th>D</th>\n",
        "      <th>F</th>\n",
        "    </tr>\n",
        "  </thead>\n",
        "  <tbody>\n",
        "    <tr>\n",
        "      <th>2013-01-01</th>\n",
        "      <td> 0.000000</td>\n",
        "      <td> 0.000000</td>\n",
        "      <td>-0.912153</td>\n",
        "      <td>-5</td>\n",
        "      <td>NaN</td>\n",
        "    </tr>\n",
        "    <tr>\n",
        "      <th>2013-01-02</th>\n",
        "      <td>-0.533736</td>\n",
        "      <td>-0.195464</td>\n",
        "      <td>-1.232967</td>\n",
        "      <td>-5</td>\n",
        "      <td> -1</td>\n",
        "    </tr>\n",
        "    <tr>\n",
        "      <th>2013-01-03</th>\n",
        "      <td>-0.029526</td>\n",
        "      <td>-0.953831</td>\n",
        "      <td>-1.020860</td>\n",
        "      <td>-5</td>\n",
        "      <td> -2</td>\n",
        "    </tr>\n",
        "    <tr>\n",
        "      <th>2013-01-04</th>\n",
        "      <td>-0.375673</td>\n",
        "      <td>-0.305868</td>\n",
        "      <td>-0.283911</td>\n",
        "      <td>-5</td>\n",
        "      <td> -3</td>\n",
        "    </tr>\n",
        "    <tr>\n",
        "      <th>2013-01-05</th>\n",
        "      <td>-0.347365</td>\n",
        "      <td>-1.098320</td>\n",
        "      <td>-0.401894</td>\n",
        "      <td>-5</td>\n",
        "      <td> -4</td>\n",
        "    </tr>\n",
        "    <tr>\n",
        "      <th>2013-01-06</th>\n",
        "      <td>-0.764138</td>\n",
        "      <td>-0.759652</td>\n",
        "      <td>-0.407648</td>\n",
        "      <td>-5</td>\n",
        "      <td> -5</td>\n",
        "    </tr>\n",
        "  </tbody>\n",
        "</table>\n",
        "</div>"
       ],
       "metadata": {},
       "output_type": "pyout",
       "prompt_number": 98,
       "text": [
        "                   A         B         C  D   F\n",
        "2013-01-01  0.000000  0.000000 -0.912153 -5 NaN\n",
        "2013-01-02 -0.533736 -0.195464 -1.232967 -5  -1\n",
        "2013-01-03 -0.029526 -0.953831 -1.020860 -5  -2\n",
        "2013-01-04 -0.375673 -0.305868 -0.283911 -5  -3\n",
        "2013-01-05 -0.347365 -1.098320 -0.401894 -5  -4\n",
        "2013-01-06 -0.764138 -0.759652 -0.407648 -5  -5"
       ]
      }
     ],
     "prompt_number": 98
    },
    {
     "cell_type": "markdown",
     "metadata": {},
     "source": [
      "# Missing Data"
     ]
    },
    {
     "cell_type": "code",
     "collapsed": false,
     "input": [
      "df1 = df.reindex(index=dates[0:4], columns=list(df.columns) + ['E'])\n",
      "df1"
     ],
     "language": "python",
     "metadata": {},
     "outputs": [
      {
       "html": [
        "<div style=\"max-height:1000px;max-width:1500px;overflow:auto;\">\n",
        "<table border=\"1\" class=\"dataframe\">\n",
        "  <thead>\n",
        "    <tr style=\"text-align: right;\">\n",
        "      <th></th>\n",
        "      <th>A</th>\n",
        "      <th>B</th>\n",
        "      <th>C</th>\n",
        "      <th>D</th>\n",
        "      <th>F</th>\n",
        "      <th>E</th>\n",
        "    </tr>\n",
        "  </thead>\n",
        "  <tbody>\n",
        "    <tr>\n",
        "      <th>2013-01-01</th>\n",
        "      <td> 0.000000</td>\n",
        "      <td> 0.000000</td>\n",
        "      <td> 0.912153</td>\n",
        "      <td> 5</td>\n",
        "      <td>NaN</td>\n",
        "      <td>NaN</td>\n",
        "    </tr>\n",
        "    <tr>\n",
        "      <th>2013-01-02</th>\n",
        "      <td> 0.533736</td>\n",
        "      <td> 0.195464</td>\n",
        "      <td> 1.232967</td>\n",
        "      <td> 5</td>\n",
        "      <td>  1</td>\n",
        "      <td>NaN</td>\n",
        "    </tr>\n",
        "    <tr>\n",
        "      <th>2013-01-03</th>\n",
        "      <td> 0.029526</td>\n",
        "      <td>-0.953831</td>\n",
        "      <td>-1.020860</td>\n",
        "      <td> 5</td>\n",
        "      <td>  2</td>\n",
        "      <td>NaN</td>\n",
        "    </tr>\n",
        "    <tr>\n",
        "      <th>2013-01-04</th>\n",
        "      <td>-0.375673</td>\n",
        "      <td>-0.305868</td>\n",
        "      <td> 0.283911</td>\n",
        "      <td> 5</td>\n",
        "      <td>  3</td>\n",
        "      <td>NaN</td>\n",
        "    </tr>\n",
        "  </tbody>\n",
        "</table>\n",
        "</div>"
       ],
       "metadata": {},
       "output_type": "pyout",
       "prompt_number": 108,
       "text": [
        "                   A         B         C  D   F   E\n",
        "2013-01-01  0.000000  0.000000  0.912153  5 NaN NaN\n",
        "2013-01-02  0.533736  0.195464  1.232967  5   1 NaN\n",
        "2013-01-03  0.029526 -0.953831 -1.020860  5   2 NaN\n",
        "2013-01-04 -0.375673 -0.305868  0.283911  5   3 NaN"
       ]
      }
     ],
     "prompt_number": 108
    },
    {
     "cell_type": "code",
     "collapsed": false,
     "input": [
      "df1.loc[dates[0]:dates[1],'E'] = 1\n",
      "df1"
     ],
     "language": "python",
     "metadata": {},
     "outputs": [
      {
       "html": [
        "<div style=\"max-height:1000px;max-width:1500px;overflow:auto;\">\n",
        "<table border=\"1\" class=\"dataframe\">\n",
        "  <thead>\n",
        "    <tr style=\"text-align: right;\">\n",
        "      <th></th>\n",
        "      <th>A</th>\n",
        "      <th>B</th>\n",
        "      <th>C</th>\n",
        "      <th>D</th>\n",
        "      <th>F</th>\n",
        "      <th>E</th>\n",
        "    </tr>\n",
        "  </thead>\n",
        "  <tbody>\n",
        "    <tr>\n",
        "      <th>2013-01-01</th>\n",
        "      <td> 0.000000</td>\n",
        "      <td> 0.000000</td>\n",
        "      <td> 0.912153</td>\n",
        "      <td> 5</td>\n",
        "      <td>NaN</td>\n",
        "      <td>  1</td>\n",
        "    </tr>\n",
        "    <tr>\n",
        "      <th>2013-01-02</th>\n",
        "      <td> 0.533736</td>\n",
        "      <td> 0.195464</td>\n",
        "      <td> 1.232967</td>\n",
        "      <td> 5</td>\n",
        "      <td>  1</td>\n",
        "      <td>  1</td>\n",
        "    </tr>\n",
        "    <tr>\n",
        "      <th>2013-01-03</th>\n",
        "      <td> 0.029526</td>\n",
        "      <td>-0.953831</td>\n",
        "      <td>-1.020860</td>\n",
        "      <td> 5</td>\n",
        "      <td>  2</td>\n",
        "      <td>NaN</td>\n",
        "    </tr>\n",
        "    <tr>\n",
        "      <th>2013-01-04</th>\n",
        "      <td>-0.375673</td>\n",
        "      <td>-0.305868</td>\n",
        "      <td> 0.283911</td>\n",
        "      <td> 5</td>\n",
        "      <td>  3</td>\n",
        "      <td>NaN</td>\n",
        "    </tr>\n",
        "  </tbody>\n",
        "</table>\n",
        "</div>"
       ],
       "metadata": {},
       "output_type": "pyout",
       "prompt_number": 109,
       "text": [
        "                   A         B         C  D   F   E\n",
        "2013-01-01  0.000000  0.000000  0.912153  5 NaN   1\n",
        "2013-01-02  0.533736  0.195464  1.232967  5   1   1\n",
        "2013-01-03  0.029526 -0.953831 -1.020860  5   2 NaN\n",
        "2013-01-04 -0.375673 -0.305868  0.283911  5   3 NaN"
       ]
      }
     ],
     "prompt_number": 109
    },
    {
     "cell_type": "markdown",
     "metadata": {},
     "source": [
      "## Drop any row with missing data"
     ]
    },
    {
     "cell_type": "code",
     "collapsed": false,
     "input": [
      "df1.dropna(how='any')"
     ],
     "language": "python",
     "metadata": {},
     "outputs": [
      {
       "html": [
        "<div style=\"max-height:1000px;max-width:1500px;overflow:auto;\">\n",
        "<table border=\"1\" class=\"dataframe\">\n",
        "  <thead>\n",
        "    <tr style=\"text-align: right;\">\n",
        "      <th></th>\n",
        "      <th>A</th>\n",
        "      <th>B</th>\n",
        "      <th>C</th>\n",
        "      <th>D</th>\n",
        "      <th>F</th>\n",
        "      <th>E</th>\n",
        "    </tr>\n",
        "  </thead>\n",
        "  <tbody>\n",
        "    <tr>\n",
        "      <th>2013-01-02</th>\n",
        "      <td> 0.533736</td>\n",
        "      <td> 0.195464</td>\n",
        "      <td> 1.232967</td>\n",
        "      <td> 5</td>\n",
        "      <td> 1</td>\n",
        "      <td> 1</td>\n",
        "    </tr>\n",
        "  </tbody>\n",
        "</table>\n",
        "</div>"
       ],
       "metadata": {},
       "output_type": "pyout",
       "prompt_number": 110,
       "text": [
        "                   A         B         C  D  F  E\n",
        "2013-01-02  0.533736  0.195464  1.232967  5  1  1"
       ]
      }
     ],
     "prompt_number": 110
    },
    {
     "cell_type": "markdown",
     "metadata": {},
     "source": [
      "## Fill missing rows"
     ]
    },
    {
     "cell_type": "code",
     "collapsed": false,
     "input": [
      "df1.fillna(value=5)"
     ],
     "language": "python",
     "metadata": {},
     "outputs": [
      {
       "html": [
        "<div style=\"max-height:1000px;max-width:1500px;overflow:auto;\">\n",
        "<table border=\"1\" class=\"dataframe\">\n",
        "  <thead>\n",
        "    <tr style=\"text-align: right;\">\n",
        "      <th></th>\n",
        "      <th>A</th>\n",
        "      <th>B</th>\n",
        "      <th>C</th>\n",
        "      <th>D</th>\n",
        "      <th>F</th>\n",
        "      <th>E</th>\n",
        "    </tr>\n",
        "  </thead>\n",
        "  <tbody>\n",
        "    <tr>\n",
        "      <th>2013-01-01</th>\n",
        "      <td> 0.000000</td>\n",
        "      <td> 0.000000</td>\n",
        "      <td> 0.912153</td>\n",
        "      <td> 5</td>\n",
        "      <td> 5</td>\n",
        "      <td> 1</td>\n",
        "    </tr>\n",
        "    <tr>\n",
        "      <th>2013-01-02</th>\n",
        "      <td> 0.533736</td>\n",
        "      <td> 0.195464</td>\n",
        "      <td> 1.232967</td>\n",
        "      <td> 5</td>\n",
        "      <td> 1</td>\n",
        "      <td> 1</td>\n",
        "    </tr>\n",
        "    <tr>\n",
        "      <th>2013-01-03</th>\n",
        "      <td> 0.029526</td>\n",
        "      <td>-0.953831</td>\n",
        "      <td>-1.020860</td>\n",
        "      <td> 5</td>\n",
        "      <td> 2</td>\n",
        "      <td> 5</td>\n",
        "    </tr>\n",
        "    <tr>\n",
        "      <th>2013-01-04</th>\n",
        "      <td>-0.375673</td>\n",
        "      <td>-0.305868</td>\n",
        "      <td> 0.283911</td>\n",
        "      <td> 5</td>\n",
        "      <td> 3</td>\n",
        "      <td> 5</td>\n",
        "    </tr>\n",
        "  </tbody>\n",
        "</table>\n",
        "</div>"
       ],
       "metadata": {},
       "output_type": "pyout",
       "prompt_number": 112,
       "text": [
        "                   A         B         C  D  F  E\n",
        "2013-01-01  0.000000  0.000000  0.912153  5  5  1\n",
        "2013-01-02  0.533736  0.195464  1.232967  5  1  1\n",
        "2013-01-03  0.029526 -0.953831 -1.020860  5  2  5\n",
        "2013-01-04 -0.375673 -0.305868  0.283911  5  3  5"
       ]
      }
     ],
     "prompt_number": 112
    },
    {
     "cell_type": "markdown",
     "metadata": {},
     "source": [
      "## Get the boolean mask where values are nan"
     ]
    },
    {
     "cell_type": "code",
     "collapsed": false,
     "input": [
      "pd.isnull(df1)"
     ],
     "language": "python",
     "metadata": {},
     "outputs": [
      {
       "html": [
        "<div style=\"max-height:1000px;max-width:1500px;overflow:auto;\">\n",
        "<table border=\"1\" class=\"dataframe\">\n",
        "  <thead>\n",
        "    <tr style=\"text-align: right;\">\n",
        "      <th></th>\n",
        "      <th>A</th>\n",
        "      <th>B</th>\n",
        "      <th>C</th>\n",
        "      <th>D</th>\n",
        "      <th>F</th>\n",
        "      <th>E</th>\n",
        "    </tr>\n",
        "  </thead>\n",
        "  <tbody>\n",
        "    <tr>\n",
        "      <th>2013-01-01</th>\n",
        "      <td> False</td>\n",
        "      <td> False</td>\n",
        "      <td> False</td>\n",
        "      <td> False</td>\n",
        "      <td>  True</td>\n",
        "      <td> False</td>\n",
        "    </tr>\n",
        "    <tr>\n",
        "      <th>2013-01-02</th>\n",
        "      <td> False</td>\n",
        "      <td> False</td>\n",
        "      <td> False</td>\n",
        "      <td> False</td>\n",
        "      <td> False</td>\n",
        "      <td> False</td>\n",
        "    </tr>\n",
        "    <tr>\n",
        "      <th>2013-01-03</th>\n",
        "      <td> False</td>\n",
        "      <td> False</td>\n",
        "      <td> False</td>\n",
        "      <td> False</td>\n",
        "      <td> False</td>\n",
        "      <td>  True</td>\n",
        "    </tr>\n",
        "    <tr>\n",
        "      <th>2013-01-04</th>\n",
        "      <td> False</td>\n",
        "      <td> False</td>\n",
        "      <td> False</td>\n",
        "      <td> False</td>\n",
        "      <td> False</td>\n",
        "      <td>  True</td>\n",
        "    </tr>\n",
        "  </tbody>\n",
        "</table>\n",
        "</div>"
       ],
       "metadata": {},
       "output_type": "pyout",
       "prompt_number": 113,
       "text": [
        "                A      B      C      D      F      E\n",
        "2013-01-01  False  False  False  False   True  False\n",
        "2013-01-02  False  False  False  False  False  False\n",
        "2013-01-03  False  False  False  False  False   True\n",
        "2013-01-04  False  False  False  False  False   True"
       ]
      }
     ],
     "prompt_number": 113
    },
    {
     "cell_type": "markdown",
     "metadata": {},
     "source": [
      "# Get stats"
     ]
    },
    {
     "cell_type": "code",
     "collapsed": false,
     "input": [
      "df"
     ],
     "language": "python",
     "metadata": {},
     "outputs": [
      {
       "html": [
        "<div style=\"max-height:1000px;max-width:1500px;overflow:auto;\">\n",
        "<table border=\"1\" class=\"dataframe\">\n",
        "  <thead>\n",
        "    <tr style=\"text-align: right;\">\n",
        "      <th></th>\n",
        "      <th>A</th>\n",
        "      <th>B</th>\n",
        "      <th>C</th>\n",
        "      <th>D</th>\n",
        "      <th>F</th>\n",
        "    </tr>\n",
        "  </thead>\n",
        "  <tbody>\n",
        "    <tr>\n",
        "      <th>2013-01-01</th>\n",
        "      <td> 0.000000</td>\n",
        "      <td> 0.000000</td>\n",
        "      <td> 0.912153</td>\n",
        "      <td> 5</td>\n",
        "      <td>NaN</td>\n",
        "    </tr>\n",
        "    <tr>\n",
        "      <th>2013-01-02</th>\n",
        "      <td> 0.533736</td>\n",
        "      <td> 0.195464</td>\n",
        "      <td> 1.232967</td>\n",
        "      <td> 5</td>\n",
        "      <td>  1</td>\n",
        "    </tr>\n",
        "    <tr>\n",
        "      <th>2013-01-03</th>\n",
        "      <td> 0.029526</td>\n",
        "      <td>-0.953831</td>\n",
        "      <td>-1.020860</td>\n",
        "      <td> 5</td>\n",
        "      <td>  2</td>\n",
        "    </tr>\n",
        "    <tr>\n",
        "      <th>2013-01-04</th>\n",
        "      <td>-0.375673</td>\n",
        "      <td>-0.305868</td>\n",
        "      <td> 0.283911</td>\n",
        "      <td> 5</td>\n",
        "      <td>  3</td>\n",
        "    </tr>\n",
        "    <tr>\n",
        "      <th>2013-01-05</th>\n",
        "      <td> 0.347365</td>\n",
        "      <td> 1.098320</td>\n",
        "      <td>-0.401894</td>\n",
        "      <td> 5</td>\n",
        "      <td>  4</td>\n",
        "    </tr>\n",
        "    <tr>\n",
        "      <th>2013-01-06</th>\n",
        "      <td>-0.764138</td>\n",
        "      <td> 0.759652</td>\n",
        "      <td>-0.407648</td>\n",
        "      <td> 5</td>\n",
        "      <td>  5</td>\n",
        "    </tr>\n",
        "  </tbody>\n",
        "</table>\n",
        "</div>"
       ],
       "metadata": {},
       "output_type": "pyout",
       "prompt_number": 117,
       "text": [
        "                   A         B         C  D   F\n",
        "2013-01-01  0.000000  0.000000  0.912153  5 NaN\n",
        "2013-01-02  0.533736  0.195464  1.232967  5   1\n",
        "2013-01-03  0.029526 -0.953831 -1.020860  5   2\n",
        "2013-01-04 -0.375673 -0.305868  0.283911  5   3\n",
        "2013-01-05  0.347365  1.098320 -0.401894  5   4\n",
        "2013-01-06 -0.764138  0.759652 -0.407648  5   5"
       ]
      }
     ],
     "prompt_number": 117
    },
    {
     "cell_type": "code",
     "collapsed": false,
     "input": [
      "df.describe(percentiles=[.05, .25, .75, .95])"
     ],
     "language": "python",
     "metadata": {},
     "outputs": [
      {
       "html": [
        "<div style=\"max-height:1000px;max-width:1500px;overflow:auto;\">\n",
        "<table border=\"1\" class=\"dataframe\">\n",
        "  <thead>\n",
        "    <tr style=\"text-align: right;\">\n",
        "      <th></th>\n",
        "      <th>A</th>\n",
        "      <th>B</th>\n",
        "      <th>C</th>\n",
        "      <th>D</th>\n",
        "      <th>F</th>\n",
        "    </tr>\n",
        "  </thead>\n",
        "  <tbody>\n",
        "    <tr>\n",
        "      <th>count</th>\n",
        "      <td> 6.000000</td>\n",
        "      <td> 6.000000</td>\n",
        "      <td> 6.000000</td>\n",
        "      <td> 6</td>\n",
        "      <td> 5.000000</td>\n",
        "    </tr>\n",
        "    <tr>\n",
        "      <th>mean</th>\n",
        "      <td>-0.038197</td>\n",
        "      <td> 0.132290</td>\n",
        "      <td> 0.099772</td>\n",
        "      <td> 5</td>\n",
        "      <td> 3.000000</td>\n",
        "    </tr>\n",
        "    <tr>\n",
        "      <th>std</th>\n",
        "      <td> 0.473855</td>\n",
        "      <td> 0.737554</td>\n",
        "      <td> 0.865212</td>\n",
        "      <td> 0</td>\n",
        "      <td> 1.581139</td>\n",
        "    </tr>\n",
        "    <tr>\n",
        "      <th>min</th>\n",
        "      <td>-0.764138</td>\n",
        "      <td>-0.953831</td>\n",
        "      <td>-1.020860</td>\n",
        "      <td> 5</td>\n",
        "      <td> 1.000000</td>\n",
        "    </tr>\n",
        "    <tr>\n",
        "      <th>5%</th>\n",
        "      <td>-0.667022</td>\n",
        "      <td>-0.791840</td>\n",
        "      <td>-0.867557</td>\n",
        "      <td> 5</td>\n",
        "      <td> 1.200000</td>\n",
        "    </tr>\n",
        "    <tr>\n",
        "      <th>25%</th>\n",
        "      <td>-0.281755</td>\n",
        "      <td>-0.229401</td>\n",
        "      <td>-0.406210</td>\n",
        "      <td> 5</td>\n",
        "      <td> 2.000000</td>\n",
        "    </tr>\n",
        "    <tr>\n",
        "      <th>50%</th>\n",
        "      <td> 0.014763</td>\n",
        "      <td> 0.097732</td>\n",
        "      <td>-0.058992</td>\n",
        "      <td> 5</td>\n",
        "      <td> 3.000000</td>\n",
        "    </tr>\n",
        "    <tr>\n",
        "      <th>75%</th>\n",
        "      <td> 0.267905</td>\n",
        "      <td> 0.618605</td>\n",
        "      <td> 0.755093</td>\n",
        "      <td> 5</td>\n",
        "      <td> 4.000000</td>\n",
        "    </tr>\n",
        "    <tr>\n",
        "      <th>95%</th>\n",
        "      <td> 0.487143</td>\n",
        "      <td> 1.013653</td>\n",
        "      <td> 1.152764</td>\n",
        "      <td> 5</td>\n",
        "      <td> 4.800000</td>\n",
        "    </tr>\n",
        "    <tr>\n",
        "      <th>max</th>\n",
        "      <td> 0.533736</td>\n",
        "      <td> 1.098320</td>\n",
        "      <td> 1.232967</td>\n",
        "      <td> 5</td>\n",
        "      <td> 5.000000</td>\n",
        "    </tr>\n",
        "  </tbody>\n",
        "</table>\n",
        "</div>"
       ],
       "metadata": {},
       "output_type": "pyout",
       "prompt_number": 139,
       "text": [
        "              A         B         C  D         F\n",
        "count  6.000000  6.000000  6.000000  6  5.000000\n",
        "mean  -0.038197  0.132290  0.099772  5  3.000000\n",
        "std    0.473855  0.737554  0.865212  0  1.581139\n",
        "min   -0.764138 -0.953831 -1.020860  5  1.000000\n",
        "5%    -0.667022 -0.791840 -0.867557  5  1.200000\n",
        "25%   -0.281755 -0.229401 -0.406210  5  2.000000\n",
        "50%    0.014763  0.097732 -0.058992  5  3.000000\n",
        "75%    0.267905  0.618605  0.755093  5  4.000000\n",
        "95%    0.487143  1.013653  1.152764  5  4.800000\n",
        "max    0.533736  1.098320  1.232967  5  5.000000"
       ]
      }
     ],
     "prompt_number": 139
    },
    {
     "cell_type": "code",
     "collapsed": false,
     "input": [
      "df.mean()"
     ],
     "language": "python",
     "metadata": {},
     "outputs": [
      {
       "metadata": {},
       "output_type": "pyout",
       "prompt_number": 114,
       "text": [
        "A   -0.038197\n",
        "B    0.132290\n",
        "C    0.099772\n",
        "D    5.000000\n",
        "F    3.000000\n",
        "dtype: float64"
       ]
      }
     ],
     "prompt_number": 114
    },
    {
     "cell_type": "code",
     "collapsed": false,
     "input": [
      "df.mean(1)"
     ],
     "language": "python",
     "metadata": {},
     "outputs": [
      {
       "metadata": {},
       "output_type": "pyout",
       "prompt_number": 116,
       "text": [
        "2013-01-01    1.478038\n",
        "2013-01-02    1.592433\n",
        "2013-01-03    1.010967\n",
        "2013-01-04    1.520474\n",
        "2013-01-05    2.008758\n",
        "2013-01-06    1.917573\n",
        "Freq: D, dtype: float64"
       ]
      }
     ],
     "prompt_number": 116
    },
    {
     "cell_type": "markdown",
     "metadata": {},
     "source": [
      "# Binary operation\n",
      "## Sub example"
     ]
    },
    {
     "cell_type": "code",
     "collapsed": false,
     "input": [
      "s = pd.Series([1,3,5,np.nan,6,8], index=dates).shift(2)\n",
      "s"
     ],
     "language": "python",
     "metadata": {},
     "outputs": [
      {
       "metadata": {},
       "output_type": "pyout",
       "prompt_number": 118,
       "text": [
        "2013-01-01   NaN\n",
        "2013-01-02   NaN\n",
        "2013-01-03     1\n",
        "2013-01-04     3\n",
        "2013-01-05     5\n",
        "2013-01-06   NaN\n",
        "Freq: D, dtype: float64"
       ]
      }
     ],
     "prompt_number": 118
    },
    {
     "cell_type": "code",
     "collapsed": false,
     "input": [
      "print df\n",
      "df.sub(s, axis='index')"
     ],
     "language": "python",
     "metadata": {},
     "outputs": [
      {
       "output_type": "stream",
       "stream": "stdout",
       "text": [
        "                   A         B         C  D   F\n",
        "2013-01-01  0.000000  0.000000  0.912153  5 NaN\n",
        "2013-01-02  0.533736  0.195464  1.232967  5   1\n",
        "2013-01-03  0.029526 -0.953831 -1.020860  5   2\n",
        "2013-01-04 -0.375673 -0.305868  0.283911  5   3\n",
        "2013-01-05  0.347365  1.098320 -0.401894  5   4\n",
        "2013-01-06 -0.764138  0.759652 -0.407648  5   5\n"
       ]
      },
      {
       "html": [
        "<div style=\"max-height:1000px;max-width:1500px;overflow:auto;\">\n",
        "<table border=\"1\" class=\"dataframe\">\n",
        "  <thead>\n",
        "    <tr style=\"text-align: right;\">\n",
        "      <th></th>\n",
        "      <th>A</th>\n",
        "      <th>B</th>\n",
        "      <th>C</th>\n",
        "      <th>D</th>\n",
        "      <th>F</th>\n",
        "    </tr>\n",
        "  </thead>\n",
        "  <tbody>\n",
        "    <tr>\n",
        "      <th>2013-01-01</th>\n",
        "      <td>      NaN</td>\n",
        "      <td>      NaN</td>\n",
        "      <td>      NaN</td>\n",
        "      <td>NaN</td>\n",
        "      <td>NaN</td>\n",
        "    </tr>\n",
        "    <tr>\n",
        "      <th>2013-01-02</th>\n",
        "      <td>      NaN</td>\n",
        "      <td>      NaN</td>\n",
        "      <td>      NaN</td>\n",
        "      <td>NaN</td>\n",
        "      <td>NaN</td>\n",
        "    </tr>\n",
        "    <tr>\n",
        "      <th>2013-01-03</th>\n",
        "      <td>-0.970474</td>\n",
        "      <td>-1.953831</td>\n",
        "      <td>-2.020860</td>\n",
        "      <td>  4</td>\n",
        "      <td>  1</td>\n",
        "    </tr>\n",
        "    <tr>\n",
        "      <th>2013-01-04</th>\n",
        "      <td>-3.375673</td>\n",
        "      <td>-3.305868</td>\n",
        "      <td>-2.716089</td>\n",
        "      <td>  2</td>\n",
        "      <td>  0</td>\n",
        "    </tr>\n",
        "    <tr>\n",
        "      <th>2013-01-05</th>\n",
        "      <td>-4.652635</td>\n",
        "      <td>-3.901680</td>\n",
        "      <td>-5.401894</td>\n",
        "      <td>  0</td>\n",
        "      <td> -1</td>\n",
        "    </tr>\n",
        "    <tr>\n",
        "      <th>2013-01-06</th>\n",
        "      <td>      NaN</td>\n",
        "      <td>      NaN</td>\n",
        "      <td>      NaN</td>\n",
        "      <td>NaN</td>\n",
        "      <td>NaN</td>\n",
        "    </tr>\n",
        "  </tbody>\n",
        "</table>\n",
        "</div>"
       ],
       "metadata": {},
       "output_type": "pyout",
       "prompt_number": 120,
       "text": [
        "                   A         B         C   D   F\n",
        "2013-01-01       NaN       NaN       NaN NaN NaN\n",
        "2013-01-02       NaN       NaN       NaN NaN NaN\n",
        "2013-01-03 -0.970474 -1.953831 -2.020860   4   1\n",
        "2013-01-04 -3.375673 -3.305868 -2.716089   2   0\n",
        "2013-01-05 -4.652635 -3.901680 -5.401894   0  -1\n",
        "2013-01-06       NaN       NaN       NaN NaN NaN"
       ]
      }
     ],
     "prompt_number": 120
    },
    {
     "cell_type": "markdown",
     "metadata": {},
     "source": [
      "# Applying functions to the data\n",
      "## Eample using numpy.cumsum\n",
      "### How numpy.cumsum works"
     ]
    },
    {
     "cell_type": "code",
     "collapsed": false,
     "input": [
      "a = np.array([[1,2,3], [4,5,6]])\n",
      "a"
     ],
     "language": "python",
     "metadata": {},
     "outputs": [
      {
       "metadata": {},
       "output_type": "pyout",
       "prompt_number": 125,
       "text": [
        "array([[1, 2, 3],\n",
        "       [4, 5, 6]])"
       ]
      }
     ],
     "prompt_number": 125
    },
    {
     "cell_type": "code",
     "collapsed": false,
     "input": [
      "np.cumsum(a)"
     ],
     "language": "python",
     "metadata": {},
     "outputs": [
      {
       "metadata": {},
       "output_type": "pyout",
       "prompt_number": 126,
       "text": [
        "array([ 1,  3,  6, 10, 15, 21])"
       ]
      }
     ],
     "prompt_number": 126
    },
    {
     "cell_type": "code",
     "collapsed": false,
     "input": [
      "np.cumsum(a,axis=0)"
     ],
     "language": "python",
     "metadata": {},
     "outputs": [
      {
       "metadata": {},
       "output_type": "pyout",
       "prompt_number": 127,
       "text": [
        "array([[1, 2, 3],\n",
        "       [5, 7, 9]])"
       ]
      }
     ],
     "prompt_number": 127
    },
    {
     "cell_type": "code",
     "collapsed": false,
     "input": [
      "np.cumsum(a,axis=1)"
     ],
     "language": "python",
     "metadata": {},
     "outputs": [
      {
       "metadata": {},
       "output_type": "pyout",
       "prompt_number": 128,
       "text": [
        "array([[ 1,  3,  6],\n",
        "       [ 4,  9, 15]])"
       ]
      }
     ],
     "prompt_number": 128
    },
    {
     "cell_type": "markdown",
     "metadata": {},
     "source": [
      "### Applying numpy.cumsum to a dataframe"
     ]
    },
    {
     "cell_type": "code",
     "collapsed": false,
     "input": [
      "print df\n",
      "df.apply(np.cumsum)"
     ],
     "language": "python",
     "metadata": {},
     "outputs": [
      {
       "output_type": "stream",
       "stream": "stdout",
       "text": [
        "                   A         B         C  D   F\n",
        "2013-01-01  0.000000  0.000000  0.912153  5 NaN\n",
        "2013-01-02  0.533736  0.195464  1.232967  5   1\n",
        "2013-01-03  0.029526 -0.953831 -1.020860  5   2\n",
        "2013-01-04 -0.375673 -0.305868  0.283911  5   3\n",
        "2013-01-05  0.347365  1.098320 -0.401894  5   4\n",
        "2013-01-06 -0.764138  0.759652 -0.407648  5   5\n"
       ]
      },
      {
       "html": [
        "<div style=\"max-height:1000px;max-width:1500px;overflow:auto;\">\n",
        "<table border=\"1\" class=\"dataframe\">\n",
        "  <thead>\n",
        "    <tr style=\"text-align: right;\">\n",
        "      <th></th>\n",
        "      <th>A</th>\n",
        "      <th>B</th>\n",
        "      <th>C</th>\n",
        "      <th>D</th>\n",
        "      <th>F</th>\n",
        "    </tr>\n",
        "  </thead>\n",
        "  <tbody>\n",
        "    <tr>\n",
        "      <th>2013-01-01</th>\n",
        "      <td> 0.000000</td>\n",
        "      <td> 0.000000</td>\n",
        "      <td> 0.912153</td>\n",
        "      <td>  5</td>\n",
        "      <td>NaN</td>\n",
        "    </tr>\n",
        "    <tr>\n",
        "      <th>2013-01-02</th>\n",
        "      <td> 0.533736</td>\n",
        "      <td> 0.195464</td>\n",
        "      <td> 2.145121</td>\n",
        "      <td> 10</td>\n",
        "      <td>  1</td>\n",
        "    </tr>\n",
        "    <tr>\n",
        "      <th>2013-01-03</th>\n",
        "      <td> 0.563262</td>\n",
        "      <td>-0.758367</td>\n",
        "      <td> 1.124261</td>\n",
        "      <td> 15</td>\n",
        "      <td>  3</td>\n",
        "    </tr>\n",
        "    <tr>\n",
        "      <th>2013-01-04</th>\n",
        "      <td> 0.187589</td>\n",
        "      <td>-1.064235</td>\n",
        "      <td> 1.408172</td>\n",
        "      <td> 20</td>\n",
        "      <td>  6</td>\n",
        "    </tr>\n",
        "    <tr>\n",
        "      <th>2013-01-05</th>\n",
        "      <td> 0.534954</td>\n",
        "      <td> 0.034086</td>\n",
        "      <td> 1.006278</td>\n",
        "      <td> 25</td>\n",
        "      <td> 10</td>\n",
        "    </tr>\n",
        "    <tr>\n",
        "      <th>2013-01-06</th>\n",
        "      <td>-0.229185</td>\n",
        "      <td> 0.793738</td>\n",
        "      <td> 0.598629</td>\n",
        "      <td> 30</td>\n",
        "      <td> 15</td>\n",
        "    </tr>\n",
        "  </tbody>\n",
        "</table>\n",
        "</div>"
       ],
       "metadata": {},
       "output_type": "pyout",
       "prompt_number": 130,
       "text": [
        "                   A         B         C   D   F\n",
        "2013-01-01  0.000000  0.000000  0.912153   5 NaN\n",
        "2013-01-02  0.533736  0.195464  2.145121  10   1\n",
        "2013-01-03  0.563262 -0.758367  1.124261  15   3\n",
        "2013-01-04  0.187589 -1.064235  1.408172  20   6\n",
        "2013-01-05  0.534954  0.034086  1.006278  25  10\n",
        "2013-01-06 -0.229185  0.793738  0.598629  30  15"
       ]
      }
     ],
     "prompt_number": 130
    },
    {
     "cell_type": "markdown",
     "metadata": {},
     "source": [
      "## Applying a lambda function to a dataframe"
     ]
    },
    {
     "cell_type": "code",
     "collapsed": false,
     "input": [
      "df.apply(lambda x: x.max())"
     ],
     "language": "python",
     "metadata": {},
     "outputs": [
      {
       "metadata": {},
       "output_type": "pyout",
       "prompt_number": 136,
       "text": [
        "A    0.533736\n",
        "B    1.098320\n",
        "C    1.232967\n",
        "D    5.000000\n",
        "F    5.000000\n",
        "dtype: float64"
       ]
      }
     ],
     "prompt_number": 136
    },
    {
     "cell_type": "code",
     "collapsed": false,
     "input": [
      "df.apply(lambda x: x.min())"
     ],
     "language": "python",
     "metadata": {},
     "outputs": [
      {
       "metadata": {},
       "output_type": "pyout",
       "prompt_number": 138,
       "text": [
        "A   -0.764138\n",
        "B   -0.953831\n",
        "C   -1.020860\n",
        "D    5.000000\n",
        "F    1.000000\n",
        "dtype: float64"
       ]
      }
     ],
     "prompt_number": 138
    },
    {
     "cell_type": "code",
     "collapsed": false,
     "input": [
      "df.apply(lambda x: x.max() - x.min())"
     ],
     "language": "python",
     "metadata": {},
     "outputs": [
      {
       "metadata": {},
       "output_type": "pyout",
       "prompt_number": 135,
       "text": [
        "A    1.297874\n",
        "B    2.052151\n",
        "C    2.253827\n",
        "D    0.000000\n",
        "F    4.000000\n",
        "dtype: float64"
       ]
      }
     ],
     "prompt_number": 135
    },
    {
     "cell_type": "markdown",
     "metadata": {},
     "source": [
      "# Get value counts (histogram)"
     ]
    },
    {
     "cell_type": "code",
     "collapsed": false,
     "input": [
      "numpy.random.seed(3141)\n",
      "s = pd.Series(np.random.randint(0, 7, size=10))\n",
      "s"
     ],
     "language": "python",
     "metadata": {},
     "outputs": [
      {
       "metadata": {},
       "output_type": "pyout",
       "prompt_number": 154,
       "text": [
        "0    0\n",
        "1    1\n",
        "2    2\n",
        "3    6\n",
        "4    3\n",
        "5    1\n",
        "6    5\n",
        "7    1\n",
        "8    5\n",
        "9    5\n",
        "dtype: int64"
       ]
      }
     ],
     "prompt_number": 154
    },
    {
     "cell_type": "code",
     "collapsed": false,
     "input": [
      "s.value_counts()"
     ],
     "language": "python",
     "metadata": {},
     "outputs": [
      {
       "metadata": {},
       "output_type": "pyout",
       "prompt_number": 155,
       "text": [
        "5    3\n",
        "1    3\n",
        "6    1\n",
        "3    1\n",
        "2    1\n",
        "0    1\n",
        "dtype: int64"
       ]
      }
     ],
     "prompt_number": 155
    },
    {
     "cell_type": "code",
     "collapsed": false,
     "input": [
      "print df\n",
      "df.apply(lambda x: x.value_counts())"
     ],
     "language": "python",
     "metadata": {},
     "outputs": [
      {
       "output_type": "stream",
       "stream": "stdout",
       "text": [
        "                   A         B         C  D   F\n",
        "2013-01-01  0.000000  0.000000  0.912153  5 NaN\n",
        "2013-01-02  0.533736  0.195464  1.232967  5   1\n",
        "2013-01-03  0.029526 -0.953831 -1.020860  5   2\n",
        "2013-01-04 -0.375673 -0.305868  0.283911  5   3\n",
        "2013-01-05  0.347365  1.098320 -0.401894  5   4\n",
        "2013-01-06 -0.764138  0.759652 -0.407648  5   5\n"
       ]
      },
      {
       "html": [
        "<div style=\"max-height:1000px;max-width:1500px;overflow:auto;\">\n",
        "<table border=\"1\" class=\"dataframe\">\n",
        "  <thead>\n",
        "    <tr style=\"text-align: right;\">\n",
        "      <th></th>\n",
        "      <th>A</th>\n",
        "      <th>B</th>\n",
        "      <th>C</th>\n",
        "      <th>D</th>\n",
        "      <th>F</th>\n",
        "    </tr>\n",
        "  </thead>\n",
        "  <tbody>\n",
        "    <tr>\n",
        "      <th>-1.020860</th>\n",
        "      <td>NaN</td>\n",
        "      <td>NaN</td>\n",
        "      <td>  1</td>\n",
        "      <td>NaN</td>\n",
        "      <td>NaN</td>\n",
        "    </tr>\n",
        "    <tr>\n",
        "      <th>-0.953831</th>\n",
        "      <td>NaN</td>\n",
        "      <td>  1</td>\n",
        "      <td>NaN</td>\n",
        "      <td>NaN</td>\n",
        "      <td>NaN</td>\n",
        "    </tr>\n",
        "    <tr>\n",
        "      <th>-0.764138</th>\n",
        "      <td>  1</td>\n",
        "      <td>NaN</td>\n",
        "      <td>NaN</td>\n",
        "      <td>NaN</td>\n",
        "      <td>NaN</td>\n",
        "    </tr>\n",
        "    <tr>\n",
        "      <th>-0.407648</th>\n",
        "      <td>NaN</td>\n",
        "      <td>NaN</td>\n",
        "      <td>  1</td>\n",
        "      <td>NaN</td>\n",
        "      <td>NaN</td>\n",
        "    </tr>\n",
        "    <tr>\n",
        "      <th>-0.401894</th>\n",
        "      <td>NaN</td>\n",
        "      <td>NaN</td>\n",
        "      <td>  1</td>\n",
        "      <td>NaN</td>\n",
        "      <td>NaN</td>\n",
        "    </tr>\n",
        "    <tr>\n",
        "      <th>-0.375673</th>\n",
        "      <td>  1</td>\n",
        "      <td>NaN</td>\n",
        "      <td>NaN</td>\n",
        "      <td>NaN</td>\n",
        "      <td>NaN</td>\n",
        "    </tr>\n",
        "    <tr>\n",
        "      <th>-0.305868</th>\n",
        "      <td>NaN</td>\n",
        "      <td>  1</td>\n",
        "      <td>NaN</td>\n",
        "      <td>NaN</td>\n",
        "      <td>NaN</td>\n",
        "    </tr>\n",
        "    <tr>\n",
        "      <th> 0.000000</th>\n",
        "      <td>  1</td>\n",
        "      <td>  1</td>\n",
        "      <td>NaN</td>\n",
        "      <td>NaN</td>\n",
        "      <td>NaN</td>\n",
        "    </tr>\n",
        "    <tr>\n",
        "      <th> 0.029526</th>\n",
        "      <td>  1</td>\n",
        "      <td>NaN</td>\n",
        "      <td>NaN</td>\n",
        "      <td>NaN</td>\n",
        "      <td>NaN</td>\n",
        "    </tr>\n",
        "    <tr>\n",
        "      <th> 0.195464</th>\n",
        "      <td>NaN</td>\n",
        "      <td>  1</td>\n",
        "      <td>NaN</td>\n",
        "      <td>NaN</td>\n",
        "      <td>NaN</td>\n",
        "    </tr>\n",
        "    <tr>\n",
        "      <th> 0.283911</th>\n",
        "      <td>NaN</td>\n",
        "      <td>NaN</td>\n",
        "      <td>  1</td>\n",
        "      <td>NaN</td>\n",
        "      <td>NaN</td>\n",
        "    </tr>\n",
        "    <tr>\n",
        "      <th> 0.347365</th>\n",
        "      <td>  1</td>\n",
        "      <td>NaN</td>\n",
        "      <td>NaN</td>\n",
        "      <td>NaN</td>\n",
        "      <td>NaN</td>\n",
        "    </tr>\n",
        "    <tr>\n",
        "      <th> 0.533736</th>\n",
        "      <td>  1</td>\n",
        "      <td>NaN</td>\n",
        "      <td>NaN</td>\n",
        "      <td>NaN</td>\n",
        "      <td>NaN</td>\n",
        "    </tr>\n",
        "    <tr>\n",
        "      <th> 0.759652</th>\n",
        "      <td>NaN</td>\n",
        "      <td>  1</td>\n",
        "      <td>NaN</td>\n",
        "      <td>NaN</td>\n",
        "      <td>NaN</td>\n",
        "    </tr>\n",
        "    <tr>\n",
        "      <th> 0.912153</th>\n",
        "      <td>NaN</td>\n",
        "      <td>NaN</td>\n",
        "      <td>  1</td>\n",
        "      <td>NaN</td>\n",
        "      <td>NaN</td>\n",
        "    </tr>\n",
        "    <tr>\n",
        "      <th> 1.000000</th>\n",
        "      <td>NaN</td>\n",
        "      <td>NaN</td>\n",
        "      <td>NaN</td>\n",
        "      <td>NaN</td>\n",
        "      <td>  1</td>\n",
        "    </tr>\n",
        "    <tr>\n",
        "      <th> 1.098320</th>\n",
        "      <td>NaN</td>\n",
        "      <td>  1</td>\n",
        "      <td>NaN</td>\n",
        "      <td>NaN</td>\n",
        "      <td>NaN</td>\n",
        "    </tr>\n",
        "    <tr>\n",
        "      <th> 1.232967</th>\n",
        "      <td>NaN</td>\n",
        "      <td>NaN</td>\n",
        "      <td>  1</td>\n",
        "      <td>NaN</td>\n",
        "      <td>NaN</td>\n",
        "    </tr>\n",
        "    <tr>\n",
        "      <th> 2.000000</th>\n",
        "      <td>NaN</td>\n",
        "      <td>NaN</td>\n",
        "      <td>NaN</td>\n",
        "      <td>NaN</td>\n",
        "      <td>  1</td>\n",
        "    </tr>\n",
        "    <tr>\n",
        "      <th> 3.000000</th>\n",
        "      <td>NaN</td>\n",
        "      <td>NaN</td>\n",
        "      <td>NaN</td>\n",
        "      <td>NaN</td>\n",
        "      <td>  1</td>\n",
        "    </tr>\n",
        "    <tr>\n",
        "      <th> 4.000000</th>\n",
        "      <td>NaN</td>\n",
        "      <td>NaN</td>\n",
        "      <td>NaN</td>\n",
        "      <td>NaN</td>\n",
        "      <td>  1</td>\n",
        "    </tr>\n",
        "    <tr>\n",
        "      <th> 5.000000</th>\n",
        "      <td>NaN</td>\n",
        "      <td>NaN</td>\n",
        "      <td>NaN</td>\n",
        "      <td>  6</td>\n",
        "      <td>  1</td>\n",
        "    </tr>\n",
        "  </tbody>\n",
        "</table>\n",
        "</div>"
       ],
       "metadata": {},
       "output_type": "pyout",
       "prompt_number": 158,
       "text": [
        "            A   B   C   D   F\n",
        "-1.020860 NaN NaN   1 NaN NaN\n",
        "-0.953831 NaN   1 NaN NaN NaN\n",
        "-0.764138   1 NaN NaN NaN NaN\n",
        "-0.407648 NaN NaN   1 NaN NaN\n",
        "-0.401894 NaN NaN   1 NaN NaN\n",
        "-0.375673   1 NaN NaN NaN NaN\n",
        "-0.305868 NaN   1 NaN NaN NaN\n",
        " 0.000000   1   1 NaN NaN NaN\n",
        " 0.029526   1 NaN NaN NaN NaN\n",
        " 0.195464 NaN   1 NaN NaN NaN\n",
        " 0.283911 NaN NaN   1 NaN NaN\n",
        " 0.347365   1 NaN NaN NaN NaN\n",
        " 0.533736   1 NaN NaN NaN NaN\n",
        " 0.759652 NaN   1 NaN NaN NaN\n",
        " 0.912153 NaN NaN   1 NaN NaN\n",
        " 1.000000 NaN NaN NaN NaN   1\n",
        " 1.098320 NaN   1 NaN NaN NaN\n",
        " 1.232967 NaN NaN   1 NaN NaN\n",
        " 2.000000 NaN NaN NaN NaN   1\n",
        " 3.000000 NaN NaN NaN NaN   1\n",
        " 4.000000 NaN NaN NaN NaN   1\n",
        " 5.000000 NaN NaN NaN   6   1"
       ]
      }
     ],
     "prompt_number": 158
    },
    {
     "cell_type": "markdown",
     "metadata": {},
     "source": [
      "# Strings"
     ]
    },
    {
     "cell_type": "code",
     "collapsed": false,
     "input": [
      "s = pd.Series(['A', 'B', 'C', 'Aaba', 'Baca', np.nan, 'CABA', 'dog', 'cat'])\n",
      "s"
     ],
     "language": "python",
     "metadata": {},
     "outputs": [
      {
       "metadata": {},
       "output_type": "pyout",
       "prompt_number": 160,
       "text": [
        "0       A\n",
        "1       B\n",
        "2       C\n",
        "3    Aaba\n",
        "4    Baca\n",
        "5     NaN\n",
        "6    CABA\n",
        "7     dog\n",
        "8     cat\n",
        "dtype: object"
       ]
      }
     ],
     "prompt_number": 160
    },
    {
     "cell_type": "code",
     "collapsed": false,
     "input": [
      "s.str.lower()"
     ],
     "language": "python",
     "metadata": {},
     "outputs": [
      {
       "metadata": {},
       "output_type": "pyout",
       "prompt_number": 165,
       "text": [
        "0       a\n",
        "1       b\n",
        "2       c\n",
        "3    aaba\n",
        "4    baca\n",
        "5     NaN\n",
        "6    caba\n",
        "7     dog\n",
        "8     cat\n",
        "dtype: object"
       ]
      }
     ],
     "prompt_number": 165
    },
    {
     "cell_type": "code",
     "collapsed": false,
     "input": [
      "df2 = pd.DataFrame({ 'A' : 1.,\n",
      "                    'B' : pd.Timestamp('20130102'),\n",
      "                    'C' : pd.Series(1,index=list(range(4)),dtype='float32'),\n",
      "                    'D' : np.array([3] * 4,dtype='int32'),\n",
      "                    'E' : pd.Categorical([\"test\",\"train\",\"test\",\"train\"]),\n",
      "                    'F' : 'foo' })\n",
      "df2"
     ],
     "language": "python",
     "metadata": {},
     "outputs": [
      {
       "html": [
        "<div style=\"max-height:1000px;max-width:1500px;overflow:auto;\">\n",
        "<table border=\"1\" class=\"dataframe\">\n",
        "  <thead>\n",
        "    <tr style=\"text-align: right;\">\n",
        "      <th></th>\n",
        "      <th>A</th>\n",
        "      <th>B</th>\n",
        "      <th>C</th>\n",
        "      <th>D</th>\n",
        "      <th>E</th>\n",
        "      <th>F</th>\n",
        "    </tr>\n",
        "  </thead>\n",
        "  <tbody>\n",
        "    <tr>\n",
        "      <th>0</th>\n",
        "      <td> 1</td>\n",
        "      <td>2013-01-02</td>\n",
        "      <td> 1</td>\n",
        "      <td> 3</td>\n",
        "      <td>  test</td>\n",
        "      <td> foo</td>\n",
        "    </tr>\n",
        "    <tr>\n",
        "      <th>1</th>\n",
        "      <td> 1</td>\n",
        "      <td>2013-01-02</td>\n",
        "      <td> 1</td>\n",
        "      <td> 3</td>\n",
        "      <td> train</td>\n",
        "      <td> foo</td>\n",
        "    </tr>\n",
        "    <tr>\n",
        "      <th>2</th>\n",
        "      <td> 1</td>\n",
        "      <td>2013-01-02</td>\n",
        "      <td> 1</td>\n",
        "      <td> 3</td>\n",
        "      <td>  test</td>\n",
        "      <td> foo</td>\n",
        "    </tr>\n",
        "    <tr>\n",
        "      <th>3</th>\n",
        "      <td> 1</td>\n",
        "      <td>2013-01-02</td>\n",
        "      <td> 1</td>\n",
        "      <td> 3</td>\n",
        "      <td> train</td>\n",
        "      <td> foo</td>\n",
        "    </tr>\n",
        "  </tbody>\n",
        "</table>\n",
        "</div>"
       ],
       "metadata": {},
       "output_type": "pyout",
       "prompt_number": 167,
       "text": [
        "   A          B  C  D      E    F\n",
        "0  1 2013-01-02  1  3   test  foo\n",
        "1  1 2013-01-02  1  3  train  foo\n",
        "2  1 2013-01-02  1  3   test  foo\n",
        "3  1 2013-01-02  1  3  train  foo"
       ]
      }
     ],
     "prompt_number": 167
    },
    {
     "cell_type": "code",
     "collapsed": false,
     "input": [
      "df2.E.str.lower()"
     ],
     "language": "python",
     "metadata": {},
     "outputs": [
      {
       "metadata": {},
       "output_type": "pyout",
       "prompt_number": 169,
       "text": [
        "0     test\n",
        "1    train\n",
        "2     test\n",
        "3    train\n",
        "Name: E, dtype: object"
       ]
      }
     ],
     "prompt_number": 169
    },
    {
     "cell_type": "markdown",
     "metadata": {},
     "source": [
      "# Seperating and Merging"
     ]
    },
    {
     "cell_type": "code",
     "collapsed": false,
     "input": [
      "df = pd.DataFrame(np.random.randn(10, 4))\n",
      "df"
     ],
     "language": "python",
     "metadata": {},
     "outputs": [
      {
       "html": [
        "<div style=\"max-height:1000px;max-width:1500px;overflow:auto;\">\n",
        "<table border=\"1\" class=\"dataframe\">\n",
        "  <thead>\n",
        "    <tr style=\"text-align: right;\">\n",
        "      <th></th>\n",
        "      <th>0</th>\n",
        "      <th>1</th>\n",
        "      <th>2</th>\n",
        "      <th>3</th>\n",
        "    </tr>\n",
        "  </thead>\n",
        "  <tbody>\n",
        "    <tr>\n",
        "      <th>0</th>\n",
        "      <td>-0.780990</td>\n",
        "      <td>-0.681411</td>\n",
        "      <td>-0.761773</td>\n",
        "      <td>-0.119461</td>\n",
        "    </tr>\n",
        "    <tr>\n",
        "      <th>1</th>\n",
        "      <td> 0.099370</td>\n",
        "      <td> 1.817058</td>\n",
        "      <td>-1.432180</td>\n",
        "      <td>-1.668737</td>\n",
        "    </tr>\n",
        "    <tr>\n",
        "      <th>2</th>\n",
        "      <td>-0.081338</td>\n",
        "      <td>-1.200262</td>\n",
        "      <td> 0.301148</td>\n",
        "      <td> 0.226868</td>\n",
        "    </tr>\n",
        "    <tr>\n",
        "      <th>3</th>\n",
        "      <td> 0.552045</td>\n",
        "      <td> 0.211555</td>\n",
        "      <td> 1.113250</td>\n",
        "      <td>-0.135035</td>\n",
        "    </tr>\n",
        "    <tr>\n",
        "      <th>4</th>\n",
        "      <td> 0.378446</td>\n",
        "      <td>-1.134929</td>\n",
        "      <td>-0.182837</td>\n",
        "      <td>-0.535175</td>\n",
        "    </tr>\n",
        "    <tr>\n",
        "      <th>5</th>\n",
        "      <td>-1.292433</td>\n",
        "      <td>-1.283620</td>\n",
        "      <td> 0.882145</td>\n",
        "      <td>-0.822631</td>\n",
        "    </tr>\n",
        "    <tr>\n",
        "      <th>6</th>\n",
        "      <td> 1.282259</td>\n",
        "      <td> 1.795561</td>\n",
        "      <td> 0.417589</td>\n",
        "      <td>-0.957859</td>\n",
        "    </tr>\n",
        "    <tr>\n",
        "      <th>7</th>\n",
        "      <td> 0.115630</td>\n",
        "      <td> 0.800898</td>\n",
        "      <td>-2.971596</td>\n",
        "      <td>-1.173003</td>\n",
        "    </tr>\n",
        "    <tr>\n",
        "      <th>8</th>\n",
        "      <td> 0.813187</td>\n",
        "      <td>-0.924544</td>\n",
        "      <td>-1.515630</td>\n",
        "      <td>-1.392925</td>\n",
        "    </tr>\n",
        "    <tr>\n",
        "      <th>9</th>\n",
        "      <td>-1.209643</td>\n",
        "      <td>-0.061122</td>\n",
        "      <td> 0.317282</td>\n",
        "      <td> 0.508997</td>\n",
        "    </tr>\n",
        "  </tbody>\n",
        "</table>\n",
        "</div>"
       ],
       "metadata": {},
       "output_type": "pyout",
       "prompt_number": 170,
       "text": [
        "          0         1         2         3\n",
        "0 -0.780990 -0.681411 -0.761773 -0.119461\n",
        "1  0.099370  1.817058 -1.432180 -1.668737\n",
        "2 -0.081338 -1.200262  0.301148  0.226868\n",
        "3  0.552045  0.211555  1.113250 -0.135035\n",
        "4  0.378446 -1.134929 -0.182837 -0.535175\n",
        "5 -1.292433 -1.283620  0.882145 -0.822631\n",
        "6  1.282259  1.795561  0.417589 -0.957859\n",
        "7  0.115630  0.800898 -2.971596 -1.173003\n",
        "8  0.813187 -0.924544 -1.515630 -1.392925\n",
        "9 -1.209643 -0.061122  0.317282  0.508997"
       ]
      }
     ],
     "prompt_number": 170
    },
    {
     "cell_type": "code",
     "collapsed": false,
     "input": [
      "pieces = [df[:3], df[3:7], df[7:]]\n",
      "pieces"
     ],
     "language": "python",
     "metadata": {},
     "outputs": [
      {
       "metadata": {},
       "output_type": "pyout",
       "prompt_number": 172,
       "text": [
        "[          0         1         2         3\n",
        " 0 -0.780990 -0.681411 -0.761773 -0.119461\n",
        " 1  0.099370  1.817058 -1.432180 -1.668737\n",
        " 2 -0.081338 -1.200262  0.301148  0.226868,\n",
        "           0         1         2         3\n",
        " 3  0.552045  0.211555  1.113250 -0.135035\n",
        " 4  0.378446 -1.134929 -0.182837 -0.535175\n",
        " 5 -1.292433 -1.283620  0.882145 -0.822631\n",
        " 6  1.282259  1.795561  0.417589 -0.957859,\n",
        "           0         1         2         3\n",
        " 7  0.115630  0.800898 -2.971596 -1.173003\n",
        " 8  0.813187 -0.924544 -1.515630 -1.392925\n",
        " 9 -1.209643 -0.061122  0.317282  0.508997]"
       ]
      }
     ],
     "prompt_number": 172
    },
    {
     "cell_type": "code",
     "collapsed": false,
     "input": [
      "pd.concat(pieces)"
     ],
     "language": "python",
     "metadata": {},
     "outputs": [
      {
       "html": [
        "<div style=\"max-height:1000px;max-width:1500px;overflow:auto;\">\n",
        "<table border=\"1\" class=\"dataframe\">\n",
        "  <thead>\n",
        "    <tr style=\"text-align: right;\">\n",
        "      <th></th>\n",
        "      <th>0</th>\n",
        "      <th>1</th>\n",
        "      <th>2</th>\n",
        "      <th>3</th>\n",
        "    </tr>\n",
        "  </thead>\n",
        "  <tbody>\n",
        "    <tr>\n",
        "      <th>0</th>\n",
        "      <td>-0.780990</td>\n",
        "      <td>-0.681411</td>\n",
        "      <td>-0.761773</td>\n",
        "      <td>-0.119461</td>\n",
        "    </tr>\n",
        "    <tr>\n",
        "      <th>1</th>\n",
        "      <td> 0.099370</td>\n",
        "      <td> 1.817058</td>\n",
        "      <td>-1.432180</td>\n",
        "      <td>-1.668737</td>\n",
        "    </tr>\n",
        "    <tr>\n",
        "      <th>2</th>\n",
        "      <td>-0.081338</td>\n",
        "      <td>-1.200262</td>\n",
        "      <td> 0.301148</td>\n",
        "      <td> 0.226868</td>\n",
        "    </tr>\n",
        "    <tr>\n",
        "      <th>3</th>\n",
        "      <td> 0.552045</td>\n",
        "      <td> 0.211555</td>\n",
        "      <td> 1.113250</td>\n",
        "      <td>-0.135035</td>\n",
        "    </tr>\n",
        "    <tr>\n",
        "      <th>4</th>\n",
        "      <td> 0.378446</td>\n",
        "      <td>-1.134929</td>\n",
        "      <td>-0.182837</td>\n",
        "      <td>-0.535175</td>\n",
        "    </tr>\n",
        "    <tr>\n",
        "      <th>5</th>\n",
        "      <td>-1.292433</td>\n",
        "      <td>-1.283620</td>\n",
        "      <td> 0.882145</td>\n",
        "      <td>-0.822631</td>\n",
        "    </tr>\n",
        "    <tr>\n",
        "      <th>6</th>\n",
        "      <td> 1.282259</td>\n",
        "      <td> 1.795561</td>\n",
        "      <td> 0.417589</td>\n",
        "      <td>-0.957859</td>\n",
        "    </tr>\n",
        "    <tr>\n",
        "      <th>7</th>\n",
        "      <td> 0.115630</td>\n",
        "      <td> 0.800898</td>\n",
        "      <td>-2.971596</td>\n",
        "      <td>-1.173003</td>\n",
        "    </tr>\n",
        "    <tr>\n",
        "      <th>8</th>\n",
        "      <td> 0.813187</td>\n",
        "      <td>-0.924544</td>\n",
        "      <td>-1.515630</td>\n",
        "      <td>-1.392925</td>\n",
        "    </tr>\n",
        "    <tr>\n",
        "      <th>9</th>\n",
        "      <td>-1.209643</td>\n",
        "      <td>-0.061122</td>\n",
        "      <td> 0.317282</td>\n",
        "      <td> 0.508997</td>\n",
        "    </tr>\n",
        "  </tbody>\n",
        "</table>\n",
        "</div>"
       ],
       "metadata": {},
       "output_type": "pyout",
       "prompt_number": 173,
       "text": [
        "          0         1         2         3\n",
        "0 -0.780990 -0.681411 -0.761773 -0.119461\n",
        "1  0.099370  1.817058 -1.432180 -1.668737\n",
        "2 -0.081338 -1.200262  0.301148  0.226868\n",
        "3  0.552045  0.211555  1.113250 -0.135035\n",
        "4  0.378446 -1.134929 -0.182837 -0.535175\n",
        "5 -1.292433 -1.283620  0.882145 -0.822631\n",
        "6  1.282259  1.795561  0.417589 -0.957859\n",
        "7  0.115630  0.800898 -2.971596 -1.173003\n",
        "8  0.813187 -0.924544 -1.515630 -1.392925\n",
        "9 -1.209643 -0.061122  0.317282  0.508997"
       ]
      }
     ],
     "prompt_number": 173
    },
    {
     "cell_type": "markdown",
     "metadata": {},
     "source": [
      "## SQL-style"
     ]
    },
    {
     "cell_type": "code",
     "collapsed": false,
     "input": [
      "left = pd.DataFrame({'key': ['foo', 'foo'], 'lval': [1, 2]})\n",
      "left"
     ],
     "language": "python",
     "metadata": {},
     "outputs": [
      {
       "html": [
        "<div style=\"max-height:1000px;max-width:1500px;overflow:auto;\">\n",
        "<table border=\"1\" class=\"dataframe\">\n",
        "  <thead>\n",
        "    <tr style=\"text-align: right;\">\n",
        "      <th></th>\n",
        "      <th>key</th>\n",
        "      <th>lval</th>\n",
        "    </tr>\n",
        "  </thead>\n",
        "  <tbody>\n",
        "    <tr>\n",
        "      <th>0</th>\n",
        "      <td> foo</td>\n",
        "      <td> 1</td>\n",
        "    </tr>\n",
        "    <tr>\n",
        "      <th>1</th>\n",
        "      <td> foo</td>\n",
        "      <td> 2</td>\n",
        "    </tr>\n",
        "  </tbody>\n",
        "</table>\n",
        "</div>"
       ],
       "metadata": {},
       "output_type": "pyout",
       "prompt_number": 175,
       "text": [
        "   key  lval\n",
        "0  foo     1\n",
        "1  foo     2"
       ]
      }
     ],
     "prompt_number": 175
    },
    {
     "cell_type": "code",
     "collapsed": false,
     "input": [
      "right = pd.DataFrame({'key': ['foo', 'foo'], 'rval': [4, 5]})\n",
      "right"
     ],
     "language": "python",
     "metadata": {},
     "outputs": [
      {
       "html": [
        "<div style=\"max-height:1000px;max-width:1500px;overflow:auto;\">\n",
        "<table border=\"1\" class=\"dataframe\">\n",
        "  <thead>\n",
        "    <tr style=\"text-align: right;\">\n",
        "      <th></th>\n",
        "      <th>key</th>\n",
        "      <th>rval</th>\n",
        "    </tr>\n",
        "  </thead>\n",
        "  <tbody>\n",
        "    <tr>\n",
        "      <th>0</th>\n",
        "      <td> foo</td>\n",
        "      <td> 4</td>\n",
        "    </tr>\n",
        "    <tr>\n",
        "      <th>1</th>\n",
        "      <td> foo</td>\n",
        "      <td> 5</td>\n",
        "    </tr>\n",
        "  </tbody>\n",
        "</table>\n",
        "</div>"
       ],
       "metadata": {},
       "output_type": "pyout",
       "prompt_number": 176,
       "text": [
        "   key  rval\n",
        "0  foo     4\n",
        "1  foo     5"
       ]
      }
     ],
     "prompt_number": 176
    },
    {
     "cell_type": "code",
     "collapsed": false,
     "input": [
      "pd.merge(left, right, on='key')"
     ],
     "language": "python",
     "metadata": {},
     "outputs": [
      {
       "html": [
        "<div style=\"max-height:1000px;max-width:1500px;overflow:auto;\">\n",
        "<table border=\"1\" class=\"dataframe\">\n",
        "  <thead>\n",
        "    <tr style=\"text-align: right;\">\n",
        "      <th></th>\n",
        "      <th>key</th>\n",
        "      <th>lval</th>\n",
        "      <th>rval</th>\n",
        "    </tr>\n",
        "  </thead>\n",
        "  <tbody>\n",
        "    <tr>\n",
        "      <th>0</th>\n",
        "      <td> foo</td>\n",
        "      <td> 1</td>\n",
        "      <td> 4</td>\n",
        "    </tr>\n",
        "    <tr>\n",
        "      <th>1</th>\n",
        "      <td> foo</td>\n",
        "      <td> 1</td>\n",
        "      <td> 5</td>\n",
        "    </tr>\n",
        "    <tr>\n",
        "      <th>2</th>\n",
        "      <td> foo</td>\n",
        "      <td> 2</td>\n",
        "      <td> 4</td>\n",
        "    </tr>\n",
        "    <tr>\n",
        "      <th>3</th>\n",
        "      <td> foo</td>\n",
        "      <td> 2</td>\n",
        "      <td> 5</td>\n",
        "    </tr>\n",
        "  </tbody>\n",
        "</table>\n",
        "</div>"
       ],
       "metadata": {},
       "output_type": "pyout",
       "prompt_number": 177,
       "text": [
        "   key  lval  rval\n",
        "0  foo     1     4\n",
        "1  foo     1     5\n",
        "2  foo     2     4\n",
        "3  foo     2     5"
       ]
      }
     ],
     "prompt_number": 177
    },
    {
     "cell_type": "code",
     "collapsed": false,
     "input": [
      "pd.merge(right, left, on='key')"
     ],
     "language": "python",
     "metadata": {},
     "outputs": [
      {
       "html": [
        "<div style=\"max-height:1000px;max-width:1500px;overflow:auto;\">\n",
        "<table border=\"1\" class=\"dataframe\">\n",
        "  <thead>\n",
        "    <tr style=\"text-align: right;\">\n",
        "      <th></th>\n",
        "      <th>key</th>\n",
        "      <th>rval</th>\n",
        "      <th>lval</th>\n",
        "    </tr>\n",
        "  </thead>\n",
        "  <tbody>\n",
        "    <tr>\n",
        "      <th>0</th>\n",
        "      <td> foo</td>\n",
        "      <td> 4</td>\n",
        "      <td> 1</td>\n",
        "    </tr>\n",
        "    <tr>\n",
        "      <th>1</th>\n",
        "      <td> foo</td>\n",
        "      <td> 4</td>\n",
        "      <td> 2</td>\n",
        "    </tr>\n",
        "    <tr>\n",
        "      <th>2</th>\n",
        "      <td> foo</td>\n",
        "      <td> 5</td>\n",
        "      <td> 1</td>\n",
        "    </tr>\n",
        "    <tr>\n",
        "      <th>3</th>\n",
        "      <td> foo</td>\n",
        "      <td> 5</td>\n",
        "      <td> 2</td>\n",
        "    </tr>\n",
        "  </tbody>\n",
        "</table>\n",
        "</div>"
       ],
       "metadata": {},
       "output_type": "pyout",
       "prompt_number": 178,
       "text": [
        "   key  rval  lval\n",
        "0  foo     4     1\n",
        "1  foo     4     2\n",
        "2  foo     5     1\n",
        "3  foo     5     2"
       ]
      }
     ],
     "prompt_number": 178
    },
    {
     "cell_type": "markdown",
     "metadata": {},
     "source": [
      "# Appending"
     ]
    },
    {
     "cell_type": "code",
     "collapsed": false,
     "input": [
      "df = pd.DataFrame(np.random.randn(8, 4), columns=['A','B','C','D'])\n",
      "df"
     ],
     "language": "python",
     "metadata": {},
     "outputs": [
      {
       "html": [
        "<div style=\"max-height:1000px;max-width:1500px;overflow:auto;\">\n",
        "<table border=\"1\" class=\"dataframe\">\n",
        "  <thead>\n",
        "    <tr style=\"text-align: right;\">\n",
        "      <th></th>\n",
        "      <th>A</th>\n",
        "      <th>B</th>\n",
        "      <th>C</th>\n",
        "      <th>D</th>\n",
        "    </tr>\n",
        "  </thead>\n",
        "  <tbody>\n",
        "    <tr>\n",
        "      <th>0</th>\n",
        "      <td>-0.908767</td>\n",
        "      <td>-0.050439</td>\n",
        "      <td>-0.835676</td>\n",
        "      <td>-0.373857</td>\n",
        "    </tr>\n",
        "    <tr>\n",
        "      <th>1</th>\n",
        "      <td> 0.709716</td>\n",
        "      <td> 0.273589</td>\n",
        "      <td>-1.559243</td>\n",
        "      <td> 2.308157</td>\n",
        "    </tr>\n",
        "    <tr>\n",
        "      <th>2</th>\n",
        "      <td> 0.600050</td>\n",
        "      <td>-0.707956</td>\n",
        "      <td> 1.365856</td>\n",
        "      <td> 1.678989</td>\n",
        "    </tr>\n",
        "    <tr>\n",
        "      <th>3</th>\n",
        "      <td>-0.537913</td>\n",
        "      <td> 0.886842</td>\n",
        "      <td>-0.045236</td>\n",
        "      <td>-0.659609</td>\n",
        "    </tr>\n",
        "    <tr>\n",
        "      <th>4</th>\n",
        "      <td>-0.943781</td>\n",
        "      <td> 1.252410</td>\n",
        "      <td>-1.286733</td>\n",
        "      <td> 0.322001</td>\n",
        "    </tr>\n",
        "    <tr>\n",
        "      <th>5</th>\n",
        "      <td> 0.886099</td>\n",
        "      <td> 0.184100</td>\n",
        "      <td> 0.786995</td>\n",
        "      <td> 0.157009</td>\n",
        "    </tr>\n",
        "    <tr>\n",
        "      <th>6</th>\n",
        "      <td> 0.207511</td>\n",
        "      <td> 1.646812</td>\n",
        "      <td> 2.117746</td>\n",
        "      <td> 0.190764</td>\n",
        "    </tr>\n",
        "    <tr>\n",
        "      <th>7</th>\n",
        "      <td> 1.104337</td>\n",
        "      <td> 0.520280</td>\n",
        "      <td> 1.177717</td>\n",
        "      <td> 1.581926</td>\n",
        "    </tr>\n",
        "  </tbody>\n",
        "</table>\n",
        "</div>"
       ],
       "metadata": {},
       "output_type": "pyout",
       "prompt_number": 179,
       "text": [
        "          A         B         C         D\n",
        "0 -0.908767 -0.050439 -0.835676 -0.373857\n",
        "1  0.709716  0.273589 -1.559243  2.308157\n",
        "2  0.600050 -0.707956  1.365856  1.678989\n",
        "3 -0.537913  0.886842 -0.045236 -0.659609\n",
        "4 -0.943781  1.252410 -1.286733  0.322001\n",
        "5  0.886099  0.184100  0.786995  0.157009\n",
        "6  0.207511  1.646812  2.117746  0.190764\n",
        "7  1.104337  0.520280  1.177717  1.581926"
       ]
      }
     ],
     "prompt_number": 179
    },
    {
     "cell_type": "code",
     "collapsed": false,
     "input": [
      "s = df.iloc[3]\n",
      "s"
     ],
     "language": "python",
     "metadata": {},
     "outputs": [
      {
       "metadata": {},
       "output_type": "pyout",
       "prompt_number": 180,
       "text": [
        "A   -0.537913\n",
        "B    0.886842\n",
        "C   -0.045236\n",
        "D   -0.659609\n",
        "Name: 3, dtype: float64"
       ]
      }
     ],
     "prompt_number": 180
    },
    {
     "cell_type": "code",
     "collapsed": false,
     "input": [
      "df.append(s)"
     ],
     "language": "python",
     "metadata": {},
     "outputs": [
      {
       "html": [
        "<div style=\"max-height:1000px;max-width:1500px;overflow:auto;\">\n",
        "<table border=\"1\" class=\"dataframe\">\n",
        "  <thead>\n",
        "    <tr style=\"text-align: right;\">\n",
        "      <th></th>\n",
        "      <th>A</th>\n",
        "      <th>B</th>\n",
        "      <th>C</th>\n",
        "      <th>D</th>\n",
        "    </tr>\n",
        "  </thead>\n",
        "  <tbody>\n",
        "    <tr>\n",
        "      <th>0</th>\n",
        "      <td>-0.908767</td>\n",
        "      <td>-0.050439</td>\n",
        "      <td>-0.835676</td>\n",
        "      <td>-0.373857</td>\n",
        "    </tr>\n",
        "    <tr>\n",
        "      <th>1</th>\n",
        "      <td> 0.709716</td>\n",
        "      <td> 0.273589</td>\n",
        "      <td>-1.559243</td>\n",
        "      <td> 2.308157</td>\n",
        "    </tr>\n",
        "    <tr>\n",
        "      <th>2</th>\n",
        "      <td> 0.600050</td>\n",
        "      <td>-0.707956</td>\n",
        "      <td> 1.365856</td>\n",
        "      <td> 1.678989</td>\n",
        "    </tr>\n",
        "    <tr>\n",
        "      <th>3</th>\n",
        "      <td>-0.537913</td>\n",
        "      <td> 0.886842</td>\n",
        "      <td>-0.045236</td>\n",
        "      <td>-0.659609</td>\n",
        "    </tr>\n",
        "    <tr>\n",
        "      <th>4</th>\n",
        "      <td>-0.943781</td>\n",
        "      <td> 1.252410</td>\n",
        "      <td>-1.286733</td>\n",
        "      <td> 0.322001</td>\n",
        "    </tr>\n",
        "    <tr>\n",
        "      <th>5</th>\n",
        "      <td> 0.886099</td>\n",
        "      <td> 0.184100</td>\n",
        "      <td> 0.786995</td>\n",
        "      <td> 0.157009</td>\n",
        "    </tr>\n",
        "    <tr>\n",
        "      <th>6</th>\n",
        "      <td> 0.207511</td>\n",
        "      <td> 1.646812</td>\n",
        "      <td> 2.117746</td>\n",
        "      <td> 0.190764</td>\n",
        "    </tr>\n",
        "    <tr>\n",
        "      <th>7</th>\n",
        "      <td> 1.104337</td>\n",
        "      <td> 0.520280</td>\n",
        "      <td> 1.177717</td>\n",
        "      <td> 1.581926</td>\n",
        "    </tr>\n",
        "    <tr>\n",
        "      <th>3</th>\n",
        "      <td>-0.537913</td>\n",
        "      <td> 0.886842</td>\n",
        "      <td>-0.045236</td>\n",
        "      <td>-0.659609</td>\n",
        "    </tr>\n",
        "  </tbody>\n",
        "</table>\n",
        "</div>"
       ],
       "metadata": {},
       "output_type": "pyout",
       "prompt_number": 182,
       "text": [
        "          A         B         C         D\n",
        "0 -0.908767 -0.050439 -0.835676 -0.373857\n",
        "1  0.709716  0.273589 -1.559243  2.308157\n",
        "2  0.600050 -0.707956  1.365856  1.678989\n",
        "3 -0.537913  0.886842 -0.045236 -0.659609\n",
        "4 -0.943781  1.252410 -1.286733  0.322001\n",
        "5  0.886099  0.184100  0.786995  0.157009\n",
        "6  0.207511  1.646812  2.117746  0.190764\n",
        "7  1.104337  0.520280  1.177717  1.581926\n",
        "3 -0.537913  0.886842 -0.045236 -0.659609"
       ]
      }
     ],
     "prompt_number": 182
    },
    {
     "cell_type": "code",
     "collapsed": false,
     "input": [
      "df.append(s, ignore_index=True)"
     ],
     "language": "python",
     "metadata": {},
     "outputs": [
      {
       "html": [
        "<div style=\"max-height:1000px;max-width:1500px;overflow:auto;\">\n",
        "<table border=\"1\" class=\"dataframe\">\n",
        "  <thead>\n",
        "    <tr style=\"text-align: right;\">\n",
        "      <th></th>\n",
        "      <th>A</th>\n",
        "      <th>B</th>\n",
        "      <th>C</th>\n",
        "      <th>D</th>\n",
        "    </tr>\n",
        "  </thead>\n",
        "  <tbody>\n",
        "    <tr>\n",
        "      <th>0</th>\n",
        "      <td>-0.908767</td>\n",
        "      <td>-0.050439</td>\n",
        "      <td>-0.835676</td>\n",
        "      <td>-0.373857</td>\n",
        "    </tr>\n",
        "    <tr>\n",
        "      <th>1</th>\n",
        "      <td> 0.709716</td>\n",
        "      <td> 0.273589</td>\n",
        "      <td>-1.559243</td>\n",
        "      <td> 2.308157</td>\n",
        "    </tr>\n",
        "    <tr>\n",
        "      <th>2</th>\n",
        "      <td> 0.600050</td>\n",
        "      <td>-0.707956</td>\n",
        "      <td> 1.365856</td>\n",
        "      <td> 1.678989</td>\n",
        "    </tr>\n",
        "    <tr>\n",
        "      <th>3</th>\n",
        "      <td>-0.537913</td>\n",
        "      <td> 0.886842</td>\n",
        "      <td>-0.045236</td>\n",
        "      <td>-0.659609</td>\n",
        "    </tr>\n",
        "    <tr>\n",
        "      <th>4</th>\n",
        "      <td>-0.943781</td>\n",
        "      <td> 1.252410</td>\n",
        "      <td>-1.286733</td>\n",
        "      <td> 0.322001</td>\n",
        "    </tr>\n",
        "    <tr>\n",
        "      <th>5</th>\n",
        "      <td> 0.886099</td>\n",
        "      <td> 0.184100</td>\n",
        "      <td> 0.786995</td>\n",
        "      <td> 0.157009</td>\n",
        "    </tr>\n",
        "    <tr>\n",
        "      <th>6</th>\n",
        "      <td> 0.207511</td>\n",
        "      <td> 1.646812</td>\n",
        "      <td> 2.117746</td>\n",
        "      <td> 0.190764</td>\n",
        "    </tr>\n",
        "    <tr>\n",
        "      <th>7</th>\n",
        "      <td> 1.104337</td>\n",
        "      <td> 0.520280</td>\n",
        "      <td> 1.177717</td>\n",
        "      <td> 1.581926</td>\n",
        "    </tr>\n",
        "    <tr>\n",
        "      <th>8</th>\n",
        "      <td>-0.537913</td>\n",
        "      <td> 0.886842</td>\n",
        "      <td>-0.045236</td>\n",
        "      <td>-0.659609</td>\n",
        "    </tr>\n",
        "  </tbody>\n",
        "</table>\n",
        "</div>"
       ],
       "metadata": {},
       "output_type": "pyout",
       "prompt_number": 181,
       "text": [
        "          A         B         C         D\n",
        "0 -0.908767 -0.050439 -0.835676 -0.373857\n",
        "1  0.709716  0.273589 -1.559243  2.308157\n",
        "2  0.600050 -0.707956  1.365856  1.678989\n",
        "3 -0.537913  0.886842 -0.045236 -0.659609\n",
        "4 -0.943781  1.252410 -1.286733  0.322001\n",
        "5  0.886099  0.184100  0.786995  0.157009\n",
        "6  0.207511  1.646812  2.117746  0.190764\n",
        "7  1.104337  0.520280  1.177717  1.581926\n",
        "8 -0.537913  0.886842 -0.045236 -0.659609"
       ]
      }
     ],
     "prompt_number": 181
    },
    {
     "cell_type": "markdown",
     "metadata": {},
     "source": [
      "# Grouping\n",
      "Splitting the data into groups, Applying a function to each group, Combining the results into a data structure \n",
      "\n",
      "In the apply step, we might wish to one of the following:\n",
      "\n",
      "        Aggregation: computing a summary statistic (or statistics) about each group. Some examples:\n",
      "\n",
      "                Compute group sums or means\n",
      "                Compute group sizes / counts\n",
      "\n",
      "        Transformation: perform some group-specific computations and return a like-indexed. Some examples:\n",
      "\n",
      "                Standardizing data (zscore) within group\n",
      "                Filling NAs within groups with a value derived from each group\n",
      "\n",
      "        Filtration: discard some groups, according to a group-wise computation that evaluates True or False. Some examples:\n",
      "\n",
      "                Discarding data that belongs to groups with only a few members\n",
      "                Filtering out data based on the group sum or mean\n",
      "\n",
      "        Some combination of the above: GroupBy will examine the results of the apply step and try to return a sensibly combined result if it doesn\u2019t fit into either of the above two categories\n",
      "\n"
     ]
    },
    {
     "cell_type": "code",
     "collapsed": false,
     "input": [
      "numpy.random.seed(3141)\n",
      "df = pd.DataFrame({\n",
      "   'A' : ['foo', 'bar', 'foo', 'bar',\n",
      "                          'foo', 'bar', 'foo', 'foo'],\n",
      "   'B' : ['one', 'one', 'two', 'three',\n",
      "          'two', 'two', 'one', 'three'],\n",
      "   'C' : np.random.randn(8),\n",
      "   'D' : np.random.randn(8)}\n",
      "                  )\n",
      "df"
     ],
     "language": "python",
     "metadata": {},
     "outputs": [
      {
       "html": [
        "<div style=\"max-height:1000px;max-width:1500px;overflow:auto;\">\n",
        "<table border=\"1\" class=\"dataframe\">\n",
        "  <thead>\n",
        "    <tr style=\"text-align: right;\">\n",
        "      <th></th>\n",
        "      <th>A</th>\n",
        "      <th>B</th>\n",
        "      <th>C</th>\n",
        "      <th>D</th>\n",
        "    </tr>\n",
        "  </thead>\n",
        "  <tbody>\n",
        "    <tr>\n",
        "      <th>0</th>\n",
        "      <td> foo</td>\n",
        "      <td>   one</td>\n",
        "      <td> 0.227769</td>\n",
        "      <td>-0.143393</td>\n",
        "    </tr>\n",
        "    <tr>\n",
        "      <th>1</th>\n",
        "      <td> bar</td>\n",
        "      <td>   one</td>\n",
        "      <td>-0.755529</td>\n",
        "      <td> 0.871788</td>\n",
        "    </tr>\n",
        "    <tr>\n",
        "      <th>2</th>\n",
        "      <td> foo</td>\n",
        "      <td>   two</td>\n",
        "      <td> 1.144946</td>\n",
        "      <td> 0.332175</td>\n",
        "    </tr>\n",
        "    <tr>\n",
        "      <th>3</th>\n",
        "      <td> bar</td>\n",
        "      <td> three</td>\n",
        "      <td>-0.352005</td>\n",
        "      <td> 0.591673</td>\n",
        "    </tr>\n",
        "    <tr>\n",
        "      <th>4</th>\n",
        "      <td> foo</td>\n",
        "      <td>   two</td>\n",
        "      <td>-0.482710</td>\n",
        "      <td>-2.419224</td>\n",
        "    </tr>\n",
        "    <tr>\n",
        "      <th>5</th>\n",
        "      <td> bar</td>\n",
        "      <td>   two</td>\n",
        "      <td> 0.655263</td>\n",
        "      <td> 0.254834</td>\n",
        "    </tr>\n",
        "    <tr>\n",
        "      <th>6</th>\n",
        "      <td> foo</td>\n",
        "      <td>   one</td>\n",
        "      <td> 0.632421</td>\n",
        "      <td>-1.100392</td>\n",
        "    </tr>\n",
        "    <tr>\n",
        "      <th>7</th>\n",
        "      <td> foo</td>\n",
        "      <td> three</td>\n",
        "      <td>-0.622162</td>\n",
        "      <td>-0.307889</td>\n",
        "    </tr>\n",
        "  </tbody>\n",
        "</table>\n",
        "</div>"
       ],
       "metadata": {},
       "output_type": "pyout",
       "prompt_number": 189,
       "text": [
        "     A      B         C         D\n",
        "0  foo    one  0.227769 -0.143393\n",
        "1  bar    one -0.755529  0.871788\n",
        "2  foo    two  1.144946  0.332175\n",
        "3  bar  three -0.352005  0.591673\n",
        "4  foo    two -0.482710 -2.419224\n",
        "5  bar    two  0.655263  0.254834\n",
        "6  foo    one  0.632421 -1.100392\n",
        "7  foo  three -0.622162 -0.307889"
       ]
      }
     ],
     "prompt_number": 189
    },
    {
     "cell_type": "markdown",
     "metadata": {},
     "source": [
      "## Basic grouping"
     ]
    },
    {
     "cell_type": "code",
     "collapsed": false,
     "input": [
      "print df.groupby('A').count()\n",
      "print df.groupby('B').count()\n",
      "print df.groupby('C').count()\n",
      "print df.groupby('D').count()\n",
      "print df.groupby(['A', 'B']).count()"
     ],
     "language": "python",
     "metadata": {},
     "outputs": [
      {
       "output_type": "stream",
       "stream": "stdout",
       "text": [
        "     B  C  D\n",
        "A           \n",
        "bar  3  3  3\n",
        "foo  5  5  5\n",
        "       A  C  D\n",
        "B             \n",
        "one    3  3  3\n",
        "three  2  2  2\n",
        "two    3  3  3\n",
        "           A  B  D\n",
        "C                 \n",
        "-0.755529  1  1  1\n",
        "-0.622162  1  1  1\n",
        "-0.482710  1  1  1\n",
        "-0.352005  1  1  1\n",
        " 0.227769  1  1  1\n",
        " 0.632421  1  1  1\n",
        " 0.655263  1  1  1\n",
        " 1.144946  1  1  1\n",
        "           A  B  C\n",
        "D                 \n",
        "-2.419224  1  1  1\n",
        "-1.100392  1  1  1\n",
        "-0.307889  1  1  1\n",
        "-0.143393  1  1  1\n",
        " 0.254834  1  1  1\n",
        " 0.332175  1  1  1\n",
        " 0.591673  1  1  1\n",
        " 0.871788  1  1  1\n",
        "           C  D\n",
        "A   B          \n",
        "bar one    1  1\n",
        "    three  1  1\n",
        "    two    1  1\n",
        "foo one    2  2\n",
        "    three  1  1\n",
        "    two    2  2\n"
       ]
      }
     ],
     "prompt_number": 206
    },
    {
     "cell_type": "markdown",
     "metadata": {},
     "source": [
      "## Split by the columns"
     ]
    },
    {
     "cell_type": "code",
     "collapsed": false,
     "input": [
      "def get_letter_type(letter):\n",
      "    if letter.lower() in 'aeiou':\n",
      "        return 'vowel'\n",
      "    else:\n",
      "        return 'consonant'\n",
      "df.groupby(get_letter_type, axis=1).sum()"
     ],
     "language": "python",
     "metadata": {},
     "outputs": [
      {
       "html": [
        "<div style=\"max-height:1000px;max-width:1500px;overflow:auto;\">\n",
        "<table border=\"1\" class=\"dataframe\">\n",
        "  <thead>\n",
        "    <tr style=\"text-align: right;\">\n",
        "      <th></th>\n",
        "      <th>consonant</th>\n",
        "      <th>vowel</th>\n",
        "    </tr>\n",
        "  </thead>\n",
        "  <tbody>\n",
        "    <tr>\n",
        "      <th>0</th>\n",
        "      <td> 0.084376</td>\n",
        "      <td> foo</td>\n",
        "    </tr>\n",
        "    <tr>\n",
        "      <th>1</th>\n",
        "      <td> 0.116259</td>\n",
        "      <td> bar</td>\n",
        "    </tr>\n",
        "    <tr>\n",
        "      <th>2</th>\n",
        "      <td> 1.477121</td>\n",
        "      <td> foo</td>\n",
        "    </tr>\n",
        "    <tr>\n",
        "      <th>3</th>\n",
        "      <td> 0.239669</td>\n",
        "      <td> bar</td>\n",
        "    </tr>\n",
        "    <tr>\n",
        "      <th>4</th>\n",
        "      <td>-2.901935</td>\n",
        "      <td> foo</td>\n",
        "    </tr>\n",
        "    <tr>\n",
        "      <th>5</th>\n",
        "      <td> 0.910097</td>\n",
        "      <td> bar</td>\n",
        "    </tr>\n",
        "    <tr>\n",
        "      <th>6</th>\n",
        "      <td>-0.467971</td>\n",
        "      <td> foo</td>\n",
        "    </tr>\n",
        "    <tr>\n",
        "      <th>7</th>\n",
        "      <td>-0.930051</td>\n",
        "      <td> foo</td>\n",
        "    </tr>\n",
        "  </tbody>\n",
        "</table>\n",
        "</div>"
       ],
       "metadata": {},
       "output_type": "pyout",
       "prompt_number": 217,
       "text": [
        "   consonant vowel\n",
        "0   0.084376   foo\n",
        "1   0.116259   bar\n",
        "2   1.477121   foo\n",
        "3   0.239669   bar\n",
        "4  -2.901935   foo\n",
        "5   0.910097   bar\n",
        "6  -0.467971   foo\n",
        "7  -0.930051   foo"
       ]
      }
     ],
     "prompt_number": 217
    },
    {
     "cell_type": "markdown",
     "metadata": {},
     "source": [
      "## Groups"
     ]
    },
    {
     "cell_type": "code",
     "collapsed": false,
     "input": [
      "df.groupby('A').groups"
     ],
     "language": "python",
     "metadata": {},
     "outputs": [
      {
       "metadata": {},
       "output_type": "pyout",
       "prompt_number": 218,
       "text": [
        "{'bar': [1, 3, 5], 'foo': [0, 2, 4, 6, 7]}"
       ]
      }
     ],
     "prompt_number": 218
    },
    {
     "cell_type": "code",
     "collapsed": false,
     "input": [
      "df.groupby(get_letter_type, axis=1).groups"
     ],
     "language": "python",
     "metadata": {},
     "outputs": [
      {
       "metadata": {},
       "output_type": "pyout",
       "prompt_number": 219,
       "text": [
        "{'consonant': ['B', 'C', 'D'], 'vowel': ['A']}"
       ]
      }
     ],
     "prompt_number": 219
    },
    {
     "cell_type": "code",
     "collapsed": false,
     "input": [
      "df.groupby(['A', 'B']).groups"
     ],
     "language": "python",
     "metadata": {},
     "outputs": [
      {
       "metadata": {},
       "output_type": "pyout",
       "prompt_number": 220,
       "text": [
        "{('bar', 'one'): [1],\n",
        " ('bar', 'three'): [3],\n",
        " ('bar', 'two'): [5],\n",
        " ('foo', 'one'): [0, 6],\n",
        " ('foo', 'three'): [7],\n",
        " ('foo', 'two'): [2, 4]}"
       ]
      }
     ],
     "prompt_number": 220
    },
    {
     "cell_type": "code",
     "collapsed": false,
     "input": [
      "len(df.groupby(['A', 'B']).groups)"
     ],
     "language": "python",
     "metadata": {},
     "outputs": [
      {
       "metadata": {},
       "output_type": "pyout",
       "prompt_number": 221,
       "text": [
        "6"
       ]
      }
     ],
     "prompt_number": 221
    },
    {
     "cell_type": "code",
     "collapsed": false,
     "input": [
      "def printgroups(groups):\n",
      "    for name, group in groups:\n",
      "        print(name)\n",
      "        print(group)\n",
      "def printgroups2(groups):\n",
      "    for (k1, k2), group in groups:\n",
      "        print(k1)\n",
      "        print(k2)\n",
      "        print(group)        "
     ],
     "language": "python",
     "metadata": {},
     "outputs": [],
     "prompt_number": 239
    },
    {
     "cell_type": "code",
     "collapsed": false,
     "input": [
      "print df\n",
      "printgroups(df.groupby(['A']))\n",
      "printgroups(df.groupby(['B','A']))\n",
      "printgroups2(df.groupby(['B','A']))"
     ],
     "language": "python",
     "metadata": {},
     "outputs": [
      {
       "output_type": "stream",
       "stream": "stdout",
       "text": [
        "     A      B         C         D\n",
        "0  foo    one  0.227769 -0.143393\n",
        "1  bar    one -0.755529  0.871788\n",
        "2  foo    two  1.144946  0.332175\n",
        "3  bar  three -0.352005  0.591673\n",
        "4  foo    two -0.482710 -2.419224\n",
        "5  bar    two  0.655263  0.254834\n",
        "6  foo    one  0.632421 -1.100392\n",
        "7  foo  three -0.622162 -0.307889\n",
        "bar\n",
        "     A      B         C         D\n",
        "1  bar    one -0.755529  0.871788\n",
        "3  bar  three -0.352005  0.591673\n",
        "5  bar    two  0.655263  0.254834\n",
        "foo\n",
        "     A      B         C         D\n",
        "0  foo    one  0.227769 -0.143393\n",
        "2  foo    two  1.144946  0.332175\n",
        "4  foo    two -0.482710 -2.419224\n",
        "6  foo    one  0.632421 -1.100392\n",
        "7  foo  three -0.622162 -0.307889\n",
        "('one', 'bar')\n",
        "     A    B         C         D\n",
        "1  bar  one -0.755529  0.871788\n",
        "('one', 'foo')\n",
        "     A    B         C         D\n",
        "0  foo  one  0.227769 -0.143393\n",
        "6  foo  one  0.632421 -1.100392\n",
        "('three', 'bar')\n",
        "     A      B         C         D\n",
        "3  bar  three -0.352005  0.591673\n",
        "('three', 'foo')\n",
        "     A      B         C         D\n",
        "7  foo  three -0.622162 -0.307889\n",
        "('two', 'bar')\n",
        "     A    B         C         D\n",
        "5  bar  two  0.655263  0.254834"
       ]
      },
      {
       "output_type": "stream",
       "stream": "stdout",
       "text": [
        "\n",
        "('two', 'foo')\n",
        "     A    B         C         D\n",
        "2  foo  two  1.144946  0.332175\n",
        "4  foo  two -0.482710 -2.419224\n",
        "one\n",
        "bar\n",
        "     A    B         C         D\n",
        "1  bar  one -0.755529  0.871788\n",
        "one\n",
        "foo\n",
        "     A    B         C         D\n",
        "0  foo  one  0.227769 -0.143393\n",
        "6  foo  one  0.632421 -1.100392\n",
        "three\n",
        "bar\n",
        "     A      B         C         D\n",
        "3  bar  three -0.352005  0.591673\n",
        "three\n",
        "foo\n",
        "     A      B         C         D\n",
        "7  foo  three -0.622162 -0.307889\n",
        "two\n",
        "bar\n",
        "     A    B         C         D\n",
        "5  bar  two  0.655263  0.254834\n",
        "two\n",
        "foo\n",
        "     A    B         C         D\n",
        "2  foo  two  1.144946  0.332175\n",
        "4  foo  two -0.482710 -2.419224\n"
       ]
      }
     ],
     "prompt_number": 241
    },
    {
     "cell_type": "markdown",
     "metadata": {},
     "source": [
      "## Group selection"
     ]
    },
    {
     "cell_type": "code",
     "collapsed": false,
     "input": [
      "grouped = df.groupby('A')\n",
      "grouped.get_group('bar')"
     ],
     "language": "python",
     "metadata": {},
     "outputs": [
      {
       "html": [
        "<div style=\"max-height:1000px;max-width:1500px;overflow:auto;\">\n",
        "<table border=\"1\" class=\"dataframe\">\n",
        "  <thead>\n",
        "    <tr style=\"text-align: right;\">\n",
        "      <th></th>\n",
        "      <th>A</th>\n",
        "      <th>B</th>\n",
        "      <th>C</th>\n",
        "      <th>D</th>\n",
        "    </tr>\n",
        "  </thead>\n",
        "  <tbody>\n",
        "    <tr>\n",
        "      <th>1</th>\n",
        "      <td> bar</td>\n",
        "      <td>   one</td>\n",
        "      <td>-0.755529</td>\n",
        "      <td> 0.871788</td>\n",
        "    </tr>\n",
        "    <tr>\n",
        "      <th>3</th>\n",
        "      <td> bar</td>\n",
        "      <td> three</td>\n",
        "      <td>-0.352005</td>\n",
        "      <td> 0.591673</td>\n",
        "    </tr>\n",
        "    <tr>\n",
        "      <th>5</th>\n",
        "      <td> bar</td>\n",
        "      <td>   two</td>\n",
        "      <td> 0.655263</td>\n",
        "      <td> 0.254834</td>\n",
        "    </tr>\n",
        "  </tbody>\n",
        "</table>\n",
        "</div>"
       ],
       "metadata": {},
       "output_type": "pyout",
       "prompt_number": 243,
       "text": [
        "     A      B         C         D\n",
        "1  bar    one -0.755529  0.871788\n",
        "3  bar  three -0.352005  0.591673\n",
        "5  bar    two  0.655263  0.254834"
       ]
      }
     ],
     "prompt_number": 243
    },
    {
     "cell_type": "code",
     "collapsed": false,
     "input": [
      "df.groupby(['A', 'B']).get_group(('bar', 'one'))"
     ],
     "language": "python",
     "metadata": {},
     "outputs": [
      {
       "html": [
        "<div style=\"max-height:1000px;max-width:1500px;overflow:auto;\">\n",
        "<table border=\"1\" class=\"dataframe\">\n",
        "  <thead>\n",
        "    <tr style=\"text-align: right;\">\n",
        "      <th></th>\n",
        "      <th>A</th>\n",
        "      <th>B</th>\n",
        "      <th>C</th>\n",
        "      <th>D</th>\n",
        "    </tr>\n",
        "  </thead>\n",
        "  <tbody>\n",
        "    <tr>\n",
        "      <th>1</th>\n",
        "      <td> bar</td>\n",
        "      <td> one</td>\n",
        "      <td>-0.755529</td>\n",
        "      <td> 0.871788</td>\n",
        "    </tr>\n",
        "  </tbody>\n",
        "</table>\n",
        "</div>"
       ],
       "metadata": {},
       "output_type": "pyout",
       "prompt_number": 244,
       "text": [
        "     A    B         C         D\n",
        "1  bar  one -0.755529  0.871788"
       ]
      }
     ],
     "prompt_number": 244
    },
    {
     "cell_type": "markdown",
     "metadata": {},
     "source": [
      "## Aggregation"
     ]
    },
    {
     "cell_type": "code",
     "collapsed": false,
     "input": [
      "df"
     ],
     "language": "python",
     "metadata": {},
     "outputs": [
      {
       "html": [
        "<div style=\"max-height:1000px;max-width:1500px;overflow:auto;\">\n",
        "<table border=\"1\" class=\"dataframe\">\n",
        "  <thead>\n",
        "    <tr style=\"text-align: right;\">\n",
        "      <th></th>\n",
        "      <th>A</th>\n",
        "      <th>B</th>\n",
        "      <th>C</th>\n",
        "      <th>D</th>\n",
        "    </tr>\n",
        "  </thead>\n",
        "  <tbody>\n",
        "    <tr>\n",
        "      <th>0</th>\n",
        "      <td> foo</td>\n",
        "      <td>   one</td>\n",
        "      <td> 0.227769</td>\n",
        "      <td>-0.143393</td>\n",
        "    </tr>\n",
        "    <tr>\n",
        "      <th>1</th>\n",
        "      <td> bar</td>\n",
        "      <td>   one</td>\n",
        "      <td>-0.755529</td>\n",
        "      <td> 0.871788</td>\n",
        "    </tr>\n",
        "    <tr>\n",
        "      <th>2</th>\n",
        "      <td> foo</td>\n",
        "      <td>   two</td>\n",
        "      <td> 1.144946</td>\n",
        "      <td> 0.332175</td>\n",
        "    </tr>\n",
        "    <tr>\n",
        "      <th>3</th>\n",
        "      <td> bar</td>\n",
        "      <td> three</td>\n",
        "      <td>-0.352005</td>\n",
        "      <td> 0.591673</td>\n",
        "    </tr>\n",
        "    <tr>\n",
        "      <th>4</th>\n",
        "      <td> foo</td>\n",
        "      <td>   two</td>\n",
        "      <td>-0.482710</td>\n",
        "      <td>-2.419224</td>\n",
        "    </tr>\n",
        "    <tr>\n",
        "      <th>5</th>\n",
        "      <td> bar</td>\n",
        "      <td>   two</td>\n",
        "      <td> 0.655263</td>\n",
        "      <td> 0.254834</td>\n",
        "    </tr>\n",
        "    <tr>\n",
        "      <th>6</th>\n",
        "      <td> foo</td>\n",
        "      <td>   one</td>\n",
        "      <td> 0.632421</td>\n",
        "      <td>-1.100392</td>\n",
        "    </tr>\n",
        "    <tr>\n",
        "      <th>7</th>\n",
        "      <td> foo</td>\n",
        "      <td> three</td>\n",
        "      <td>-0.622162</td>\n",
        "      <td>-0.307889</td>\n",
        "    </tr>\n",
        "  </tbody>\n",
        "</table>\n",
        "</div>"
       ],
       "metadata": {},
       "output_type": "pyout",
       "prompt_number": 249,
       "text": [
        "     A      B         C         D\n",
        "0  foo    one  0.227769 -0.143393\n",
        "1  bar    one -0.755529  0.871788\n",
        "2  foo    two  1.144946  0.332175\n",
        "3  bar  three -0.352005  0.591673\n",
        "4  foo    two -0.482710 -2.419224\n",
        "5  bar    two  0.655263  0.254834\n",
        "6  foo    one  0.632421 -1.100392\n",
        "7  foo  three -0.622162 -0.307889"
       ]
      }
     ],
     "prompt_number": 249
    },
    {
     "cell_type": "code",
     "collapsed": false,
     "input": [
      "df.groupby('A').sum()"
     ],
     "language": "python",
     "metadata": {},
     "outputs": [
      {
       "html": [
        "<div style=\"max-height:1000px;max-width:1500px;overflow:auto;\">\n",
        "<table border=\"1\" class=\"dataframe\">\n",
        "  <thead>\n",
        "    <tr style=\"text-align: right;\">\n",
        "      <th></th>\n",
        "      <th>C</th>\n",
        "      <th>D</th>\n",
        "    </tr>\n",
        "    <tr>\n",
        "      <th>A</th>\n",
        "      <th></th>\n",
        "      <th></th>\n",
        "    </tr>\n",
        "  </thead>\n",
        "  <tbody>\n",
        "    <tr>\n",
        "      <th>bar</th>\n",
        "      <td>-0.452270</td>\n",
        "      <td> 1.718295</td>\n",
        "    </tr>\n",
        "    <tr>\n",
        "      <th>foo</th>\n",
        "      <td> 0.900263</td>\n",
        "      <td>-3.638724</td>\n",
        "    </tr>\n",
        "  </tbody>\n",
        "</table>\n",
        "</div>"
       ],
       "metadata": {},
       "output_type": "pyout",
       "prompt_number": 250,
       "text": [
        "            C         D\n",
        "A                      \n",
        "bar -0.452270  1.718295\n",
        "foo  0.900263 -3.638724"
       ]
      }
     ],
     "prompt_number": 250
    },
    {
     "cell_type": "code",
     "collapsed": false,
     "input": [
      "df.groupby(['A','B']).sum()"
     ],
     "language": "python",
     "metadata": {},
     "outputs": [
      {
       "html": [
        "<div style=\"max-height:1000px;max-width:1500px;overflow:auto;\">\n",
        "<table border=\"1\" class=\"dataframe\">\n",
        "  <thead>\n",
        "    <tr style=\"text-align: right;\">\n",
        "      <th></th>\n",
        "      <th></th>\n",
        "      <th>C</th>\n",
        "      <th>D</th>\n",
        "    </tr>\n",
        "    <tr>\n",
        "      <th>A</th>\n",
        "      <th>B</th>\n",
        "      <th></th>\n",
        "      <th></th>\n",
        "    </tr>\n",
        "  </thead>\n",
        "  <tbody>\n",
        "    <tr>\n",
        "      <th rowspan=\"3\" valign=\"top\">bar</th>\n",
        "      <th>one</th>\n",
        "      <td>-0.755529</td>\n",
        "      <td> 0.871788</td>\n",
        "    </tr>\n",
        "    <tr>\n",
        "      <th>three</th>\n",
        "      <td>-0.352005</td>\n",
        "      <td> 0.591673</td>\n",
        "    </tr>\n",
        "    <tr>\n",
        "      <th>two</th>\n",
        "      <td> 0.655263</td>\n",
        "      <td> 0.254834</td>\n",
        "    </tr>\n",
        "    <tr>\n",
        "      <th rowspan=\"3\" valign=\"top\">foo</th>\n",
        "      <th>one</th>\n",
        "      <td> 0.860190</td>\n",
        "      <td>-1.243786</td>\n",
        "    </tr>\n",
        "    <tr>\n",
        "      <th>three</th>\n",
        "      <td>-0.622162</td>\n",
        "      <td>-0.307889</td>\n",
        "    </tr>\n",
        "    <tr>\n",
        "      <th>two</th>\n",
        "      <td> 0.662236</td>\n",
        "      <td>-2.087049</td>\n",
        "    </tr>\n",
        "  </tbody>\n",
        "</table>\n",
        "</div>"
       ],
       "metadata": {},
       "output_type": "pyout",
       "prompt_number": 251,
       "text": [
        "                  C         D\n",
        "A   B                        \n",
        "bar one   -0.755529  0.871788\n",
        "    three -0.352005  0.591673\n",
        "    two    0.655263  0.254834\n",
        "foo one    0.860190 -1.243786\n",
        "    three -0.622162 -0.307889\n",
        "    two    0.662236 -2.087049"
       ]
      }
     ],
     "prompt_number": 251
    },
    {
     "cell_type": "code",
     "collapsed": false,
     "input": [
      "df.groupby(['B','A']).sum()"
     ],
     "language": "python",
     "metadata": {},
     "outputs": [
      {
       "html": [
        "<div style=\"max-height:1000px;max-width:1500px;overflow:auto;\">\n",
        "<table border=\"1\" class=\"dataframe\">\n",
        "  <thead>\n",
        "    <tr style=\"text-align: right;\">\n",
        "      <th></th>\n",
        "      <th></th>\n",
        "      <th>C</th>\n",
        "      <th>D</th>\n",
        "    </tr>\n",
        "    <tr>\n",
        "      <th>B</th>\n",
        "      <th>A</th>\n",
        "      <th></th>\n",
        "      <th></th>\n",
        "    </tr>\n",
        "  </thead>\n",
        "  <tbody>\n",
        "    <tr>\n",
        "      <th rowspan=\"2\" valign=\"top\">one</th>\n",
        "      <th>bar</th>\n",
        "      <td>-0.755529</td>\n",
        "      <td> 0.871788</td>\n",
        "    </tr>\n",
        "    <tr>\n",
        "      <th>foo</th>\n",
        "      <td> 0.860190</td>\n",
        "      <td>-1.243786</td>\n",
        "    </tr>\n",
        "    <tr>\n",
        "      <th rowspan=\"2\" valign=\"top\">three</th>\n",
        "      <th>bar</th>\n",
        "      <td>-0.352005</td>\n",
        "      <td> 0.591673</td>\n",
        "    </tr>\n",
        "    <tr>\n",
        "      <th>foo</th>\n",
        "      <td>-0.622162</td>\n",
        "      <td>-0.307889</td>\n",
        "    </tr>\n",
        "    <tr>\n",
        "      <th rowspan=\"2\" valign=\"top\">two</th>\n",
        "      <th>bar</th>\n",
        "      <td> 0.655263</td>\n",
        "      <td> 0.254834</td>\n",
        "    </tr>\n",
        "    <tr>\n",
        "      <th>foo</th>\n",
        "      <td> 0.662236</td>\n",
        "      <td>-2.087049</td>\n",
        "    </tr>\n",
        "  </tbody>\n",
        "</table>\n",
        "</div>"
       ],
       "metadata": {},
       "output_type": "pyout",
       "prompt_number": 252,
       "text": [
        "                  C         D\n",
        "B     A                      \n",
        "one   bar -0.755529  0.871788\n",
        "      foo  0.860190 -1.243786\n",
        "three bar -0.352005  0.591673\n",
        "      foo -0.622162 -0.307889\n",
        "two   bar  0.655263  0.254834\n",
        "      foo  0.662236 -2.087049"
       ]
      }
     ],
     "prompt_number": 252
    },
    {
     "cell_type": "code",
     "collapsed": false,
     "input": [
      "grouped = df.groupby('A')\n",
      "grouped.aggregate(np.sum)"
     ],
     "language": "python",
     "metadata": {},
     "outputs": [
      {
       "html": [
        "<div style=\"max-height:1000px;max-width:1500px;overflow:auto;\">\n",
        "<table border=\"1\" class=\"dataframe\">\n",
        "  <thead>\n",
        "    <tr style=\"text-align: right;\">\n",
        "      <th></th>\n",
        "      <th>C</th>\n",
        "      <th>D</th>\n",
        "    </tr>\n",
        "    <tr>\n",
        "      <th>A</th>\n",
        "      <th></th>\n",
        "      <th></th>\n",
        "    </tr>\n",
        "  </thead>\n",
        "  <tbody>\n",
        "    <tr>\n",
        "      <th>bar</th>\n",
        "      <td>-0.452270</td>\n",
        "      <td> 1.718295</td>\n",
        "    </tr>\n",
        "    <tr>\n",
        "      <th>foo</th>\n",
        "      <td> 0.900263</td>\n",
        "      <td>-3.638724</td>\n",
        "    </tr>\n",
        "  </tbody>\n",
        "</table>\n",
        "</div>"
       ],
       "metadata": {},
       "output_type": "pyout",
       "prompt_number": 253,
       "text": [
        "            C         D\n",
        "A                      \n",
        "bar -0.452270  1.718295\n",
        "foo  0.900263 -3.638724"
       ]
      }
     ],
     "prompt_number": 253
    },
    {
     "cell_type": "code",
     "collapsed": false,
     "input": [
      "grouped = df.groupby(['A', 'B'], as_index=False)\n",
      "grouped.aggregate(np.sum)"
     ],
     "language": "python",
     "metadata": {},
     "outputs": [
      {
       "html": [
        "<div style=\"max-height:1000px;max-width:1500px;overflow:auto;\">\n",
        "<table border=\"1\" class=\"dataframe\">\n",
        "  <thead>\n",
        "    <tr style=\"text-align: right;\">\n",
        "      <th></th>\n",
        "      <th>A</th>\n",
        "      <th>B</th>\n",
        "      <th>C</th>\n",
        "      <th>D</th>\n",
        "    </tr>\n",
        "  </thead>\n",
        "  <tbody>\n",
        "    <tr>\n",
        "      <th>0</th>\n",
        "      <td> bar</td>\n",
        "      <td>   one</td>\n",
        "      <td>-0.755529</td>\n",
        "      <td> 0.871788</td>\n",
        "    </tr>\n",
        "    <tr>\n",
        "      <th>1</th>\n",
        "      <td> bar</td>\n",
        "      <td> three</td>\n",
        "      <td>-0.352005</td>\n",
        "      <td> 0.591673</td>\n",
        "    </tr>\n",
        "    <tr>\n",
        "      <th>2</th>\n",
        "      <td> bar</td>\n",
        "      <td>   two</td>\n",
        "      <td> 0.655263</td>\n",
        "      <td> 0.254834</td>\n",
        "    </tr>\n",
        "    <tr>\n",
        "      <th>3</th>\n",
        "      <td> foo</td>\n",
        "      <td>   one</td>\n",
        "      <td> 0.860190</td>\n",
        "      <td>-1.243786</td>\n",
        "    </tr>\n",
        "    <tr>\n",
        "      <th>4</th>\n",
        "      <td> foo</td>\n",
        "      <td> three</td>\n",
        "      <td>-0.622162</td>\n",
        "      <td>-0.307889</td>\n",
        "    </tr>\n",
        "    <tr>\n",
        "      <th>5</th>\n",
        "      <td> foo</td>\n",
        "      <td>   two</td>\n",
        "      <td> 0.662236</td>\n",
        "      <td>-2.087049</td>\n",
        "    </tr>\n",
        "  </tbody>\n",
        "</table>\n",
        "</div>"
       ],
       "metadata": {},
       "output_type": "pyout",
       "prompt_number": 254,
       "text": [
        "     A      B         C         D\n",
        "0  bar    one -0.755529  0.871788\n",
        "1  bar  three -0.352005  0.591673\n",
        "2  bar    two  0.655263  0.254834\n",
        "3  foo    one  0.860190 -1.243786\n",
        "4  foo  three -0.622162 -0.307889\n",
        "5  foo    two  0.662236 -2.087049"
       ]
      }
     ],
     "prompt_number": 254
    },
    {
     "cell_type": "code",
     "collapsed": false,
     "input": [
      "df.groupby(['A', 'B']).sum().reset_index()"
     ],
     "language": "python",
     "metadata": {},
     "outputs": [
      {
       "html": [
        "<div style=\"max-height:1000px;max-width:1500px;overflow:auto;\">\n",
        "<table border=\"1\" class=\"dataframe\">\n",
        "  <thead>\n",
        "    <tr style=\"text-align: right;\">\n",
        "      <th></th>\n",
        "      <th>A</th>\n",
        "      <th>B</th>\n",
        "      <th>C</th>\n",
        "      <th>D</th>\n",
        "    </tr>\n",
        "  </thead>\n",
        "  <tbody>\n",
        "    <tr>\n",
        "      <th>0</th>\n",
        "      <td> bar</td>\n",
        "      <td>   one</td>\n",
        "      <td>-0.755529</td>\n",
        "      <td> 0.871788</td>\n",
        "    </tr>\n",
        "    <tr>\n",
        "      <th>1</th>\n",
        "      <td> bar</td>\n",
        "      <td> three</td>\n",
        "      <td>-0.352005</td>\n",
        "      <td> 0.591673</td>\n",
        "    </tr>\n",
        "    <tr>\n",
        "      <th>2</th>\n",
        "      <td> bar</td>\n",
        "      <td>   two</td>\n",
        "      <td> 0.655263</td>\n",
        "      <td> 0.254834</td>\n",
        "    </tr>\n",
        "    <tr>\n",
        "      <th>3</th>\n",
        "      <td> foo</td>\n",
        "      <td>   one</td>\n",
        "      <td> 0.860190</td>\n",
        "      <td>-1.243786</td>\n",
        "    </tr>\n",
        "    <tr>\n",
        "      <th>4</th>\n",
        "      <td> foo</td>\n",
        "      <td> three</td>\n",
        "      <td>-0.622162</td>\n",
        "      <td>-0.307889</td>\n",
        "    </tr>\n",
        "    <tr>\n",
        "      <th>5</th>\n",
        "      <td> foo</td>\n",
        "      <td>   two</td>\n",
        "      <td> 0.662236</td>\n",
        "      <td>-2.087049</td>\n",
        "    </tr>\n",
        "  </tbody>\n",
        "</table>\n",
        "</div>"
       ],
       "metadata": {},
       "output_type": "pyout",
       "prompt_number": 256,
       "text": [
        "     A      B         C         D\n",
        "0  bar    one -0.755529  0.871788\n",
        "1  bar  three -0.352005  0.591673\n",
        "2  bar    two  0.655263  0.254834\n",
        "3  foo    one  0.860190 -1.243786\n",
        "4  foo  three -0.622162 -0.307889\n",
        "5  foo    two  0.662236 -2.087049"
       ]
      }
     ],
     "prompt_number": 256
    },
    {
     "cell_type": "code",
     "collapsed": false,
     "input": [
      "df.groupby('A', as_index=False).sum()"
     ],
     "language": "python",
     "metadata": {},
     "outputs": [
      {
       "html": [
        "<div style=\"max-height:1000px;max-width:1500px;overflow:auto;\">\n",
        "<table border=\"1\" class=\"dataframe\">\n",
        "  <thead>\n",
        "    <tr style=\"text-align: right;\">\n",
        "      <th></th>\n",
        "      <th>A</th>\n",
        "      <th>C</th>\n",
        "      <th>D</th>\n",
        "    </tr>\n",
        "  </thead>\n",
        "  <tbody>\n",
        "    <tr>\n",
        "      <th>0</th>\n",
        "      <td> bar</td>\n",
        "      <td>-0.452270</td>\n",
        "      <td> 1.718295</td>\n",
        "    </tr>\n",
        "    <tr>\n",
        "      <th>1</th>\n",
        "      <td> foo</td>\n",
        "      <td> 0.900263</td>\n",
        "      <td>-3.638724</td>\n",
        "    </tr>\n",
        "  </tbody>\n",
        "</table>\n",
        "</div>"
       ],
       "metadata": {},
       "output_type": "pyout",
       "prompt_number": 255,
       "text": [
        "     A         C         D\n",
        "0  bar -0.452270  1.718295\n",
        "1  foo  0.900263 -3.638724"
       ]
      }
     ],
     "prompt_number": 255
    },
    {
     "cell_type": "code",
     "collapsed": false,
     "input": [
      "df.groupby(['A', 'B']).size()"
     ],
     "language": "python",
     "metadata": {},
     "outputs": [
      {
       "metadata": {},
       "output_type": "pyout",
       "prompt_number": 257,
       "text": [
        "A    B    \n",
        "bar  one      1\n",
        "     three    1\n",
        "     two      1\n",
        "foo  one      2\n",
        "     three    1\n",
        "     two      2\n",
        "dtype: int64"
       ]
      }
     ],
     "prompt_number": 257
    },
    {
     "cell_type": "code",
     "collapsed": false,
     "input": [
      "df.groupby(['A', 'B']).describe()"
     ],
     "language": "python",
     "metadata": {},
     "outputs": [
      {
       "html": [
        "<div style=\"max-height:1000px;max-width:1500px;overflow:auto;\">\n",
        "<table border=\"1\" class=\"dataframe\">\n",
        "  <thead>\n",
        "    <tr style=\"text-align: right;\">\n",
        "      <th></th>\n",
        "      <th></th>\n",
        "      <th></th>\n",
        "      <th>C</th>\n",
        "      <th>D</th>\n",
        "    </tr>\n",
        "    <tr>\n",
        "      <th>A</th>\n",
        "      <th>B</th>\n",
        "      <th></th>\n",
        "      <th></th>\n",
        "      <th></th>\n",
        "    </tr>\n",
        "  </thead>\n",
        "  <tbody>\n",
        "    <tr>\n",
        "      <th rowspan=\"24\" valign=\"top\">bar</th>\n",
        "      <th rowspan=\"8\" valign=\"top\">one</th>\n",
        "      <th>count</th>\n",
        "      <td> 1.000000</td>\n",
        "      <td> 1.000000</td>\n",
        "    </tr>\n",
        "    <tr>\n",
        "      <th>mean</th>\n",
        "      <td>-0.755529</td>\n",
        "      <td> 0.871788</td>\n",
        "    </tr>\n",
        "    <tr>\n",
        "      <th>std</th>\n",
        "      <td>      NaN</td>\n",
        "      <td>      NaN</td>\n",
        "    </tr>\n",
        "    <tr>\n",
        "      <th>min</th>\n",
        "      <td>-0.755529</td>\n",
        "      <td> 0.871788</td>\n",
        "    </tr>\n",
        "    <tr>\n",
        "      <th>25%</th>\n",
        "      <td>-0.755529</td>\n",
        "      <td> 0.871788</td>\n",
        "    </tr>\n",
        "    <tr>\n",
        "      <th>50%</th>\n",
        "      <td>-0.755529</td>\n",
        "      <td> 0.871788</td>\n",
        "    </tr>\n",
        "    <tr>\n",
        "      <th>75%</th>\n",
        "      <td>-0.755529</td>\n",
        "      <td> 0.871788</td>\n",
        "    </tr>\n",
        "    <tr>\n",
        "      <th>max</th>\n",
        "      <td>-0.755529</td>\n",
        "      <td> 0.871788</td>\n",
        "    </tr>\n",
        "    <tr>\n",
        "      <th rowspan=\"8\" valign=\"top\">three</th>\n",
        "      <th>count</th>\n",
        "      <td> 1.000000</td>\n",
        "      <td> 1.000000</td>\n",
        "    </tr>\n",
        "    <tr>\n",
        "      <th>mean</th>\n",
        "      <td>-0.352005</td>\n",
        "      <td> 0.591673</td>\n",
        "    </tr>\n",
        "    <tr>\n",
        "      <th>std</th>\n",
        "      <td>      NaN</td>\n",
        "      <td>      NaN</td>\n",
        "    </tr>\n",
        "    <tr>\n",
        "      <th>min</th>\n",
        "      <td>-0.352005</td>\n",
        "      <td> 0.591673</td>\n",
        "    </tr>\n",
        "    <tr>\n",
        "      <th>25%</th>\n",
        "      <td>-0.352005</td>\n",
        "      <td> 0.591673</td>\n",
        "    </tr>\n",
        "    <tr>\n",
        "      <th>50%</th>\n",
        "      <td>-0.352005</td>\n",
        "      <td> 0.591673</td>\n",
        "    </tr>\n",
        "    <tr>\n",
        "      <th>75%</th>\n",
        "      <td>-0.352005</td>\n",
        "      <td> 0.591673</td>\n",
        "    </tr>\n",
        "    <tr>\n",
        "      <th>max</th>\n",
        "      <td>-0.352005</td>\n",
        "      <td> 0.591673</td>\n",
        "    </tr>\n",
        "    <tr>\n",
        "      <th rowspan=\"8\" valign=\"top\">two</th>\n",
        "      <th>count</th>\n",
        "      <td> 1.000000</td>\n",
        "      <td> 1.000000</td>\n",
        "    </tr>\n",
        "    <tr>\n",
        "      <th>mean</th>\n",
        "      <td> 0.655263</td>\n",
        "      <td> 0.254834</td>\n",
        "    </tr>\n",
        "    <tr>\n",
        "      <th>std</th>\n",
        "      <td>      NaN</td>\n",
        "      <td>      NaN</td>\n",
        "    </tr>\n",
        "    <tr>\n",
        "      <th>min</th>\n",
        "      <td> 0.655263</td>\n",
        "      <td> 0.254834</td>\n",
        "    </tr>\n",
        "    <tr>\n",
        "      <th>25%</th>\n",
        "      <td> 0.655263</td>\n",
        "      <td> 0.254834</td>\n",
        "    </tr>\n",
        "    <tr>\n",
        "      <th>50%</th>\n",
        "      <td> 0.655263</td>\n",
        "      <td> 0.254834</td>\n",
        "    </tr>\n",
        "    <tr>\n",
        "      <th>75%</th>\n",
        "      <td> 0.655263</td>\n",
        "      <td> 0.254834</td>\n",
        "    </tr>\n",
        "    <tr>\n",
        "      <th>max</th>\n",
        "      <td> 0.655263</td>\n",
        "      <td> 0.254834</td>\n",
        "    </tr>\n",
        "    <tr>\n",
        "      <th rowspan=\"24\" valign=\"top\">foo</th>\n",
        "      <th rowspan=\"8\" valign=\"top\">one</th>\n",
        "      <th>count</th>\n",
        "      <td> 2.000000</td>\n",
        "      <td> 2.000000</td>\n",
        "    </tr>\n",
        "    <tr>\n",
        "      <th>mean</th>\n",
        "      <td> 0.430095</td>\n",
        "      <td>-0.621893</td>\n",
        "    </tr>\n",
        "    <tr>\n",
        "      <th>std</th>\n",
        "      <td> 0.286132</td>\n",
        "      <td> 0.676700</td>\n",
        "    </tr>\n",
        "    <tr>\n",
        "      <th>min</th>\n",
        "      <td> 0.227769</td>\n",
        "      <td>-1.100392</td>\n",
        "    </tr>\n",
        "    <tr>\n",
        "      <th>25%</th>\n",
        "      <td> 0.328932</td>\n",
        "      <td>-0.861142</td>\n",
        "    </tr>\n",
        "    <tr>\n",
        "      <th>50%</th>\n",
        "      <td> 0.430095</td>\n",
        "      <td>-0.621893</td>\n",
        "    </tr>\n",
        "    <tr>\n",
        "      <th>75%</th>\n",
        "      <td> 0.531258</td>\n",
        "      <td>-0.382643</td>\n",
        "    </tr>\n",
        "    <tr>\n",
        "      <th>max</th>\n",
        "      <td> 0.632421</td>\n",
        "      <td>-0.143393</td>\n",
        "    </tr>\n",
        "    <tr>\n",
        "      <th rowspan=\"8\" valign=\"top\">three</th>\n",
        "      <th>count</th>\n",
        "      <td> 1.000000</td>\n",
        "      <td> 1.000000</td>\n",
        "    </tr>\n",
        "    <tr>\n",
        "      <th>mean</th>\n",
        "      <td>-0.622162</td>\n",
        "      <td>-0.307889</td>\n",
        "    </tr>\n",
        "    <tr>\n",
        "      <th>std</th>\n",
        "      <td>      NaN</td>\n",
        "      <td>      NaN</td>\n",
        "    </tr>\n",
        "    <tr>\n",
        "      <th>min</th>\n",
        "      <td>-0.622162</td>\n",
        "      <td>-0.307889</td>\n",
        "    </tr>\n",
        "    <tr>\n",
        "      <th>25%</th>\n",
        "      <td>-0.622162</td>\n",
        "      <td>-0.307889</td>\n",
        "    </tr>\n",
        "    <tr>\n",
        "      <th>50%</th>\n",
        "      <td>-0.622162</td>\n",
        "      <td>-0.307889</td>\n",
        "    </tr>\n",
        "    <tr>\n",
        "      <th>75%</th>\n",
        "      <td>-0.622162</td>\n",
        "      <td>-0.307889</td>\n",
        "    </tr>\n",
        "    <tr>\n",
        "      <th>max</th>\n",
        "      <td>-0.622162</td>\n",
        "      <td>-0.307889</td>\n",
        "    </tr>\n",
        "    <tr>\n",
        "      <th rowspan=\"8\" valign=\"top\">two</th>\n",
        "      <th>count</th>\n",
        "      <td> 2.000000</td>\n",
        "      <td> 2.000000</td>\n",
        "    </tr>\n",
        "    <tr>\n",
        "      <th>mean</th>\n",
        "      <td> 0.331118</td>\n",
        "      <td>-1.043525</td>\n",
        "    </tr>\n",
        "    <tr>\n",
        "      <th>std</th>\n",
        "      <td> 1.150927</td>\n",
        "      <td> 1.945533</td>\n",
        "    </tr>\n",
        "    <tr>\n",
        "      <th>min</th>\n",
        "      <td>-0.482710</td>\n",
        "      <td>-2.419224</td>\n",
        "    </tr>\n",
        "    <tr>\n",
        "      <th>25%</th>\n",
        "      <td>-0.075796</td>\n",
        "      <td>-1.731374</td>\n",
        "    </tr>\n",
        "    <tr>\n",
        "      <th>50%</th>\n",
        "      <td> 0.331118</td>\n",
        "      <td>-1.043525</td>\n",
        "    </tr>\n",
        "    <tr>\n",
        "      <th>75%</th>\n",
        "      <td> 0.738032</td>\n",
        "      <td>-0.355675</td>\n",
        "    </tr>\n",
        "    <tr>\n",
        "      <th>max</th>\n",
        "      <td> 1.144946</td>\n",
        "      <td> 0.332175</td>\n",
        "    </tr>\n",
        "  </tbody>\n",
        "</table>\n",
        "</div>"
       ],
       "metadata": {},
       "output_type": "pyout",
       "prompt_number": 258,
       "text": [
        "                        C         D\n",
        "A   B                              \n",
        "bar one   count  1.000000  1.000000\n",
        "          mean  -0.755529  0.871788\n",
        "          std         NaN       NaN\n",
        "          min   -0.755529  0.871788\n",
        "          25%   -0.755529  0.871788\n",
        "          50%   -0.755529  0.871788\n",
        "          75%   -0.755529  0.871788\n",
        "          max   -0.755529  0.871788\n",
        "    three count  1.000000  1.000000\n",
        "          mean  -0.352005  0.591673\n",
        "          std         NaN       NaN\n",
        "          min   -0.352005  0.591673\n",
        "          25%   -0.352005  0.591673\n",
        "          50%   -0.352005  0.591673\n",
        "          75%   -0.352005  0.591673\n",
        "          max   -0.352005  0.591673\n",
        "    two   count  1.000000  1.000000\n",
        "          mean   0.655263  0.254834\n",
        "          std         NaN       NaN\n",
        "          min    0.655263  0.254834\n",
        "          25%    0.655263  0.254834\n",
        "          50%    0.655263  0.254834\n",
        "          75%    0.655263  0.254834\n",
        "          max    0.655263  0.254834\n",
        "foo one   count  2.000000  2.000000\n",
        "          mean   0.430095 -0.621893\n",
        "          std    0.286132  0.676700\n",
        "          min    0.227769 -1.100392\n",
        "          25%    0.328932 -0.861142\n",
        "          50%    0.430095 -0.621893\n",
        "          75%    0.531258 -0.382643\n",
        "          max    0.632421 -0.143393\n",
        "    three count  1.000000  1.000000\n",
        "          mean  -0.622162 -0.307889\n",
        "          std         NaN       NaN\n",
        "          min   -0.622162 -0.307889\n",
        "          25%   -0.622162 -0.307889\n",
        "          50%   -0.622162 -0.307889\n",
        "          75%   -0.622162 -0.307889\n",
        "          max   -0.622162 -0.307889\n",
        "    two   count  2.000000  2.000000\n",
        "          mean   0.331118 -1.043525\n",
        "          std    1.150927  1.945533\n",
        "          min   -0.482710 -2.419224\n",
        "          25%   -0.075796 -1.731374\n",
        "          50%    0.331118 -1.043525\n",
        "          75%    0.738032 -0.355675\n",
        "          max    1.144946  0.332175"
       ]
      }
     ],
     "prompt_number": 258
    },
    {
     "cell_type": "code",
     "collapsed": false,
     "input": [
      "grouped = df.groupby('A')\n",
      "grouped.groups"
     ],
     "language": "python",
     "metadata": {},
     "outputs": [
      {
       "metadata": {},
       "output_type": "pyout",
       "prompt_number": 270,
       "text": [
        "{'bar': [1, 3, 5], 'foo': [0, 2, 4, 6, 7]}"
       ]
      }
     ],
     "prompt_number": 270
    },
    {
     "cell_type": "code",
     "collapsed": false,
     "input": [
      "grouped.agg([np.sum, np.mean, np.std]).reset_index()"
     ],
     "language": "python",
     "metadata": {},
     "outputs": [
      {
       "html": [
        "<div style=\"max-height:1000px;max-width:1500px;overflow:auto;\">\n",
        "<table border=\"1\" class=\"dataframe\">\n",
        "  <thead>\n",
        "    <tr>\n",
        "      <th></th>\n",
        "      <th>A</th>\n",
        "      <th colspan=\"3\" halign=\"left\">C</th>\n",
        "      <th colspan=\"3\" halign=\"left\">D</th>\n",
        "    </tr>\n",
        "    <tr>\n",
        "      <th></th>\n",
        "      <th></th>\n",
        "      <th>sum</th>\n",
        "      <th>mean</th>\n",
        "      <th>std</th>\n",
        "      <th>sum</th>\n",
        "      <th>mean</th>\n",
        "      <th>std</th>\n",
        "    </tr>\n",
        "  </thead>\n",
        "  <tbody>\n",
        "    <tr>\n",
        "      <th>0</th>\n",
        "      <td> bar</td>\n",
        "      <td>-0.452270</td>\n",
        "      <td>-0.150757</td>\n",
        "      <td> 0.726608</td>\n",
        "      <td> 1.718295</td>\n",
        "      <td> 0.572765</td>\n",
        "      <td> 0.308912</td>\n",
        "    </tr>\n",
        "    <tr>\n",
        "      <th>1</th>\n",
        "      <td> foo</td>\n",
        "      <td> 0.900263</td>\n",
        "      <td> 0.180053</td>\n",
        "      <td> 0.745107</td>\n",
        "      <td>-3.638724</td>\n",
        "      <td>-0.727745</td>\n",
        "      <td> 1.077166</td>\n",
        "    </tr>\n",
        "  </tbody>\n",
        "</table>\n",
        "</div>"
       ],
       "metadata": {},
       "output_type": "pyout",
       "prompt_number": 271,
       "text": [
        "     A         C                             D                    \n",
        "             sum      mean       std       sum      mean       std\n",
        "0  bar -0.452270 -0.150757  0.726608  1.718295  0.572765  0.308912\n",
        "1  foo  0.900263  0.180053  0.745107 -3.638724 -0.727745  1.077166"
       ]
      }
     ],
     "prompt_number": 271
    },
    {
     "cell_type": "code",
     "collapsed": false,
     "input": [
      "grouped['C'].agg([np.sum, np.mean, np.std]).reset_index()"
     ],
     "language": "python",
     "metadata": {},
     "outputs": [
      {
       "html": [
        "<div style=\"max-height:1000px;max-width:1500px;overflow:auto;\">\n",
        "<table border=\"1\" class=\"dataframe\">\n",
        "  <thead>\n",
        "    <tr style=\"text-align: right;\">\n",
        "      <th></th>\n",
        "      <th>A</th>\n",
        "      <th>sum</th>\n",
        "      <th>mean</th>\n",
        "      <th>std</th>\n",
        "    </tr>\n",
        "  </thead>\n",
        "  <tbody>\n",
        "    <tr>\n",
        "      <th>0</th>\n",
        "      <td> bar</td>\n",
        "      <td>-0.452270</td>\n",
        "      <td>-0.150757</td>\n",
        "      <td> 0.726608</td>\n",
        "    </tr>\n",
        "    <tr>\n",
        "      <th>1</th>\n",
        "      <td> foo</td>\n",
        "      <td> 0.900263</td>\n",
        "      <td> 0.180053</td>\n",
        "      <td> 0.745107</td>\n",
        "    </tr>\n",
        "  </tbody>\n",
        "</table>\n",
        "</div>"
       ],
       "metadata": {},
       "output_type": "pyout",
       "prompt_number": 272,
       "text": [
        "     A       sum      mean       std\n",
        "0  bar -0.452270 -0.150757  0.726608\n",
        "1  foo  0.900263  0.180053  0.745107"
       ]
      }
     ],
     "prompt_number": 272
    },
    {
     "cell_type": "code",
     "collapsed": false,
     "input": [
      "grouped['D'].agg({'Sum' : np.sum, 'Mean' : np.mean}).reset_index()"
     ],
     "language": "python",
     "metadata": {},
     "outputs": [
      {
       "html": [
        "<div style=\"max-height:1000px;max-width:1500px;overflow:auto;\">\n",
        "<table border=\"1\" class=\"dataframe\">\n",
        "  <thead>\n",
        "    <tr style=\"text-align: right;\">\n",
        "      <th></th>\n",
        "      <th>A</th>\n",
        "      <th>Sum</th>\n",
        "      <th>Mean</th>\n",
        "    </tr>\n",
        "  </thead>\n",
        "  <tbody>\n",
        "    <tr>\n",
        "      <th>0</th>\n",
        "      <td> bar</td>\n",
        "      <td> 1.718295</td>\n",
        "      <td> 0.572765</td>\n",
        "    </tr>\n",
        "    <tr>\n",
        "      <th>1</th>\n",
        "      <td> foo</td>\n",
        "      <td>-3.638724</td>\n",
        "      <td>-0.727745</td>\n",
        "    </tr>\n",
        "  </tbody>\n",
        "</table>\n",
        "</div>"
       ],
       "metadata": {},
       "output_type": "pyout",
       "prompt_number": 275,
       "text": [
        "     A       Sum      Mean\n",
        "0  bar  1.718295  0.572765\n",
        "1  foo -3.638724 -0.727745"
       ]
      }
     ],
     "prompt_number": 275
    },
    {
     "cell_type": "code",
     "collapsed": false,
     "input": [
      "grouped.agg([np.sum, np.mean, np.std]).reset_index()"
     ],
     "language": "python",
     "metadata": {},
     "outputs": [
      {
       "html": [
        "<div style=\"max-height:1000px;max-width:1500px;overflow:auto;\">\n",
        "<table border=\"1\" class=\"dataframe\">\n",
        "  <thead>\n",
        "    <tr>\n",
        "      <th></th>\n",
        "      <th>A</th>\n",
        "      <th colspan=\"3\" halign=\"left\">C</th>\n",
        "      <th colspan=\"3\" halign=\"left\">D</th>\n",
        "    </tr>\n",
        "    <tr>\n",
        "      <th></th>\n",
        "      <th></th>\n",
        "      <th>sum</th>\n",
        "      <th>mean</th>\n",
        "      <th>std</th>\n",
        "      <th>sum</th>\n",
        "      <th>mean</th>\n",
        "      <th>std</th>\n",
        "    </tr>\n",
        "  </thead>\n",
        "  <tbody>\n",
        "    <tr>\n",
        "      <th>0</th>\n",
        "      <td> bar</td>\n",
        "      <td>-0.452270</td>\n",
        "      <td>-0.150757</td>\n",
        "      <td> 0.726608</td>\n",
        "      <td> 1.718295</td>\n",
        "      <td> 0.572765</td>\n",
        "      <td> 0.308912</td>\n",
        "    </tr>\n",
        "    <tr>\n",
        "      <th>1</th>\n",
        "      <td> foo</td>\n",
        "      <td> 0.900263</td>\n",
        "      <td> 0.180053</td>\n",
        "      <td> 0.745107</td>\n",
        "      <td>-3.638724</td>\n",
        "      <td>-0.727745</td>\n",
        "      <td> 1.077166</td>\n",
        "    </tr>\n",
        "  </tbody>\n",
        "</table>\n",
        "</div>"
       ],
       "metadata": {},
       "output_type": "pyout",
       "prompt_number": 277,
       "text": [
        "     A         C                             D                    \n",
        "             sum      mean       std       sum      mean       std\n",
        "0  bar -0.452270 -0.150757  0.726608  1.718295  0.572765  0.308912\n",
        "1  foo  0.900263  0.180053  0.745107 -3.638724 -0.727745  1.077166"
       ]
      }
     ],
     "prompt_number": 277
    },
    {
     "cell_type": "code",
     "collapsed": false,
     "input": [
      "grouped.agg({'C' : np.sum, 'D' : lambda x: np.std(x, ddof=1)}).reset_index()"
     ],
     "language": "python",
     "metadata": {},
     "outputs": [
      {
       "html": [
        "<div style=\"max-height:1000px;max-width:1500px;overflow:auto;\">\n",
        "<table border=\"1\" class=\"dataframe\">\n",
        "  <thead>\n",
        "    <tr style=\"text-align: right;\">\n",
        "      <th></th>\n",
        "      <th>A</th>\n",
        "      <th>C</th>\n",
        "      <th>D</th>\n",
        "    </tr>\n",
        "  </thead>\n",
        "  <tbody>\n",
        "    <tr>\n",
        "      <th>0</th>\n",
        "      <td> bar</td>\n",
        "      <td>-0.452270</td>\n",
        "      <td> 0.308912</td>\n",
        "    </tr>\n",
        "    <tr>\n",
        "      <th>1</th>\n",
        "      <td> foo</td>\n",
        "      <td> 0.900263</td>\n",
        "      <td> 1.077166</td>\n",
        "    </tr>\n",
        "  </tbody>\n",
        "</table>\n",
        "</div>"
       ],
       "metadata": {},
       "output_type": "pyout",
       "prompt_number": 281,
       "text": [
        "     A         C         D\n",
        "0  bar -0.452270  0.308912\n",
        "1  foo  0.900263  1.077166"
       ]
      }
     ],
     "prompt_number": 281
    },
    {
     "cell_type": "code",
     "collapsed": false,
     "input": [
      "grouped.agg({'C' : 'sum', 'D' : 'std'}).reset_index()"
     ],
     "language": "python",
     "metadata": {},
     "outputs": [
      {
       "html": [
        "<div style=\"max-height:1000px;max-width:1500px;overflow:auto;\">\n",
        "<table border=\"1\" class=\"dataframe\">\n",
        "  <thead>\n",
        "    <tr style=\"text-align: right;\">\n",
        "      <th></th>\n",
        "      <th>A</th>\n",
        "      <th>C</th>\n",
        "      <th>D</th>\n",
        "    </tr>\n",
        "  </thead>\n",
        "  <tbody>\n",
        "    <tr>\n",
        "      <th>0</th>\n",
        "      <td> bar</td>\n",
        "      <td>-0.452270</td>\n",
        "      <td> 0.308912</td>\n",
        "    </tr>\n",
        "    <tr>\n",
        "      <th>1</th>\n",
        "      <td> foo</td>\n",
        "      <td> 0.900263</td>\n",
        "      <td> 1.077166</td>\n",
        "    </tr>\n",
        "  </tbody>\n",
        "</table>\n",
        "</div>"
       ],
       "metadata": {},
       "output_type": "pyout",
       "prompt_number": 282,
       "text": [
        "     A         C         D\n",
        "0  bar -0.452270  0.308912\n",
        "1  foo  0.900263  1.077166"
       ]
      }
     ],
     "prompt_number": 282
    },
    {
     "cell_type": "code",
     "collapsed": false,
     "input": [
      "df.groupby('A').sum().reset_index()"
     ],
     "language": "python",
     "metadata": {},
     "outputs": [
      {
       "html": [
        "<div style=\"max-height:1000px;max-width:1500px;overflow:auto;\">\n",
        "<table border=\"1\" class=\"dataframe\">\n",
        "  <thead>\n",
        "    <tr style=\"text-align: right;\">\n",
        "      <th></th>\n",
        "      <th>A</th>\n",
        "      <th>C</th>\n",
        "      <th>D</th>\n",
        "    </tr>\n",
        "  </thead>\n",
        "  <tbody>\n",
        "    <tr>\n",
        "      <th>0</th>\n",
        "      <td> bar</td>\n",
        "      <td>-0.452270</td>\n",
        "      <td> 1.718295</td>\n",
        "    </tr>\n",
        "    <tr>\n",
        "      <th>1</th>\n",
        "      <td> foo</td>\n",
        "      <td> 0.900263</td>\n",
        "      <td>-3.638724</td>\n",
        "    </tr>\n",
        "  </tbody>\n",
        "</table>\n",
        "</div>"
       ],
       "metadata": {},
       "output_type": "pyout",
       "prompt_number": 283,
       "text": [
        "     A         C         D\n",
        "0  bar -0.452270  1.718295\n",
        "1  foo  0.900263 -3.638724"
       ]
      }
     ],
     "prompt_number": 283
    },
    {
     "cell_type": "markdown",
     "metadata": {},
     "source": [
      "# Transformation"
     ]
    },
    {
     "cell_type": "code",
     "collapsed": false,
     "input": [
      "index = pd.date_range('10/1/1999', periods=1100)\n",
      "ts = pd.Series(np.random.normal(0.5, 2, 1100), index)\n",
      "print ts.head()\n",
      "ts = pd.rolling_mean(ts, 100, 100).dropna()\n",
      "print ts.head()"
     ],
     "language": "python",
     "metadata": {},
     "outputs": [
      {
       "output_type": "stream",
       "stream": "stdout",
       "text": [
        "1999-10-01   -0.897038\n",
        "1999-10-02   -3.218710\n",
        "1999-10-03   -2.404339\n",
        "1999-10-04   -1.599611\n",
        "1999-10-05   -1.453354\n",
        "Freq: D, dtype: float64\n",
        "2000-01-08    0.204654\n",
        "2000-01-09    0.222684\n",
        "2000-01-10    0.240081\n",
        "2000-01-11    0.279773\n",
        "2000-01-12    0.320368\n",
        "Freq: D, dtype: float64\n"
       ]
      }
     ],
     "prompt_number": 286
    },
    {
     "cell_type": "code",
     "collapsed": false,
     "input": [
      "ts.tail()"
     ],
     "language": "python",
     "metadata": {},
     "outputs": [
      {
       "metadata": {},
       "output_type": "pyout",
       "prompt_number": 290,
       "text": [
        "2002-09-30    0.641651\n",
        "2002-10-01    0.606286\n",
        "2002-10-02    0.637348\n",
        "2002-10-03    0.623423\n",
        "2002-10-04    0.611509\n",
        "Freq: D, dtype: float64"
       ]
      }
     ],
     "prompt_number": 290
    },
    {
     "cell_type": "code",
     "collapsed": false,
     "input": [
      "key = lambda x: x.year\n",
      "zscore = lambda x: (x - x.mean()) / x.std()\n",
      "transformed = ts.groupby(key).transform(zscore)"
     ],
     "language": "python",
     "metadata": {},
     "outputs": [],
     "prompt_number": 295
    },
    {
     "cell_type": "code",
     "collapsed": false,
     "input": [
      "grouped = ts.groupby(key)\n",
      "grouped.mean()"
     ],
     "language": "python",
     "metadata": {},
     "outputs": [
      {
       "metadata": {},
       "output_type": "pyout",
       "prompt_number": 296,
       "text": [
        "2000    0.430660\n",
        "2001    0.658088\n",
        "2002    0.525698\n",
        "dtype: float64"
       ]
      }
     ],
     "prompt_number": 296
    },
    {
     "cell_type": "code",
     "collapsed": false,
     "input": [
      "grouped.std()"
     ],
     "language": "python",
     "metadata": {},
     "outputs": [
      {
       "metadata": {},
       "output_type": "pyout",
       "prompt_number": 297,
       "text": [
        "2000    0.088895\n",
        "2001    0.098300\n",
        "2002    0.157117\n",
        "dtype: float64"
       ]
      }
     ],
     "prompt_number": 297
    },
    {
     "cell_type": "code",
     "collapsed": false,
     "input": [
      "grouped_trans = transformed.groupby(key)"
     ],
     "language": "python",
     "metadata": {},
     "outputs": [],
     "prompt_number": 298
    },
    {
     "cell_type": "code",
     "collapsed": false,
     "input": [
      "grouped_trans.mean()"
     ],
     "language": "python",
     "metadata": {},
     "outputs": [
      {
       "metadata": {},
       "output_type": "pyout",
       "prompt_number": 299,
       "text": [
        "2000    1.124449e-15\n",
        "2001    6.428267e-15\n",
        "2002   -3.755520e-16\n",
        "dtype: float64"
       ]
      }
     ],
     "prompt_number": 299
    },
    {
     "cell_type": "code",
     "collapsed": false,
     "input": [
      "grouped_trans.std()"
     ],
     "language": "python",
     "metadata": {},
     "outputs": [
      {
       "metadata": {},
       "output_type": "pyout",
       "prompt_number": 300,
       "text": [
        "2000    1\n",
        "2001    1\n",
        "2002    1\n",
        "dtype: float64"
       ]
      }
     ],
     "prompt_number": 300
    },
    {
     "cell_type": "code",
     "collapsed": false,
     "input": [
      "compare = pd.DataFrame({'Original': ts, 'Transformed': transformed})"
     ],
     "language": "python",
     "metadata": {},
     "outputs": [],
     "prompt_number": 301
    },
    {
     "cell_type": "code",
     "collapsed": false,
     "input": [
      "compare.plot()"
     ],
     "language": "python",
     "metadata": {},
     "outputs": [
      {
       "metadata": {},
       "output_type": "pyout",
       "prompt_number": 302,
       "text": [
        "<matplotlib.axes._subplots.AxesSubplot at 0x7f9f9acacb90>"
       ]
      },
      {
       "metadata": {},
       "output_type": "display_data",
       "png": "[encoded data removed]",
       "text": [
        "<matplotlib.figure.Figure at 0x7f9f9a6e5d10>"
       ]
      }
     ],
     "prompt_number": 302
    },
    {
     "cell_type": "code",
     "collapsed": false,
     "input": [],
     "language": "python",
     "metadata": {},
     "outputs": []
    }
   ],
   "metadata": {}
  }
 ]
}